{
 "cells": [
  {
   "cell_type": "markdown",
   "metadata": {},
   "source": [
    "IA & Data science (LU3IN0226) -- 2024-2025\n",
    "--------\n",
    "*&copy; Equipe pédagogique: Christophe Marsala, Olivier Schwander, Jean-Noël Vittaut.*\n"
   ]
  },
  {
   "cell_type": "markdown",
   "metadata": {},
   "source": [
    "# TD-TME 6 : Apprentissage pour le texte"
   ]
  },
  {
   "cell_type": "markdown",
   "metadata": {},
   "source": [
    "<font size=\"+1\" color=\"RED\"><b>[Q]</b></font> **Indiquer dans la boîte ci-dessous vos noms et prénoms :**"
   ]
  },
  {
   "cell_type": "markdown",
   "metadata": {},
   "source": [
    "Thibaut MARCQ"
   ]
  },
  {
   "cell_type": "markdown",
   "metadata": {},
   "source": [
    "<font color=\"RED\" size=\"+1\"><b>[Q]</b></font> **Renommer ce fichier ipython**\n",
    "\n",
    "Tout en haut de cette page, cliquer sur <tt>tme-05</tt> et rajouter à la suite de <tt>tme-05</tt> les noms des membres du binômes séparés par un tiret.\n",
    "\n",
    "<font color=\"RED\" size=\"+1\">IMPORTANT: soumission de votre fichier final</font>\n",
    "\n",
    "**Nom à donner au fichier à poster** : *tme-05-Nom1_Nom2.ipynb* \n",
    "- *Nom1* et *Nom2* : noms des membres du binôme\n",
    "- ne pas compresser ou faire une archive: il faut rendre le fichier ipython tel quel, éventuellement, si vous avez d'autres fichiers vous les rendez séparément.\n",
    "\n",
    "**Echancier pour la soumission de votre compte-rendu:**\n",
    "- le compte-rendu d'une séance doit être remis obligatoirement <font color=\"RED\">avant la séance suivante</font>.\n",
    "\n",
    "**Le compte-rendu est soumis sur la page Moodle.**"
   ]
  },
  {
   "cell_type": "code",
   "execution_count": 1,
   "metadata": {},
   "outputs": [
    {
     "name": "stdout",
     "output_type": "stream",
     "text": [
      "Version python et des librairies:\n",
      "\tPython  3.12.3 (main, Feb  4 2025, 14:48:35) [GCC 13.3.0]\n",
      "\tpandas:  2.2.3\n",
      "\tnumpy:  2.2.3\n",
      "\tmatplotlib:  3.10.1\n"
     ]
    }
   ],
   "source": [
    "# - - - - - - - - - - - - - - - - - -\n",
    "# imports utiles\n",
    "import numpy as np\n",
    "import pandas as pd\n",
    "import matplotlib.pyplot as plt\n",
    "import matplotlib as mtpl\n",
    "%matplotlib inline  \n",
    "\n",
    "import math\n",
    "import time\n",
    "import sys\n",
    "\n",
    "# Les instructions suivantes sont utiles pour recharger automatiquement \n",
    "# le code modifié dans les librairies externes\n",
    "%load_ext autoreload\n",
    "%autoreload 2\n",
    "\n",
    "# - - - - - - - - - - - - - - - - - -\n",
    "# Information sur l'environnent utilisé ici:\n",
    "print(\"Version python et des librairies:\")\n",
    "print(\"\\tPython \",sys.version)\n",
    "print(\"\\tpandas: \",pd.__version__)\n",
    "print(\"\\tnumpy: \",np.__version__)\n",
    "print(\"\\tmatplotlib: \",mtpl.__version__)"
   ]
  },
  {
   "cell_type": "code",
   "execution_count": 2,
   "metadata": {},
   "outputs": [],
   "source": [
    "# Importation de votre librairie iads:\n",
    "# La ligne suivante permet de préciser le chemin d'accès à la librairie iads\n",
    "import sys\n",
    "sys.path.append('../')   # iads doit être dans le répertoire père du répertoire courant !\n",
    "\n",
    "# Importation de la librairie iads\n",
    "import iads as iads\n",
    "\n",
    "# importation de Classifiers\n",
    "from iads import Classifiers as classif\n",
    "\n",
    "# importation de utils\n",
    "from iads import utils as ut\n",
    "\n",
    "# importation de evaluation\n",
    "from iads import evaluation as ev\n",
    "\n"
   ]
  },
  {
   "cell_type": "markdown",
   "metadata": {},
   "source": [
    "# Objectifs de ce TME\n",
    "\n",
    "<div class=\"alert alert-block alert-warning\">\n",
    "Ce TME a pour but d'implémenter des fonctions pour traiter un corpus textuel et un nouvel algorithme d'apprentissage vu dans le cours 6. \n",
    "\n",
    "Pour expérimenter, on utilise la base `SMS spam Collection` qui contient 5572 messages associés à 2 labels: `spam` et `ham`. \n",
    "</div>"
   ]
  },
  {
   "cell_type": "code",
   "execution_count": null,
   "metadata": {},
   "outputs": [
    {
     "data": {
      "application/vnd.microsoft.datawrangler.viewer.v0+json": {
       "columns": [
        {
         "name": "index",
         "rawType": "int64",
         "type": "integer"
        },
        {
         "name": "label",
         "rawType": "object",
         "type": "string"
        },
        {
         "name": "message",
         "rawType": "object",
         "type": "string"
        }
       ],
       "conversionMethod": "pd.DataFrame",
       "ref": "582cd581-59cc-4fde-9c2c-e36d8c480049",
       "rows": [
        [
         "0",
         "ham",
         "Go until jurong point  crazy.. Available only in bugis n great world la e buffet... Cine there got amore wat..."
        ],
        [
         "1",
         "ham",
         "Ok lar... Joking wif u oni..."
        ],
        [
         "2",
         "spam",
         "Free entry in 2 a wkly comp to win FA Cup final tkts 21st May 2005. Text FA to 87121 to receive entry question(std txt rate)T&C's apply 08452810075over18's"
        ],
        [
         "3",
         "ham",
         "U dun say so early hor... U c already then say..."
        ],
        [
         "4",
         "ham",
         "Nah I don't think he goes to usf  he lives around here though"
        ],
        [
         "5",
         "spam",
         "FreeMsg Hey there darling it's been 3 week's now and no word back! I'd like some fun you up for it still? Tb ok! XxX std chgs to send  å£1.50 to rcv"
        ],
        [
         "6",
         "ham",
         "Even my brother is not like to speak with me. They treat me like aids patent."
        ],
        [
         "7",
         "ham",
         "As per your request 'Melle Melle (Oru Minnaminunginte Nurungu Vettam)' has been set as your callertune for all Callers. Press *9 to copy your friends Callertune"
        ],
        [
         "8",
         "spam",
         "WINNER!! As a valued network customer you have been selected to receivea å£900 prize reward! To claim call 09061701461. Claim code KL341. Valid 12 hours only."
        ],
        [
         "9",
         "spam",
         "Had your mobile 11 months or more? U R entitled to Update to the latest colour mobiles with camera for Free! Call The Mobile Update Co FREE on 08002986030"
        ],
        [
         "10",
         "ham",
         "I'm gonna be home soon and i don't want to talk about this stuff anymore tonight  k? I've cried enough today."
        ],
        [
         "11",
         "spam",
         "SIX chances to win CASH! From 100 to 20 000 pounds txt> CSH11 and send to 87575. Cost 150p/day  6days  16+ TsandCs apply Reply HL 4 info"
        ],
        [
         "12",
         "spam",
         "URGENT! You have won a 1 week FREE membership in our å£100 000 Prize Jackpot! Txt the word: CLAIM to No: 81010 T&C www.dbuk.net LCCLTD POBOX 4403LDNW1A7RW18"
        ],
        [
         "13",
         "ham",
         "I've been searching for the right words to thank you for this breather. I promise i wont take your help for granted and will fulfil my promise. You have been wonderful and a blessing at all times."
        ],
        [
         "14",
         "ham",
         "I HAVE A DATE ON SUNDAY WITH WILL!!"
        ],
        [
         "15",
         "spam",
         "XXXMobileMovieClub: To use your credit  click the WAP link in the next txt message or click here>> http://wap. xxxmobilemovieclub.com?n=QJKGIGHJJGCBL"
        ],
        [
         "16",
         "ham",
         "Oh k...i'm watching here:)"
        ],
        [
         "17",
         "ham",
         "Eh u remember how 2 spell his name... Yes i did. He v naughty make until i v wet."
        ],
        [
         "18",
         "ham",
         "Fine if thatåÕs the way u feel. ThatåÕs the way its gota b"
        ],
        [
         "19",
         "spam",
         "England v Macedonia - dont miss the goals/team news. Txt ur national team to 87077 eg ENGLAND to 87077 Try:WALES  SCOTLAND 4txt/Ì¼1.20 POBOXox36504W45WQ 16+"
        ],
        [
         "20",
         "ham",
         "Is that seriously how you spell his name?"
        ],
        [
         "21",
         "ham",
         "I'm going to try for 2 months ha ha only joking"
        ],
        [
         "22",
         "ham",
         "So Ì_ pay first lar... Then when is da stock comin..."
        ],
        [
         "23",
         "ham",
         "Aft i finish my lunch then i go str down lor. Ard 3 smth lor. U finish ur lunch already?"
        ],
        [
         "24",
         "ham",
         "Ffffffffff. Alright no way I can meet up with you sooner?"
        ],
        [
         "25",
         "ham",
         "Just forced myself to eat a slice. I'm really not hungry tho. This sucks. Mark is getting worried. He knows I'm sick when I turn down pizza. Lol"
        ],
        [
         "26",
         "ham",
         "Lol your always so convincing."
        ],
        [
         "27",
         "ham",
         "Did you catch the bus ? Are you frying an egg ? Did you make a tea? Are you eating your mom's left over dinner ? Do you feel my Love ?"
        ],
        [
         "28",
         "ham",
         "I'm back &amp; we're packing the car now  I'll let you know if there's room"
        ],
        [
         "29",
         "ham",
         "Ahhh. Work. I vaguely remember that! What does it feel like? Lol"
        ],
        [
         "30",
         "ham",
         "Wait that's still not all that clear  were you not sure about me being sarcastic or that that's why x doesn't want to live with us"
        ],
        [
         "31",
         "ham",
         "Yeah he got in at 2 and was v apologetic. n had fallen out and she was actin like spoilt child and he got caught up in that. Till 2! But we won't go there! Not doing too badly cheers. You?"
        ],
        [
         "32",
         "ham",
         "K tell me anything about you."
        ],
        [
         "33",
         "ham",
         "For fear of fainting with the of all that housework you just did? Quick have a cuppa"
        ],
        [
         "34",
         "spam",
         "Thanks for your subscription to Ringtone UK your mobile will be charged å£5/month Please confirm by replying YES or NO. If you reply NO you will not be charged"
        ],
        [
         "35",
         "ham",
         "Yup... Ok i go home look at the timings then i msg Ì_ again... Xuhui going to learn on 2nd may too but her lesson is at 8am"
        ],
        [
         "36",
         "ham",
         "Oops  I'll let you know when my roommate's done"
        ],
        [
         "37",
         "ham",
         "I see the letter B on my car"
        ],
        [
         "38",
         "ham",
         "Anything lor... U decide..."
        ],
        [
         "39",
         "ham",
         "Hello! How's you and how did saturday go? I was just texting to see if you'd decided to do anything tomo. Not that i'm trying to invite myself or anything!"
        ],
        [
         "40",
         "ham",
         "Pls go ahead with watts. I just wanted to be sure. Do have a great weekend. Abiola"
        ],
        [
         "41",
         "ham",
         "Did I forget to tell you ? I want you   I need you  I crave you ... But most of all ... I love you my sweet Arabian steed ... Mmmmmm ... Yummy"
        ],
        [
         "42",
         "spam",
         "07732584351 - Rodger Burns - MSG = We tried to call you re your reply to our sms for a free nokia mobile + free camcorder. Please call now 08000930705 for delivery tomorrow"
        ],
        [
         "43",
         "ham",
         "WHO ARE YOU SEEING?"
        ],
        [
         "44",
         "ham",
         "Great! I hope you like your man well endowed. I am  &lt;#&gt;  inches..."
        ],
        [
         "45",
         "ham",
         "No calls..messages..missed calls"
        ],
        [
         "46",
         "ham",
         "Didn't you get hep b immunisation in nigeria."
        ],
        [
         "47",
         "ham",
         "Fair enough  anything going on?"
        ],
        [
         "48",
         "ham",
         "Yeah hopefully  if tyler can't do it I could maybe ask around a bit"
        ],
        [
         "49",
         "ham",
         "U don't know how stubborn I am. I didn't even want to go to the hospital. I kept telling Mark I'm not a weak sucker. Hospitals are for weak suckers."
        ]
       ],
       "shape": {
        "columns": 2,
        "rows": 5572
       }
      },
      "text/html": [
       "<div>\n",
       "<style scoped>\n",
       "    .dataframe tbody tr th:only-of-type {\n",
       "        vertical-align: middle;\n",
       "    }\n",
       "\n",
       "    .dataframe tbody tr th {\n",
       "        vertical-align: top;\n",
       "    }\n",
       "\n",
       "    .dataframe thead th {\n",
       "        text-align: right;\n",
       "    }\n",
       "</style>\n",
       "<table border=\"1\" class=\"dataframe\">\n",
       "  <thead>\n",
       "    <tr style=\"text-align: right;\">\n",
       "      <th></th>\n",
       "      <th>label</th>\n",
       "      <th>message</th>\n",
       "    </tr>\n",
       "  </thead>\n",
       "  <tbody>\n",
       "    <tr>\n",
       "      <th>0</th>\n",
       "      <td>ham</td>\n",
       "      <td>Go until jurong point  crazy.. Available only ...</td>\n",
       "    </tr>\n",
       "    <tr>\n",
       "      <th>1</th>\n",
       "      <td>ham</td>\n",
       "      <td>Ok lar... Joking wif u oni...</td>\n",
       "    </tr>\n",
       "    <tr>\n",
       "      <th>2</th>\n",
       "      <td>spam</td>\n",
       "      <td>Free entry in 2 a wkly comp to win FA Cup fina...</td>\n",
       "    </tr>\n",
       "    <tr>\n",
       "      <th>3</th>\n",
       "      <td>ham</td>\n",
       "      <td>U dun say so early hor... U c already then say...</td>\n",
       "    </tr>\n",
       "    <tr>\n",
       "      <th>4</th>\n",
       "      <td>ham</td>\n",
       "      <td>Nah I don't think he goes to usf  he lives aro...</td>\n",
       "    </tr>\n",
       "    <tr>\n",
       "      <th>...</th>\n",
       "      <td>...</td>\n",
       "      <td>...</td>\n",
       "    </tr>\n",
       "    <tr>\n",
       "      <th>5567</th>\n",
       "      <td>spam</td>\n",
       "      <td>This is the 2nd time we have tried 2 contact u...</td>\n",
       "    </tr>\n",
       "    <tr>\n",
       "      <th>5568</th>\n",
       "      <td>ham</td>\n",
       "      <td>Will Ì_ b going to esplanade fr home?</td>\n",
       "    </tr>\n",
       "    <tr>\n",
       "      <th>5569</th>\n",
       "      <td>ham</td>\n",
       "      <td>Pity  * was in mood for that. So...any other s...</td>\n",
       "    </tr>\n",
       "    <tr>\n",
       "      <th>5570</th>\n",
       "      <td>ham</td>\n",
       "      <td>The guy did some bitching but I acted like i'd...</td>\n",
       "    </tr>\n",
       "    <tr>\n",
       "      <th>5571</th>\n",
       "      <td>ham</td>\n",
       "      <td>Rofl. Its true to its name</td>\n",
       "    </tr>\n",
       "  </tbody>\n",
       "</table>\n",
       "<p>5572 rows × 2 columns</p>\n",
       "</div>"
      ],
      "text/plain": [
       "     label                                            message\n",
       "0      ham  Go until jurong point  crazy.. Available only ...\n",
       "1      ham                      Ok lar... Joking wif u oni...\n",
       "2     spam  Free entry in 2 a wkly comp to win FA Cup fina...\n",
       "3      ham  U dun say so early hor... U c already then say...\n",
       "4      ham  Nah I don't think he goes to usf  he lives aro...\n",
       "...    ...                                                ...\n",
       "5567  spam  This is the 2nd time we have tried 2 contact u...\n",
       "5568   ham              Will Ì_ b going to esplanade fr home?\n",
       "5569   ham  Pity  * was in mood for that. So...any other s...\n",
       "5570   ham  The guy did some bitching but I acted like i'd...\n",
       "5571   ham                         Rofl. Its true to its name\n",
       "\n",
       "[5572 rows x 2 columns]"
      ]
     },
     "execution_count": 3,
     "metadata": {},
     "output_type": "execute_result"
    }
   ],
   "source": [
    "# Chargement du dataset\n",
    "\n",
    "df_spam = pd.read_csv('data/spam.csv', sep='\\t', encoding = 'latin1')\n",
    "df_spam"
   ]
  },
  {
   "cell_type": "code",
   "execution_count": null,
   "metadata": {},
   "outputs": [
    {
     "data": {
      "application/vnd.microsoft.datawrangler.viewer.v0+json": {
       "columns": [
        {
         "name": "index",
         "rawType": "int64",
         "type": "integer"
        },
        {
         "name": "label",
         "rawType": "object",
         "type": "string"
        },
        {
         "name": "message",
         "rawType": "object",
         "type": "string"
        }
       ],
       "conversionMethod": "pd.DataFrame",
       "ref": "8559647b-9f37-4bf7-8d1e-a5a0be735de0",
       "rows": [
        [
         "5443",
         "spam",
         "You have won a guaranteed 32000 award or maybe even å£1000 cash to claim ur award call free on 0800 ..... (18+). Its a legitimat efreefone number wat do u think???"
        ],
        [
         "3826",
         "spam",
         "Congratulations U can claim 2 VIP row A Tickets 2 C Blu in concert in November or Blu gift guaranteed Call 09061104276 to claim TS&Cs www.smsco.net costå£3.75max"
        ],
        [
         "803",
         "spam",
         "You have won a guaranteed å£200 award or even å£1000 cashto claim UR award call free on 08000407165 (18+) 2 stop getstop on 88222 PHP. RG21 4JX"
        ],
        [
         "3637",
         "spam",
         "Customer service announcement. We recently tried to make a delivery to you but were unable to do so  please call 07090298926 to re-schedule. Ref:9307622"
        ],
        [
         "2978",
         "spam",
         "Xmas Offer! Latest Motorola  SonyEricsson & Nokia & FREE Bluetooth or DVD! Double Mins & 1000 Txt on Orange. Call MobileUpd8 on 08000839402 or call2optout/4QF2"
        ],
        [
         "3640",
         "spam",
         "You can stop further club tones by replying \\STOP MIX\\\" See my-tone.com/enjoy. html for terms. Club tones cost GBP4.50/week. MFL \" PO Box 1146 MK45 2WT (2/3)\"\"\""
        ],
        [
         "942",
         "spam",
         "How about getting in touch with folks waiting for company? Just txt back your NAME and AGE to opt in! Enjoy the community (150p/SMS)"
        ],
        [
         "367",
         "spam",
         "Here is your discount code RP176781. To stop further messages reply stop. www.regalportfolio.co.uk. Customer Services 08717205546"
        ],
        [
         "1162",
         "spam",
         "Free entry in 2 a wkly comp to win FA Cup final tkts 21st May 2005. Text FA to 87121 to receive entry question(std txt rate)T&C's apply 08452810075over18's"
        ],
        [
         "3566",
         "spam",
         "Collect your VALENTINE'S weekend to PARIS inc Flight & Hotel + å£200 Prize guaranteed! Text: PARIS to No: 69101. www.rtf.sphosting.com"
        ],
        [
         "1136",
         "spam",
         "Dont forget you can place as many FREE Requests with 1stchoice.co.uk as you wish. For more Information call 08707808226."
        ],
        [
         "4142",
         "spam",
         "In The Simpsons Movie released in July 2007 name the band that died at the start of the film? A-Green Day  B-Blue Day  C-Red Day. (Send A  B or C)"
        ],
        [
         "1465",
         "spam",
         "YOU 07801543489 are guaranteed the latests Nokia Phone  a 40GB iPod MP3 player or a å£500 prize! Txt word:COLLECT to No:83355! TC-LLC NY-USA 150p/Mt msgrcvd18+"
        ],
        [
         "2908",
         "spam",
         "URGENT! Your Mobile number has been awarded with a å£2000 prize GUARANTEED. Call 09058094454 from land line. Claim 3030. Valid 12hrs only"
        ],
        [
         "2412",
         "spam",
         "I don't know u and u don't know me. Send CHAT to 86688 now and let's find each other! Only 150p/Msg rcvd. HG/Suite342/2Lands/Row/W1J6HL LDN. 18 years or over."
        ],
        [
         "2206",
         "spam",
         "URGENT! Your mobile No 07xxxxxxxxx won a å£2 000 bonus caller prize on 02/06/03! this is the 2nd attempt to reach YOU! call 09066362231 ASAP! BOX97N7QP  150PPM"
        ],
        [
         "1306",
         "spam",
         "Enjoy the jamster videosound gold club with your credits for 2 new videosounds+2 logos+musicnews! get more fun from jamster.co.uk! 16+only Help? call: 09701213186"
        ],
        [
         "2573",
         "spam",
         "Congrats 2 mobile 3G Videophones R yours. call 09063458130 now! videochat wid ur mates  play java games  Dload polypH music  noline rentl. bx420. ip4. 5we. 150p"
        ],
        [
         "1468",
         "spam",
         "Hi its LUCY Hubby at meetins all day Fri & I will B alone at hotel U fancy cumin over? Pls leave msg 2day 09099726395 Lucy x Callså£1/minMobsmoreLKPOBOX177HP51FL"
        ],
        [
         "4963",
         "spam",
         "Dear Voucher holder Have your next meal on us. Use the following link on your pc 2 enjoy a 2 4 1 dining experiencehttp://www.vouch4me.com/etlp/dining.asp"
        ],
        [
         "3562",
         "spam",
         "Auction round 4. The highest bid is now å£54. Next maximum bid is å£71. To bid  send BIDS e. g. 10 (to bid å£10) to 83383. Good luck."
        ],
        [
         "1273",
         "spam",
         "network operator. The service is free. For T & C's visit 80488.biz"
        ],
        [
         "454",
         "spam",
         "Loan for any purpose å£500 - å£75 000. Homeowners + Tenants welcome. Have you been previously refused? We can still help. Call Free 0800 1956669 or text back 'help'"
        ],
        [
         "4160",
         "spam",
         "Had your mobile 11 months or more? U R entitled to Update to the latest colour mobiles with camera for Free! Call The Mobile Update Co FREE on 08002986030"
        ],
        [
         "1673",
         "spam",
         "Monthly password for wap. mobsi.com is 391784. Use your wap phone not PC."
        ],
        [
         "4641",
         "spam",
         "You are being ripped off! Get your mobile content from www.clubmoby.com call 08717509990 poly/true/Pix/Ringtones/Games six downloads for only 3"
        ],
        [
         "1612",
         "spam",
         "RT-KIng Pro Video Club>> Need help? info@ringtoneking.co.uk or call 08701237397 You must be 16+ Club credits redeemable at www.ringtoneking.co.uk! Enjoy!"
        ],
        [
         "2668",
         "spam",
         "Wanna get laid 2nite? Want real Dogging locations sent direct to ur mobile? Join the UK's largest Dogging Network. Txt PARK to 69696 now! Nyt. ec2a. 3lp å£1.50/msg"
        ],
        [
         "2208",
         "spam",
         "URGENT!! Your 4* Costa Del Sol Holiday or å£5000 await collection. Call 09050090044 Now toClaim. SAE  TC s  POBox334  Stockport  SK38xh  Costå£1.50/pm  Max10mins"
        ],
        [
         "716",
         "spam",
         "+449071512431 URGENT! This is the 2nd attempt to contact U!U have WON å£1250 CALL 09071512433 b4 050703 T&CsBCM4235WC1N3XX. callcost 150ppm mobilesvary. maxå£7. 50"
        ],
        [
         "2307",
         "spam",
         "WIN a year supply of CDs 4 a store of ur choice worth å£500 & enter our å£100 Weekly draw txt MUSIC to 87066 Ts&Cs www.Ldew.com.subs16+1win150ppmx3"
        ],
        [
         "1535",
         "spam",
         "You have won a Nokia 7250i. This is what you get when you win our FREE auction. To take part send Nokia to 86021 now. HG/Suite342/2Lands Row/W1JHL 16+"
        ],
        [
         "4278",
         "spam",
         "URGENT. Important information for 02 user. Today is your lucky day! 2 find out why   log onto http://www.urawinner.com there is a fantastic surprise awaiting you !"
        ],
        [
         "4014",
         "spam",
         "You will be receiving this week's Triple Echo ringtone shortly. Enjoy it!"
        ],
        [
         "3389",
         "spam",
         "Please CALL 08712402972 immediately as there is an urgent message waiting for you"
        ],
        [
         "3358",
         "spam",
         "Sorry I missed your call let's talk when you have the time. I'm on 07090201529"
        ],
        [
         "470",
         "spam",
         "okmail: Dear Dave this is your final notice to collect your 4* Tenerife Holiday or #5000 CASH award! Call 09061743806 from landline. TCs SAE Box326 CW25WX 150ppm"
        ],
        [
         "5025",
         "spam",
         "Ur cash-balance is currently 500 pounds - to maximize ur cash-in now send GO to 86688 only 150p/meg. CC: 08718720201 HG/Suite342/2lands Row/W1j6HL"
        ],
        [
         "4110",
         "spam",
         "URGENT! Your Mobile number has been awarded a <UKP>2000 prize GUARANTEED. Call 09061790125 from landline. Claim 3030. Valid 12hrs only 150ppm"
        ],
        [
         "5278",
         "spam",
         "URGENT! Your Mobile number has been awarded with a å£2000 prize GUARANTEED. Call 09061790126 from land line. Claim 3030. Valid 12hrs only 150ppm"
        ],
        [
         "1506",
         "spam",
         "Thanks for the Vote. Now sing along with the stars with Karaoke on your mobile. For a FREE link just reply with SING now."
        ],
        [
         "2939",
         "spam",
         "You have 1 new message. Please call 08712400200."
        ],
        [
         "5381",
         "spam",
         "You have 1 new message. Call 0207-083-6089"
        ],
        [
         "783",
         "spam",
         "You have an important customer service announcement from PREMIER. Call FREEPHONE 0800 542 0578 now!"
        ],
        [
         "4796",
         "spam",
         "Santa calling! Would your little ones like a call from Santa Xmas Eve? Call 09077818151 to book you time. Calls1.50ppm last 3mins 30s T&C www.santacalling.com"
        ],
        [
         "2342",
         "spam",
         "Double your mins & txts on Orange or 1/2 price linerental - Motorola and SonyEricsson with B/Tooth FREE-Nokia FREE Call MobileUpd8 on 08000839402 or2optout/HV9D"
        ],
        [
         "2766",
         "spam",
         "Married local women looking for discreet action now! 5 real matches instantly to your phone. Text MATCH to 69969 Msg cost 150p 2 stop txt stop BCMSFWC1N3XX"
        ],
        [
         "750",
         "spam",
         "Do you realize that in about 40 years  we'll have thousands of old ladies running around with tattoos?"
        ],
        [
         "5196",
         "spam",
         "Spook up your mob with a Halloween collection of a logo & pic message plus a free eerie tone  txt CARD SPOOK to 8007 zed 08701417012150p per logo/pic "
        ],
        [
         "1892",
         "spam",
         "CALL 09090900040 & LISTEN TO EXTREME DIRTY LIVE CHAT GOING ON IN THE OFFICE RIGHT NOW TOTAL PRIVACY NO ONE KNOWS YOUR [sic] LISTENING 60P MIN 24/7MP 0870753331018+"
        ]
       ],
       "shape": {
        "columns": 2,
        "rows": 556
       }
      },
      "text/html": [
       "<div>\n",
       "<style scoped>\n",
       "    .dataframe tbody tr th:only-of-type {\n",
       "        vertical-align: middle;\n",
       "    }\n",
       "\n",
       "    .dataframe tbody tr th {\n",
       "        vertical-align: top;\n",
       "    }\n",
       "\n",
       "    .dataframe thead th {\n",
       "        text-align: right;\n",
       "    }\n",
       "</style>\n",
       "<table border=\"1\" class=\"dataframe\">\n",
       "  <thead>\n",
       "    <tr style=\"text-align: right;\">\n",
       "      <th></th>\n",
       "      <th>label</th>\n",
       "      <th>message</th>\n",
       "    </tr>\n",
       "  </thead>\n",
       "  <tbody>\n",
       "    <tr>\n",
       "      <th>5443</th>\n",
       "      <td>spam</td>\n",
       "      <td>You have won a guaranteed 32000 award or maybe...</td>\n",
       "    </tr>\n",
       "    <tr>\n",
       "      <th>3826</th>\n",
       "      <td>spam</td>\n",
       "      <td>Congratulations U can claim 2 VIP row A Ticket...</td>\n",
       "    </tr>\n",
       "    <tr>\n",
       "      <th>803</th>\n",
       "      <td>spam</td>\n",
       "      <td>You have won a guaranteed å£200 award or even ...</td>\n",
       "    </tr>\n",
       "    <tr>\n",
       "      <th>3637</th>\n",
       "      <td>spam</td>\n",
       "      <td>Customer service announcement. We recently tri...</td>\n",
       "    </tr>\n",
       "    <tr>\n",
       "      <th>2978</th>\n",
       "      <td>spam</td>\n",
       "      <td>Xmas Offer! Latest Motorola  SonyEricsson &amp; No...</td>\n",
       "    </tr>\n",
       "    <tr>\n",
       "      <th>...</th>\n",
       "      <td>...</td>\n",
       "      <td>...</td>\n",
       "    </tr>\n",
       "    <tr>\n",
       "      <th>2925</th>\n",
       "      <td>ham</td>\n",
       "      <td>Im done. Just studyn in library</td>\n",
       "    </tr>\n",
       "    <tr>\n",
       "      <th>3192</th>\n",
       "      <td>ham</td>\n",
       "      <td>I will lick up every drop :) are you ready to ...</td>\n",
       "    </tr>\n",
       "    <tr>\n",
       "      <th>2051</th>\n",
       "      <td>ham</td>\n",
       "      <td>Hey darlin.. i can pick u up at college if u t...</td>\n",
       "    </tr>\n",
       "    <tr>\n",
       "      <th>235</th>\n",
       "      <td>ham</td>\n",
       "      <td>I have printed it oh. So  &amp;lt;#&amp;gt;  come upst...</td>\n",
       "    </tr>\n",
       "    <tr>\n",
       "      <th>5011</th>\n",
       "      <td>ham</td>\n",
       "      <td>U attend ur driving lesson how many times a wk...</td>\n",
       "    </tr>\n",
       "  </tbody>\n",
       "</table>\n",
       "<p>556 rows × 2 columns</p>\n",
       "</div>"
      ],
      "text/plain": [
       "     label                                            message\n",
       "5443  spam  You have won a guaranteed 32000 award or maybe...\n",
       "3826  spam  Congratulations U can claim 2 VIP row A Ticket...\n",
       "803   spam  You have won a guaranteed å£200 award or even ...\n",
       "3637  spam  Customer service announcement. We recently tri...\n",
       "2978  spam  Xmas Offer! Latest Motorola  SonyEricsson & No...\n",
       "...    ...                                                ...\n",
       "2925   ham                    Im done. Just studyn in library\n",
       "3192   ham  I will lick up every drop :) are you ready to ...\n",
       "2051   ham  Hey darlin.. i can pick u up at college if u t...\n",
       "235    ham  I have printed it oh. So  &lt;#&gt;  come upst...\n",
       "5011   ham  U attend ur driving lesson how many times a wk...\n",
       "\n",
       "[556 rows x 2 columns]"
      ]
     },
     "execution_count": 15,
     "metadata": {},
     "output_type": "execute_result"
    }
   ],
   "source": [
    "# Plus petit échantillon de données (10% spam/ham)\n",
    "\n",
    "spam = df_spam[df_spam['label']== 'spam']\n",
    "ham = df_spam[df_spam['label']== 'ham']\n",
    "idx_spam = int(0.1*len(spam))\n",
    "idx_ham = int(0.1*len(ham))\n",
    "\n",
    "sample_spam = spam.sample(n=idx_spam)\n",
    "sample_ham = ham.sample(n=idx_ham)\n",
    "\n",
    "df_sample = pd.concat([sample_spam, sample_ham])\n",
    "\n",
    "df_sample"
   ]
  },
  {
   "cell_type": "code",
   "execution_count": 4,
   "metadata": {},
   "outputs": [
    {
     "data": {
      "text/plain": [
       "array(['ham', 'spam'], dtype=object)"
      ]
     },
     "execution_count": 4,
     "metadata": {},
     "output_type": "execute_result"
    }
   ],
   "source": [
    "# Valeurs du label:\n",
    "df_spam['label'].unique()"
   ]
  },
  {
   "cell_type": "markdown",
   "metadata": {},
   "source": [
    "<font color=\"RED\" size=\"+1\"><b>[Q]</b></font> En utilisant `value_counts` (voir la doc de la librairie pandas), afficher le nombre d'exemples de chaque classe dans la base."
   ]
  },
  {
   "cell_type": "code",
   "execution_count": 7,
   "metadata": {},
   "outputs": [
    {
     "name": "stderr",
     "output_type": "stream",
     "text": [
      "/tmp/ipykernel_6009/3845764354.py:1: FutureWarning: pandas.value_counts is deprecated and will be removed in a future version. Use pd.Series(obj).value_counts() instead.\n",
      "  pd.value_counts(df_spam['label'])\n"
     ]
    },
    {
     "data": {
      "text/plain": [
       "label\n",
       "ham     4825\n",
       "spam     747\n",
       "Name: count, dtype: int64"
      ]
     },
     "execution_count": 7,
     "metadata": {},
     "output_type": "execute_result"
    }
   ],
   "source": [
    "pd.value_counts(df_spam['label'])"
   ]
  },
  {
   "cell_type": "markdown",
   "metadata": {},
   "source": [
    "## Prétraitements"
   ]
  },
  {
   "cell_type": "markdown",
   "metadata": {},
   "source": [
    "Pour traiter les données textuelles (colonne `message` du dataset), on utilise les fonctions de la librairie `string`."
   ]
  },
  {
   "cell_type": "code",
   "execution_count": 16,
   "metadata": {},
   "outputs": [
    {
     "name": "stdout",
     "output_type": "stream",
     "text": [
      "Caractères de ponctuations :  !\"#$%&'()*+,-./:;<=>?@[\\]^_`{|}~\n",
      "Mise en minuscules (pour homogénéiser l'écriture :  may the force be with you!\n",
      "Découper une phrase avec espace (retourne une liste): ['LU3IN026', 'est', \"l'UE\", \"d'IA\", 'et', 'Sciences', 'des', 'données.']\n",
      "Découper une phrase avec apostrophe (retourne une liste): ['LU3IN026 est l', 'UE d', 'IA et Sciences des données.']\n"
     ]
    }
   ],
   "source": [
    "import string\n",
    "\n",
    "print(\"Caractères de ponctuations : \", string.punctuation)\n",
    "\n",
    "print(\"Mise en minuscules (pour homogénéiser l'écriture : \", \"May the Force be with you!\".lower())\n",
    "\n",
    "print(\"Découper une phrase avec espace (retourne une liste):\", \"LU3IN026 est l'UE d'IA et Sciences des données.\".split())\n",
    "\n",
    "print(\"Découper une phrase avec apostrophe (retourne une liste):\", \"LU3IN026 est l'UE d'IA et Sciences des données.\".split(\"'\"))\n",
    "\n"
   ]
  },
  {
   "cell_type": "code",
   "execution_count": 17,
   "metadata": {},
   "outputs": [
    {
     "data": {
      "text/plain": [
       "['Ok', 'lar...', 'Joking', 'wif', 'u', 'oni...']"
      ]
     },
     "execution_count": 17,
     "metadata": {},
     "output_type": "execute_result"
    }
   ],
   "source": [
    "# Avec le dataframe du dataset:\n",
    "df_spam['message'][1].split()"
   ]
  },
  {
   "cell_type": "code",
   "execution_count": 18,
   "metadata": {},
   "outputs": [],
   "source": [
    "# Certains éléments d'une phrase ne sont pas utiles pour le traitement, par exemple en anglais:\n",
    "mots_inutiles = ['i', 'me', 'my', 'myself', 'we', 'our', 'ours', 'ourselves', 'you', \"you're\", \"you've\", \"you'll\", \"you'd\", 'your', 'yours', 'yourself', 'yourselves', 'he', 'him', 'his', 'himself', 'she', \"she's\", 'her', 'hers', 'herself', 'it', \"it's\", 'its', 'itself', 'they', 'them', 'their', 'theirs', 'themselves', 'what', 'which', 'who', 'whom', 'this', 'that', \"that'll\", 'these', 'those', 'am', 'is', 'are', 'was', 'were', 'be', 'been', 'being', 'have', 'has', 'had', 'having', 'do', 'does', 'did', 'doing', 'a', 'an', 'the', 'and', 'but', 'if', 'or', 'because', 'as', 'until', 'while', 'of', 'at', 'by', 'for', 'with', 'about', 'against', 'between', 'into', 'through', 'during', 'before', 'after', 'above', 'below', 'to', 'from', 'up', 'down', 'in', 'out', 'on', 'off', 'over', 'under', 'again', 'further', 'then', 'once', 'here', 'there', 'when', 'where', 'why', 'how', 'all', 'any', 'both', 'each', 'few', 'more', 'most', 'other', 'some', 'such', 'no', 'nor', 'not', 'only', 'own', 'same', 'so', 'than', 'too', 'very', 's', 't', 'can', 'will', 'just', 'don', \"don't\", 'should', \"should've\", 'now', 'd', 'll', 'm', 'o', 're', 've', 'y', 'ain', 'aren', \"aren't\", 'couldn', \"couldn't\", 'didn', \"didn't\", 'doesn', \"doesn't\", 'hadn', \"hadn't\", 'hasn', \"hasn't\", 'haven', \"haven't\", 'isn', \"isn't\", 'ma', 'mightn', \"mightn't\", 'mustn', \"mustn't\", 'needn', \"needn't\", 'shan', \"shan't\", 'shouldn', \"shouldn't\", 'wasn', \"wasn't\", 'weren', \"weren't\", 'won', \"won't\", 'wouldn', \"wouldn't\"]"
   ]
  },
  {
   "cell_type": "markdown",
   "metadata": {},
   "source": [
    "<font color=\"RED\" size=\"+1\"><b>[Q]</b></font> Ecrire la fonction `nettoyage` qui prend une chaîne de caractères et rend la chaîne après nettoyage: 1) mise en minuscules 2) remplacement des caractères de ponctuation par un espace (SAUF l'apostrophe qui doit rester car elle va être utilisée pour les mots inutiles).\n"
   ]
  },
  {
   "cell_type": "code",
   "execution_count": 19,
   "metadata": {},
   "outputs": [],
   "source": [
    "def nettoyage(message : str):\n",
    "    \"\"\"\n",
    "    input : \n",
    "        -chaine de caractères\n",
    "    returns : \n",
    "        - chaine mise en minuscule, ponctuation mise en espaces (sauf apostrophe)\n",
    "    \"\"\"\n",
    "\n",
    "    res = message.lower()\n",
    "    for lettre in res :\n",
    "        if lettre in string.punctuation:\n",
    "            if lettre!=\"'\":\n",
    "                res = res.replace(lettre, ' ')\n",
    "    return res\n",
    "    "
   ]
  },
  {
   "cell_type": "code",
   "execution_count": 20,
   "metadata": {},
   "outputs": [
    {
     "data": {
      "text/plain": [
       "\"lu3in026 est l'ue d'ia et sciences des données \""
      ]
     },
     "execution_count": 20,
     "metadata": {},
     "output_type": "execute_result"
    }
   ],
   "source": [
    "nettoyage(\"LU3IN026 est l'UE d'IA et Sciences des données.\")"
   ]
  },
  {
   "cell_type": "code",
   "execution_count": 21,
   "metadata": {},
   "outputs": [
    {
     "data": {
      "text/plain": [
       "'ok lar    joking wif u oni   '"
      ]
     },
     "execution_count": 21,
     "metadata": {},
     "output_type": "execute_result"
    }
   ],
   "source": [
    "nettoyage(df_spam['message'][1])"
   ]
  },
  {
   "cell_type": "code",
   "execution_count": 22,
   "metadata": {},
   "outputs": [
    {
     "data": {
      "text/plain": [
       "['ok', 'lar', 'joking', 'wif', 'u', 'oni']"
      ]
     },
     "execution_count": 22,
     "metadata": {},
     "output_type": "execute_result"
    }
   ],
   "source": [
    "nettoyage(df_spam['message'][1]).split()"
   ]
  },
  {
   "cell_type": "markdown",
   "metadata": {},
   "source": [
    "<font color=\"RED\" size=\"+1\"><b>[Q]</b></font> Ecrire la fonction `text2vect` qui prend une chaîne de caractères ainsi qu'une liste de mots inutiles et rend la liste composée par les mots de cette chaîne obtenus, après son nettoyage et après avoir enlevé les mots inutiles.\n",
    "\n"
   ]
  },
  {
   "cell_type": "code",
   "execution_count": 33,
   "metadata": {},
   "outputs": [],
   "source": [
    "def text2vect(message:str, inutiles:str):\n",
    "    \"\"\"\n",
    "    input: chaine de caractères\n",
    "    output: chaine sans les mots de inutiles\n",
    "    \"\"\"\n",
    "    res = []\n",
    "    cleaned = nettoyage(message)\n",
    "    for mot in cleaned.split() : \n",
    "        if mot not in inutiles :\n",
    "            res.append(mot)\n",
    "    return res"
   ]
  },
  {
   "cell_type": "code",
   "execution_count": 34,
   "metadata": {},
   "outputs": [
    {
     "data": {
      "text/plain": [
       "['may', 'force']"
      ]
     },
     "execution_count": 34,
     "metadata": {},
     "output_type": "execute_result"
    }
   ],
   "source": [
    "text2vect(\"May the Force be with you!\",mots_inutiles)"
   ]
  },
  {
   "cell_type": "code",
   "execution_count": 35,
   "metadata": {},
   "outputs": [
    {
     "data": {
      "text/plain": [
       "['ok', 'lar', 'joking', 'wif', 'u', 'oni']"
      ]
     },
     "execution_count": 35,
     "metadata": {},
     "output_type": "execute_result"
    }
   ],
   "source": [
    "text2vect(df_spam['message'][1],mots_inutiles)"
   ]
  },
  {
   "cell_type": "code",
   "execution_count": 36,
   "metadata": {},
   "outputs": [
    {
     "data": {
      "text/plain": [
       "['pass']"
      ]
     },
     "execution_count": 36,
     "metadata": {},
     "output_type": "execute_result"
    }
   ],
   "source": [
    "text2vect(\"You shan't not pass!\",mots_inutiles)"
   ]
  },
  {
   "cell_type": "markdown",
   "metadata": {},
   "source": [
    "<font color=\"RED\" size=\"+1\"><b>[Q]</b></font> Ajouter une nouvelle colonne de nom `les_mots` au dataframe `df_spam` pour laquelle chaque ligne contient le résultat de l'application de `text2vect` sur le message de l'exemple correspondant.\n"
   ]
  },
  {
   "cell_type": "code",
   "execution_count": 39,
   "metadata": {},
   "outputs": [
    {
     "data": {
      "application/vnd.microsoft.datawrangler.viewer.v0+json": {
       "columns": [
        {
         "name": "index",
         "rawType": "int64",
         "type": "integer"
        },
        {
         "name": "label",
         "rawType": "object",
         "type": "string"
        },
        {
         "name": "message",
         "rawType": "object",
         "type": "string"
        },
        {
         "name": "les_mots",
         "rawType": "object",
         "type": "unknown"
        }
       ],
       "conversionMethod": "pd.DataFrame",
       "ref": "089c0968-e5a3-4775-8e2b-15eb399d3799",
       "rows": [
        [
         "0",
         "ham",
         "Go until jurong point  crazy.. Available only in bugis n great world la e buffet... Cine there got amore wat...",
         "['go', 'jurong', 'point', 'crazy', 'available', 'bugis', 'n', 'great', 'world', 'la', 'e', 'buffet', 'cine', 'got', 'amore', 'wat']"
        ],
        [
         "1",
         "ham",
         "Ok lar... Joking wif u oni...",
         "['ok', 'lar', 'joking', 'wif', 'u', 'oni']"
        ],
        [
         "2",
         "spam",
         "Free entry in 2 a wkly comp to win FA Cup final tkts 21st May 2005. Text FA to 87121 to receive entry question(std txt rate)T&C's apply 08452810075over18's",
         "['free', 'entry', '2', 'wkly', 'comp', 'win', 'fa', 'cup', 'final', 'tkts', '21st', 'may', '2005', 'text', 'fa', '87121', 'receive', 'entry', 'question', 'std', 'txt', 'rate', \"c's\", 'apply', \"08452810075over18's\"]"
        ],
        [
         "3",
         "ham",
         "U dun say so early hor... U c already then say...",
         "['u', 'dun', 'say', 'early', 'hor', 'u', 'c', 'already', 'say']"
        ],
        [
         "4",
         "ham",
         "Nah I don't think he goes to usf  he lives around here though",
         "['nah', 'think', 'goes', 'usf', 'lives', 'around', 'though']"
        ],
        [
         "5",
         "spam",
         "FreeMsg Hey there darling it's been 3 week's now and no word back! I'd like some fun you up for it still? Tb ok! XxX std chgs to send  å£1.50 to rcv",
         "['freemsg', 'hey', 'darling', '3', \"week's\", 'word', 'back', \"i'd\", 'like', 'fun', 'still', 'tb', 'ok', 'xxx', 'std', 'chgs', 'send', 'å£1', '50', 'rcv']"
        ],
        [
         "6",
         "ham",
         "Even my brother is not like to speak with me. They treat me like aids patent.",
         "['even', 'brother', 'like', 'speak', 'treat', 'like', 'aids', 'patent']"
        ],
        [
         "7",
         "ham",
         "As per your request 'Melle Melle (Oru Minnaminunginte Nurungu Vettam)' has been set as your callertune for all Callers. Press *9 to copy your friends Callertune",
         "['per', 'request', \"'melle\", 'melle', 'oru', 'minnaminunginte', 'nurungu', 'vettam', \"'\", 'set', 'callertune', 'callers', 'press', '9', 'copy', 'friends', 'callertune']"
        ],
        [
         "8",
         "spam",
         "WINNER!! As a valued network customer you have been selected to receivea å£900 prize reward! To claim call 09061701461. Claim code KL341. Valid 12 hours only.",
         "['winner', 'valued', 'network', 'customer', 'selected', 'receivea', 'å£900', 'prize', 'reward', 'claim', 'call', '09061701461', 'claim', 'code', 'kl341', 'valid', '12', 'hours']"
        ],
        [
         "9",
         "spam",
         "Had your mobile 11 months or more? U R entitled to Update to the latest colour mobiles with camera for Free! Call The Mobile Update Co FREE on 08002986030",
         "['mobile', '11', 'months', 'u', 'r', 'entitled', 'update', 'latest', 'colour', 'mobiles', 'camera', 'free', 'call', 'mobile', 'update', 'co', 'free', '08002986030']"
        ],
        [
         "10",
         "ham",
         "I'm gonna be home soon and i don't want to talk about this stuff anymore tonight  k? I've cried enough today.",
         "[\"i'm\", 'gonna', 'home', 'soon', 'want', 'talk', 'stuff', 'anymore', 'tonight', 'k', \"i've\", 'cried', 'enough', 'today']"
        ],
        [
         "11",
         "spam",
         "SIX chances to win CASH! From 100 to 20 000 pounds txt> CSH11 and send to 87575. Cost 150p/day  6days  16+ TsandCs apply Reply HL 4 info",
         "['six', 'chances', 'win', 'cash', '100', '20', '000', 'pounds', 'txt', 'csh11', 'send', '87575', 'cost', '150p', 'day', '6days', '16', 'tsandcs', 'apply', 'reply', 'hl', '4', 'info']"
        ],
        [
         "12",
         "spam",
         "URGENT! You have won a 1 week FREE membership in our å£100 000 Prize Jackpot! Txt the word: CLAIM to No: 81010 T&C www.dbuk.net LCCLTD POBOX 4403LDNW1A7RW18",
         "['urgent', '1', 'week', 'free', 'membership', 'å£100', '000', 'prize', 'jackpot', 'txt', 'word', 'claim', '81010', 'c', 'www', 'dbuk', 'net', 'lccltd', 'pobox', '4403ldnw1a7rw18']"
        ],
        [
         "13",
         "ham",
         "I've been searching for the right words to thank you for this breather. I promise i wont take your help for granted and will fulfil my promise. You have been wonderful and a blessing at all times.",
         "[\"i've\", 'searching', 'right', 'words', 'thank', 'breather', 'promise', 'wont', 'take', 'help', 'granted', 'fulfil', 'promise', 'wonderful', 'blessing', 'times']"
        ],
        [
         "14",
         "ham",
         "I HAVE A DATE ON SUNDAY WITH WILL!!",
         "['date', 'sunday']"
        ],
        [
         "15",
         "spam",
         "XXXMobileMovieClub: To use your credit  click the WAP link in the next txt message or click here>> http://wap. xxxmobilemovieclub.com?n=QJKGIGHJJGCBL",
         "['xxxmobilemovieclub', 'use', 'credit', 'click', 'wap', 'link', 'next', 'txt', 'message', 'click', 'http', 'wap', 'xxxmobilemovieclub', 'com', 'n', 'qjkgighjjgcbl']"
        ],
        [
         "16",
         "ham",
         "Oh k...i'm watching here:)",
         "['oh', 'k', \"i'm\", 'watching']"
        ],
        [
         "17",
         "ham",
         "Eh u remember how 2 spell his name... Yes i did. He v naughty make until i v wet.",
         "['eh', 'u', 'remember', '2', 'spell', 'name', 'yes', 'v', 'naughty', 'make', 'v', 'wet']"
        ],
        [
         "18",
         "ham",
         "Fine if thatåÕs the way u feel. ThatåÕs the way its gota b",
         "['fine', 'thatåõs', 'way', 'u', 'feel', 'thatåõs', 'way', 'gota', 'b']"
        ],
        [
         "19",
         "spam",
         "England v Macedonia - dont miss the goals/team news. Txt ur national team to 87077 eg ENGLAND to 87077 Try:WALES  SCOTLAND 4txt/Ì¼1.20 POBOXox36504W45WQ 16+",
         "['england', 'v', 'macedonia', 'dont', 'miss', 'goals', 'team', 'news', 'txt', 'ur', 'national', 'team', '87077', 'eg', 'england', '87077', 'try', 'wales', 'scotland', '4txt', 'ì¼1', '20', 'poboxox36504w45wq', '16']"
        ],
        [
         "20",
         "ham",
         "Is that seriously how you spell his name?",
         "['seriously', 'spell', 'name']"
        ],
        [
         "21",
         "ham",
         "I'm going to try for 2 months ha ha only joking",
         "[\"i'm\", 'going', 'try', '2', 'months', 'ha', 'ha', 'joking']"
        ],
        [
         "22",
         "ham",
         "So Ì_ pay first lar... Then when is da stock comin...",
         "['ì', 'pay', 'first', 'lar', 'da', 'stock', 'comin']"
        ],
        [
         "23",
         "ham",
         "Aft i finish my lunch then i go str down lor. Ard 3 smth lor. U finish ur lunch already?",
         "['aft', 'finish', 'lunch', 'go', 'str', 'lor', 'ard', '3', 'smth', 'lor', 'u', 'finish', 'ur', 'lunch', 'already']"
        ],
        [
         "24",
         "ham",
         "Ffffffffff. Alright no way I can meet up with you sooner?",
         "['ffffffffff', 'alright', 'way', 'meet', 'sooner']"
        ],
        [
         "25",
         "ham",
         "Just forced myself to eat a slice. I'm really not hungry tho. This sucks. Mark is getting worried. He knows I'm sick when I turn down pizza. Lol",
         "['forced', 'eat', 'slice', \"i'm\", 'really', 'hungry', 'tho', 'sucks', 'mark', 'getting', 'worried', 'knows', \"i'm\", 'sick', 'turn', 'pizza', 'lol']"
        ],
        [
         "26",
         "ham",
         "Lol your always so convincing.",
         "['lol', 'always', 'convincing']"
        ],
        [
         "27",
         "ham",
         "Did you catch the bus ? Are you frying an egg ? Did you make a tea? Are you eating your mom's left over dinner ? Do you feel my Love ?",
         "['catch', 'bus', 'frying', 'egg', 'make', 'tea', 'eating', \"mom's\", 'left', 'dinner', 'feel', 'love']"
        ],
        [
         "28",
         "ham",
         "I'm back &amp; we're packing the car now  I'll let you know if there's room",
         "[\"i'm\", 'back', 'amp', \"we're\", 'packing', 'car', \"i'll\", 'let', 'know', \"there's\", 'room']"
        ],
        [
         "29",
         "ham",
         "Ahhh. Work. I vaguely remember that! What does it feel like? Lol",
         "['ahhh', 'work', 'vaguely', 'remember', 'feel', 'like', 'lol']"
        ],
        [
         "30",
         "ham",
         "Wait that's still not all that clear  were you not sure about me being sarcastic or that that's why x doesn't want to live with us",
         "['wait', \"that's\", 'still', 'clear', 'sure', 'sarcastic', \"that's\", 'x', 'want', 'live', 'us']"
        ],
        [
         "31",
         "ham",
         "Yeah he got in at 2 and was v apologetic. n had fallen out and she was actin like spoilt child and he got caught up in that. Till 2! But we won't go there! Not doing too badly cheers. You?",
         "['yeah', 'got', '2', 'v', 'apologetic', 'n', 'fallen', 'actin', 'like', 'spoilt', 'child', 'got', 'caught', 'till', '2', 'go', 'badly', 'cheers']"
        ],
        [
         "32",
         "ham",
         "K tell me anything about you.",
         "['k', 'tell', 'anything']"
        ],
        [
         "33",
         "ham",
         "For fear of fainting with the of all that housework you just did? Quick have a cuppa",
         "['fear', 'fainting', 'housework', 'quick', 'cuppa']"
        ],
        [
         "34",
         "spam",
         "Thanks for your subscription to Ringtone UK your mobile will be charged å£5/month Please confirm by replying YES or NO. If you reply NO you will not be charged",
         "['thanks', 'subscription', 'ringtone', 'uk', 'mobile', 'charged', 'å£5', 'month', 'please', 'confirm', 'replying', 'yes', 'reply', 'charged']"
        ],
        [
         "35",
         "ham",
         "Yup... Ok i go home look at the timings then i msg Ì_ again... Xuhui going to learn on 2nd may too but her lesson is at 8am",
         "['yup', 'ok', 'go', 'home', 'look', 'timings', 'msg', 'ì', 'xuhui', 'going', 'learn', '2nd', 'may', 'lesson', '8am']"
        ],
        [
         "36",
         "ham",
         "Oops  I'll let you know when my roommate's done",
         "['oops', \"i'll\", 'let', 'know', \"roommate's\", 'done']"
        ],
        [
         "37",
         "ham",
         "I see the letter B on my car",
         "['see', 'letter', 'b', 'car']"
        ],
        [
         "38",
         "ham",
         "Anything lor... U decide...",
         "['anything', 'lor', 'u', 'decide']"
        ],
        [
         "39",
         "ham",
         "Hello! How's you and how did saturday go? I was just texting to see if you'd decided to do anything tomo. Not that i'm trying to invite myself or anything!",
         "['hello', \"how's\", 'saturday', 'go', 'texting', 'see', 'decided', 'anything', 'tomo', \"i'm\", 'trying', 'invite', 'anything']"
        ],
        [
         "40",
         "ham",
         "Pls go ahead with watts. I just wanted to be sure. Do have a great weekend. Abiola",
         "['pls', 'go', 'ahead', 'watts', 'wanted', 'sure', 'great', 'weekend', 'abiola']"
        ],
        [
         "41",
         "ham",
         "Did I forget to tell you ? I want you   I need you  I crave you ... But most of all ... I love you my sweet Arabian steed ... Mmmmmm ... Yummy",
         "['forget', 'tell', 'want', 'need', 'crave', 'love', 'sweet', 'arabian', 'steed', 'mmmmmm', 'yummy']"
        ],
        [
         "42",
         "spam",
         "07732584351 - Rodger Burns - MSG = We tried to call you re your reply to our sms for a free nokia mobile + free camcorder. Please call now 08000930705 for delivery tomorrow",
         "['07732584351', 'rodger', 'burns', 'msg', 'tried', 'call', 'reply', 'sms', 'free', 'nokia', 'mobile', 'free', 'camcorder', 'please', 'call', '08000930705', 'delivery', 'tomorrow']"
        ],
        [
         "43",
         "ham",
         "WHO ARE YOU SEEING?",
         "['seeing']"
        ],
        [
         "44",
         "ham",
         "Great! I hope you like your man well endowed. I am  &lt;#&gt;  inches...",
         "['great', 'hope', 'like', 'man', 'well', 'endowed', 'lt', 'gt', 'inches']"
        ],
        [
         "45",
         "ham",
         "No calls..messages..missed calls",
         "['calls', 'messages', 'missed', 'calls']"
        ],
        [
         "46",
         "ham",
         "Didn't you get hep b immunisation in nigeria.",
         "['get', 'hep', 'b', 'immunisation', 'nigeria']"
        ],
        [
         "47",
         "ham",
         "Fair enough  anything going on?",
         "['fair', 'enough', 'anything', 'going']"
        ],
        [
         "48",
         "ham",
         "Yeah hopefully  if tyler can't do it I could maybe ask around a bit",
         "['yeah', 'hopefully', 'tyler', \"can't\", 'could', 'maybe', 'ask', 'around', 'bit']"
        ],
        [
         "49",
         "ham",
         "U don't know how stubborn I am. I didn't even want to go to the hospital. I kept telling Mark I'm not a weak sucker. Hospitals are for weak suckers.",
         "['u', 'know', 'stubborn', 'even', 'want', 'go', 'hospital', 'kept', 'telling', 'mark', \"i'm\", 'weak', 'sucker', 'hospitals', 'weak', 'suckers']"
        ]
       ],
       "shape": {
        "columns": 3,
        "rows": 5572
       }
      },
      "text/html": [
       "<div>\n",
       "<style scoped>\n",
       "    .dataframe tbody tr th:only-of-type {\n",
       "        vertical-align: middle;\n",
       "    }\n",
       "\n",
       "    .dataframe tbody tr th {\n",
       "        vertical-align: top;\n",
       "    }\n",
       "\n",
       "    .dataframe thead th {\n",
       "        text-align: right;\n",
       "    }\n",
       "</style>\n",
       "<table border=\"1\" class=\"dataframe\">\n",
       "  <thead>\n",
       "    <tr style=\"text-align: right;\">\n",
       "      <th></th>\n",
       "      <th>label</th>\n",
       "      <th>message</th>\n",
       "      <th>les_mots</th>\n",
       "    </tr>\n",
       "  </thead>\n",
       "  <tbody>\n",
       "    <tr>\n",
       "      <th>0</th>\n",
       "      <td>ham</td>\n",
       "      <td>Go until jurong point  crazy.. Available only ...</td>\n",
       "      <td>[go, jurong, point, crazy, available, bugis, n...</td>\n",
       "    </tr>\n",
       "    <tr>\n",
       "      <th>1</th>\n",
       "      <td>ham</td>\n",
       "      <td>Ok lar... Joking wif u oni...</td>\n",
       "      <td>[ok, lar, joking, wif, u, oni]</td>\n",
       "    </tr>\n",
       "    <tr>\n",
       "      <th>2</th>\n",
       "      <td>spam</td>\n",
       "      <td>Free entry in 2 a wkly comp to win FA Cup fina...</td>\n",
       "      <td>[free, entry, 2, wkly, comp, win, fa, cup, fin...</td>\n",
       "    </tr>\n",
       "    <tr>\n",
       "      <th>3</th>\n",
       "      <td>ham</td>\n",
       "      <td>U dun say so early hor... U c already then say...</td>\n",
       "      <td>[u, dun, say, early, hor, u, c, already, say]</td>\n",
       "    </tr>\n",
       "    <tr>\n",
       "      <th>4</th>\n",
       "      <td>ham</td>\n",
       "      <td>Nah I don't think he goes to usf  he lives aro...</td>\n",
       "      <td>[nah, think, goes, usf, lives, around, though]</td>\n",
       "    </tr>\n",
       "    <tr>\n",
       "      <th>...</th>\n",
       "      <td>...</td>\n",
       "      <td>...</td>\n",
       "      <td>...</td>\n",
       "    </tr>\n",
       "    <tr>\n",
       "      <th>5567</th>\n",
       "      <td>spam</td>\n",
       "      <td>This is the 2nd time we have tried 2 contact u...</td>\n",
       "      <td>[2nd, time, tried, 2, contact, u, u, å£750, po...</td>\n",
       "    </tr>\n",
       "    <tr>\n",
       "      <th>5568</th>\n",
       "      <td>ham</td>\n",
       "      <td>Will Ì_ b going to esplanade fr home?</td>\n",
       "      <td>[ì, b, going, esplanade, fr, home]</td>\n",
       "    </tr>\n",
       "    <tr>\n",
       "      <th>5569</th>\n",
       "      <td>ham</td>\n",
       "      <td>Pity  * was in mood for that. So...any other s...</td>\n",
       "      <td>[pity, mood, suggestions]</td>\n",
       "    </tr>\n",
       "    <tr>\n",
       "      <th>5570</th>\n",
       "      <td>ham</td>\n",
       "      <td>The guy did some bitching but I acted like i'd...</td>\n",
       "      <td>[guy, bitching, acted, like, i'd, interested, ...</td>\n",
       "    </tr>\n",
       "    <tr>\n",
       "      <th>5571</th>\n",
       "      <td>ham</td>\n",
       "      <td>Rofl. Its true to its name</td>\n",
       "      <td>[rofl, true, name]</td>\n",
       "    </tr>\n",
       "  </tbody>\n",
       "</table>\n",
       "<p>5572 rows × 3 columns</p>\n",
       "</div>"
      ],
      "text/plain": [
       "     label                                            message  \\\n",
       "0      ham  Go until jurong point  crazy.. Available only ...   \n",
       "1      ham                      Ok lar... Joking wif u oni...   \n",
       "2     spam  Free entry in 2 a wkly comp to win FA Cup fina...   \n",
       "3      ham  U dun say so early hor... U c already then say...   \n",
       "4      ham  Nah I don't think he goes to usf  he lives aro...   \n",
       "...    ...                                                ...   \n",
       "5567  spam  This is the 2nd time we have tried 2 contact u...   \n",
       "5568   ham              Will Ì_ b going to esplanade fr home?   \n",
       "5569   ham  Pity  * was in mood for that. So...any other s...   \n",
       "5570   ham  The guy did some bitching but I acted like i'd...   \n",
       "5571   ham                         Rofl. Its true to its name   \n",
       "\n",
       "                                               les_mots  \n",
       "0     [go, jurong, point, crazy, available, bugis, n...  \n",
       "1                        [ok, lar, joking, wif, u, oni]  \n",
       "2     [free, entry, 2, wkly, comp, win, fa, cup, fin...  \n",
       "3         [u, dun, say, early, hor, u, c, already, say]  \n",
       "4        [nah, think, goes, usf, lives, around, though]  \n",
       "...                                                 ...  \n",
       "5567  [2nd, time, tried, 2, contact, u, u, å£750, po...  \n",
       "5568                 [ì, b, going, esplanade, fr, home]  \n",
       "5569                          [pity, mood, suggestions]  \n",
       "5570  [guy, bitching, acted, like, i'd, interested, ...  \n",
       "5571                                 [rofl, true, name]  \n",
       "\n",
       "[5572 rows x 3 columns]"
      ]
     },
     "execution_count": 39,
     "metadata": {},
     "output_type": "execute_result"
    }
   ],
   "source": [
    "# A COMPLETER\n",
    "les_mots = []\n",
    "for message in df_spam['message']:\n",
    "    les_mots.append(text2vect(message, mots_inutiles))\n",
    "\n",
    "df_spam['les_mots'] = les_mots\n",
    "# --------------------- Affichage du résultat:\n",
    "df_spam"
   ]
  },
  {
   "cell_type": "markdown",
   "metadata": {},
   "source": [
    "<font color=\"RED\" size=\"+1\"><b>[Q]</b></font> Construire la liste de tous les mots présents dans tous les vecteurs du dataframe, chaque mois doit n'apparaître qu'une seule fois dans la liste résultat. Cette liste sera stockée dans la variable `index_mots` (et on l'appelle par la suite \"index de mots\").\n"
   ]
  },
  {
   "cell_type": "code",
   "execution_count": 66,
   "metadata": {},
   "outputs": [],
   "source": [
    "index_mots = []\n",
    "for line in list(df_spam['les_mots']):\n",
    "    for word in line:\n",
    "        if word not in index_mots:\n",
    "            index_mots.append(word)\n",
    "# df_spam['les_mots'].unique()\n",
    "\n",
    "index_mots = list(index_mots)"
   ]
  },
  {
   "cell_type": "code",
   "execution_count": 69,
   "metadata": {},
   "outputs": [],
   "source": [
    "index_mots = set()\n",
    "for line in list(df_spam['les_mots']):\n",
    "    for word in line:\n",
    "        index_mots.add(word)\n",
    "# df_spam['les_mots'].unique()\n",
    "\n",
    "index_mots = list(index_mots)"
   ]
  },
  {
   "cell_type": "code",
   "execution_count": 70,
   "metadata": {},
   "outputs": [
    {
     "name": "stdout",
     "output_type": "stream",
     "text": [
      "Nombre de mots trouvés:  8840\n",
      "Les 10 premiers : ['swat', 'added', 'earliest', 'ya', 'lololo', '09095350301', 'christmassy', 'sos', 'surely', 'contacts']\n"
     ]
    }
   ],
   "source": [
    "print(\"Nombre de mots trouvés: \", len(index_mots))\n",
    "print(\"Les 10 premiers :\", index_mots[0:10])\n"
   ]
  },
  {
   "cell_type": "markdown",
   "metadata": {},
   "source": [
    "Chaque message va maintenant être représenté comme un vecteur de valeurs 0 ou 1: ce vecteur a autant de colonne qu'il y a de mots dans `index_mots`. Ce vecteur est construit ainsi: pour un exemple $i$, la valeur de la colonne $j$ du vecteur vaudra 1 si la liste de mots de l'exemple $i$ contient le mot en position $j$ dans `index_mots`, ou 0 dans le cas contraire.\n",
    "\n",
    "<font color=\"RED\" size=\"+1\"><b>[Q]</b></font> Ecrire la fonction `df2array` qui prend un dataframe `df` contenant la colonne `les_mots` ainsi qu'un index de mots et rend le `np.array` correspondant aux vecteurs de valeurs représentant les exemples de `df`.\n"
   ]
  },
  {
   "cell_type": "code",
   "execution_count": 107,
   "metadata": {},
   "outputs": [],
   "source": [
    "def df2array(df, index_mots):\n",
    "    \"\"\"\n",
    "    input: \n",
    "        -df: dataframe contenant la colonne 'les_mots' (liste de mots nettoyés et filtrés)\n",
    "        -index: index de tous les mots de la bdd\n",
    "    returns: \n",
    "        -nparray correspondant aux vecteurs des mots présents dans la bdd (1 si le mot est présent, 0 sinon\n",
    "    \"\"\"\n",
    "    \n",
    "    res = np.zeros((df.shape[0], len(index_mots)))\n",
    "   \n",
    "    for id_line in range(df['les_mots'].shape[0]):\n",
    "        for word in df['les_mots'][id_line]:\n",
    "            id_word = index_mots.index(word) #on cherche l'indice du mot dans l'index\n",
    "            res[id_line, id_word] = 1\n",
    "            \n",
    "    return res"
   ]
  },
  {
   "cell_type": "code",
   "execution_count": 108,
   "metadata": {},
   "outputs": [],
   "source": [
    "# Attention: le calcul peut prendre un certain temps\n",
    "mat_spam = df2array(df_spam,index_mots)"
   ]
  },
  {
   "cell_type": "code",
   "execution_count": 106,
   "metadata": {},
   "outputs": [
    {
     "data": {
      "text/plain": [
       "(5572, 8840)"
      ]
     },
     "execution_count": 106,
     "metadata": {},
     "output_type": "execute_result"
    }
   ],
   "source": [
    "mat_spam.shape"
   ]
  },
  {
   "cell_type": "code",
   "execution_count": 116,
   "metadata": {},
   "outputs": [
    {
     "name": "stdout",
     "output_type": "stream",
     "text": [
      "Message 0: ['go', 'jurong', 'point', 'crazy', 'available', 'bugis', 'n', 'great', 'world', 'la', 'e', 'buffet', 'cine', 'got', 'amore', 'wat']\n",
      "positions non nulles dans le vecteur d'index:\n",
      "colonne  174  :  world\n",
      "colonne  327  :  go\n",
      "colonne  719  :  amore\n",
      "colonne  791  :  n\n",
      "colonne  1598  :  great\n",
      "colonne  1674  :  cine\n",
      "colonne  2272  :  bugis\n",
      "colonne  3045  :  crazy\n",
      "colonne  3331  :  available\n",
      "colonne  4036  :  got\n",
      "colonne  4771  :  buffet\n",
      "colonne  6224  :  e\n",
      "colonne  6694  :  point\n",
      "colonne  7007  :  wat\n",
      "colonne  7262  :  la\n",
      "colonne  7524  :  jurong\n"
     ]
    }
   ],
   "source": [
    "print(\"Message 0:\", df_spam['les_mots'][0])\n",
    "\n",
    "print(\"positions non nulles dans le vecteur d'index:\")\n",
    "\n",
    "for i in range(0, len(mat_spam[0])):\n",
    "    if mat_spam[0][i] == 1:\n",
    "        print(\"colonne \",i,\" : \", index_mots[i])\n",
    "    "
   ]
  },
  {
   "cell_type": "code",
   "execution_count": 117,
   "metadata": {},
   "outputs": [
    {
     "data": {
      "text/plain": [
       "747"
      ]
     },
     "execution_count": 117,
     "metadata": {},
     "output_type": "execute_result"
    }
   ],
   "source": [
    "# maintenant, il est possible d'extraire les vecteurs correspondant à un label donné, par exemple:\n",
    "len(mat_spam[df_spam['label']=='spam'])"
   ]
  },
  {
   "cell_type": "markdown",
   "metadata": {},
   "source": [
    "<font color=\"RED\" size=\"+1\"><b>[Q]</b></font> Construire un dictionnaire qui donne, pour chaque label, la fréquence, colonne par colonne, des exemples qui possèdent le label.\n"
   ]
  },
  {
   "cell_type": "code",
   "execution_count": 127,
   "metadata": {},
   "outputs": [
    {
     "data": {
      "text/plain": [
       "array([23., 20., 17., 15., 23., 20., 13., 21., 13., 16., 16., 23., 14.,\n",
       "       23.,  7., 15., 21., 18., 18., 17., 19., 20., 20., 25., 19., 20.,\n",
       "       11., 17., 18., 18., 17., 16.,  9., 20., 20., 24., 16., 21., 15.,\n",
       "       14., 23., 14., 19., 22., 19., 17., 21., 12., 16., 18., 18., 21.,\n",
       "       18., 19., 13., 16., 18., 18., 19.,  7., 15., 24., 12., 15., 22.,\n",
       "       19., 22., 20., 23., 14., 23., 18., 18., 23.,  9., 19., 24., 14.,\n",
       "       19., 14., 18.,  7., 12., 16., 19., 17., 19.,  9., 17., 17., 20.,\n",
       "       13., 23., 18., 12.,  7., 13., 25., 19.,  9., 19., 19.,  5., 17.,\n",
       "       14., 12., 19., 16., 10.,  5., 14., 17., 20., 10., 16., 23., 20.,\n",
       "       22., 25., 19., 21., 15., 20., 22., 20., 23., 19., 19., 26., 23.,\n",
       "       24., 17., 23., 20., 15., 18., 23., 23., 15., 17., 11., 21., 17.,\n",
       "       22., 17., 20., 21., 14., 20.,  4., 17., 19., 16., 13., 25., 16.,\n",
       "       10., 15., 17., 21., 15., 17., 17., 11., 20., 17., 19., 19.,  7.,\n",
       "       19., 19., 22., 13., 13., 18., 14., 19., 23., 20., 22.,  6., 24.,\n",
       "       17.,  6., 22., 17., 17., 17.,  7., 12., 17.,  8., 19., 26., 16.,\n",
       "       15., 23., 18., 21., 21., 17., 22., 19., 20., 23.,  7., 24., 18.,\n",
       "       20., 18., 11., 17., 22., 20., 14., 21., 19., 10., 16., 22., 16.,\n",
       "       23., 19., 20., 18., 17., 16., 19., 15.,  9., 18., 22., 14., 26.,\n",
       "       18., 16., 22., 18.,  9., 18., 16., 20., 13., 17., 20., 23., 19.,\n",
       "       12., 17., 17.,  5., 24., 19., 23., 17., 19., 18., 22., 20., 19.,\n",
       "       11.,  9., 19., 15., 20., 20., 21., 23., 19., 24., 16., 24., 17.,\n",
       "       22., 16.,  9., 17., 14., 21., 16., 17., 14., 21., 18., 23., 18.,\n",
       "       22., 15., 27.,  5., 22., 23., 17., 21., 23., 17., 25., 21., 18.,\n",
       "       21., 22., 25., 22., 23., 24., 19., 21., 16., 17., 24., 21., 17.,\n",
       "       17., 23., 15.,  4., 17.,  6., 16., 23., 24., 24., 16., 20., 12.,\n",
       "       19., 19., 17.,  7., 17., 18., 23., 17., 13., 15., 22., 18., 20.,\n",
       "       18., 17., 19., 23., 17., 25., 16., 18., 15., 12., 19.,  5., 24.,\n",
       "       15., 16., 15., 19., 23., 23., 17., 14., 19., 18., 11., 27., 25.,\n",
       "       13., 19., 18., 25., 17.,  4., 19., 20., 14., 17., 21., 23., 18.,\n",
       "       21., 18., 12., 18., 19.,  6., 12., 22., 12., 13., 20., 24., 12.,\n",
       "       21., 20.,  5., 20., 24., 22., 18., 19., 15., 20.,  6.,  7., 18.,\n",
       "       20., 10., 19., 14., 22., 19., 15., 12., 19., 13., 20., 21., 15.,\n",
       "       20., 14., 18., 15., 19., 18., 12., 20., 17., 23., 17., 18., 19.,\n",
       "       19., 19., 20., 18., 17., 23., 20., 20., 19.,  6., 17., 12., 21.,\n",
       "       15.,  7., 14., 11.,  8., 15., 15.,  7., 14., 14., 17., 14., 20.,\n",
       "       14.,  9., 17., 20., 26., 12., 18., 16., 16., 10., 17., 18., 11.,\n",
       "       21., 18., 12., 19., 24., 26., 18., 10., 18., 16., 18., 15., 17.,\n",
       "       19., 18., 10., 22., 22., 14., 23., 24., 16., 23., 17., 16., 21.,\n",
       "       22.,  2., 17., 10., 13., 25., 17., 23.,  7., 24., 19., 15., 17.,\n",
       "       21., 22., 18., 17., 16., 17., 17., 12., 17., 15., 19., 15., 17.,\n",
       "       18.,  9., 24., 12., 15., 16., 12., 21., 20.,  2.,  9., 15., 14.,\n",
       "       15., 18., 21., 16.,  7., 20., 14., 16.,  6., 17., 23., 16., 11.,\n",
       "       14., 11., 15., 16., 19., 13., 25., 15., 19., 16., 22., 20., 17.,\n",
       "       21., 21., 20., 15., 18., 22., 22., 18., 25., 24., 19., 21.,  8.,\n",
       "       16., 21., 20., 12.,  8., 17., 19., 18., 19., 17., 11., 19.,  7.,\n",
       "       14., 22., 17., 24., 16., 20., 15., 16., 17., 17., 21., 18.,  7.,\n",
       "       16.,  9., 17., 23., 19.,  5., 10., 17., 21.,  7.,  6., 24., 23.,\n",
       "       22., 23., 22., 13., 17., 18., 23., 19., 17., 23., 22., 19., 14.,\n",
       "       15., 20., 17., 17., 13., 18., 14., 17., 20., 17., 20., 19., 24.,\n",
       "       12., 24., 16., 16., 19., 11., 22., 14., 21., 20.,  9., 21., 20.,\n",
       "       18., 12., 17., 14., 18., 22., 13., 17., 19., 17., 26., 19., 19.,\n",
       "       20., 11., 14., 12., 14., 21., 18., 14., 16., 21., 23., 16., 20.,\n",
       "       19., 18., 15., 15., 18., 14., 17., 21., 14., 22., 18., 13., 17.,\n",
       "       19., 16.,  6., 12., 26.,  5., 20., 25., 18., 24., 15., 19., 17.,\n",
       "       17., 20., 20., 17., 18., 19., 14., 14., 18., 21., 16., 20., 22.,\n",
       "       23., 22., 24., 13., 12., 13., 16., 13., 10., 23.,  7., 12., 19.,\n",
       "        9., 14., 12., 21., 12., 18., 17., 20., 17., 19., 21., 19., 20.,\n",
       "       18., 15., 26., 18., 19., 20.])"
      ]
     },
     "execution_count": 127,
     "metadata": {},
     "output_type": "execute_result"
    }
   ],
   "source": [
    "testt = mat_spam[df_spam['label']=='spam'].sum(axis=1)\n",
    "testt"
   ]
  },
  {
   "cell_type": "code",
   "execution_count": 131,
   "metadata": {},
   "outputs": [
    {
     "ename": "TypeError",
     "evalue": "array() missing required argument 'object' (pos 0)",
     "output_type": "error",
     "traceback": [
      "\u001b[0;31m---------------------------------------------------------------------------\u001b[0m",
      "\u001b[0;31mTypeError\u001b[0m                                 Traceback (most recent call last)",
      "Cell \u001b[0;32mIn[131], line 7\u001b[0m\n\u001b[1;32m      5\u001b[0m count \u001b[38;5;241m=\u001b[39m mat_spam[df_spam[\u001b[38;5;124m'\u001b[39m\u001b[38;5;124mlabel\u001b[39m\u001b[38;5;124m'\u001b[39m]\u001b[38;5;241m==\u001b[39m\u001b[38;5;124m'\u001b[39m\u001b[38;5;124mspam\u001b[39m\u001b[38;5;124m'\u001b[39m]\u001b[38;5;241m.\u001b[39msum(axis\u001b[38;5;241m=\u001b[39m\u001b[38;5;241m1\u001b[39m) \u001b[38;5;66;03m#somme de toutes les colonnes = count des mots\u001b[39;00m\n\u001b[1;32m      6\u001b[0m size_count \u001b[38;5;241m=\u001b[39m \u001b[38;5;28mlen\u001b[39m(count)\n\u001b[0;32m----> 7\u001b[0m frequences[l] \u001b[38;5;241m=\u001b[39m \u001b[43mnp\u001b[49m\u001b[38;5;241;43m.\u001b[39;49m\u001b[43marray\u001b[49m\u001b[43m(\u001b[49m\u001b[43m)\u001b[49m\n\u001b[1;32m      8\u001b[0m \u001b[38;5;28;01mfor\u001b[39;00m id_element \u001b[38;5;129;01min\u001b[39;00m \u001b[38;5;28mrange\u001b[39m(size_count) :\n\u001b[1;32m      9\u001b[0m     frequences[l][id_element] \u001b[38;5;241m=\u001b[39m count[id_element] \u001b[38;5;241m/\u001b[39m size_count\n",
      "\u001b[0;31mTypeError\u001b[0m: array() missing required argument 'object' (pos 0)"
     ]
    }
   ],
   "source": [
    "les_labels = df_spam['label'].unique()\n",
    "\n",
    "frequences = dict()\n",
    "for l in les_labels:\n",
    "    count = mat_spam[df_spam['label']=='spam'].sum(axis=1) #somme de toutes les colonnes = count des mots\n",
    "    size_count = len(count)\n",
    "    frequences[l] = np.array()\n",
    "    for id_element in range(size_count) :\n",
    "        frequences[l][id_element] = count[id_element] / size_count\n",
    "\n",
    "    \n",
    "# ########################################\n",
    "# Affichage des valeurs non nulles:\n",
    "for l in frequences:\n",
    "    nb= 0\n",
    "    for j in range(0,len(frequences[l])):\n",
    "        if frequences[l][j] != 0:\n",
    "            if (nb < 10):\n",
    "                print(f'\\t {index_mots[j]}:\\t {frequences[l][j]:0.6f}')\n",
    "            nb +=1\n",
    "    print(\"Seuls les 10 premiers non nuls sont affichés.\")        "
   ]
  },
  {
   "cell_type": "markdown",
   "metadata": {},
   "source": [
    "## Classification de textes\n",
    "\n",
    "<div class=\"alert alert-block alert-warning\">\n",
    "On considère deux variables $X$ et $Y$ :\n",
    "    <ul>\n",
    "        <li>$X$ est un message</li>\n",
    "        <li>$Y$ est le label d'un message et peut prendre 2 valeurs : <code>'ham'</code> et <code>'spam'</code></li>\n",
    "    </ul>\n",
    "\n",
    "Avec les fonctions précédentes on peut représenter les messages d'un corpus de documents sous la forme d'un vecteur $X \\in \\{0, 1\\}^p$ où $p$ est le nombre total de mots de l'index. Le $i$ème message est représenté par le vecteur ${\\bf x}_i = [x_{i1} \\dots x_{ip}]$, où $x_{ij}$ vaut 1 si le $j$ème mot de l'index est présent dans le message $i$, et 0 sinon.\n",
    "    \n",
    "Comme vu en cours, pour un classifieur bayésien, nous devons estimer, à partir de la base <code>df_spam</code>, les probabilités $p(ham)$, $p(spam)$, $p(X |ham)$ et $p(X | spam)$.\n",
    "\n",
    "Les 2 premières sont simples à calculer : on compte le nombre de fois où le label apparaît parmi les exemples.\n",
    "\n",
    "Pour un label $Y$ et un exemple ${\\bf x}$, le calcul de $p({\\bf x} | Y)$ se fait en utilisant les probabilités $p(mot | Y)$ de tous les mots qui composent ${\\bf x}$ (et qui sont des mots de l'index des mots). $p(mot | Y)$ est la probabilité que le mot <code>mot</code> apparaisse dans un message sachant que ce message appartient à la classe $Y$.\n",
    "    \n",
    "On pose ainsi\n",
    "\n",
    "$$ p({\\bf x} | Y) = \\prod_{mot \\in index\\_mots} p(mot | Y)^{x_{mot}} \\left(1 - p(mot | Y)\\right)^{1 - x_{mot}} $$\n",
    "\n",
    "où $x_{mot}$ correspond à $1$ ou $0$ selon que le `mot` apparaît dans ${\\bf x}$ ou pas. Ce terme permet de retenir soit la probabilité $p(mot | Y)$ si le mot est dans ${\\bf x}$, soit la probabilité qu'il n'y soit pas ($1-p(mot |Y)$).\n",
    "    \n",
    "Une fois que $p({\\bf x} | Y)$ est calculée, on peut estimer $p(Y|X)$ grâce au théorème de Bayes (cf. cours 6):\n",
    "\n",
    "$$p(Y|{\\bf x}) = p(Y) p({\\bf x} | Y)$$\n",
    "\n",
    "avec $Y$ qui vaut soit 'ham', soit 'spam'.    \n",
    "\n",
    "    \n",
    "Une fois $p(Y{{\\bf x})$ calculée pour chaque valeur de label, pour prédire le label de ${\\bf x}$ on choisit le label qui possède la plus forte probabilité.\n",
    "</div>"
   ]
  },
  {
   "cell_type": "code",
   "execution_count": 25,
   "metadata": {},
   "outputs": [
    {
     "name": "stdout",
     "output_type": "stream",
     "text": [
      "p(ham ) = 0.8659\n",
      "p(spam) = 0.1341\n"
     ]
    }
   ],
   "source": [
    "# calculer p(ham) et p(spam) dans df_spam:\n",
    "\n",
    "for l in ['ham', 'spam']:\n",
    "    # #################### A COMPLETER \n",
    "    \n",
    "\n",
    "    \n",
    "    ##########################\n",
    "    print(f'p({l:4}) = {proba:0.4f}')\n"
   ]
  },
  {
   "cell_type": "markdown",
   "metadata": {},
   "source": [
    "<font color=\"RED\" size=\"+1\"><b>[Q]</b></font> Ecrire la fonction `proba_mot` qui étant donné un mot, un label, une liste de mots, et un dictionnaire comme `frequences` (compatible avec la liste de mots) rend $p(mot| label)$ la probabilité du mot d'appartenir au label donné.\n"
   ]
  },
  {
   "cell_type": "code",
   "execution_count": 26,
   "metadata": {},
   "outputs": [],
   "source": []
  },
  {
   "cell_type": "code",
   "execution_count": null,
   "metadata": {},
   "outputs": [],
   "source": [
    "# probabilité d'un mot qui n'est pas dans l'index:\n",
    "proba_mot(\"toto\", \"ham\", index_mots, frequences)"
   ]
  },
  {
   "cell_type": "code",
   "execution_count": null,
   "metadata": {},
   "outputs": [],
   "source": [
    "# probabilité d'un mot de l'index pour un label qui n'existe pas:\n",
    "proba_mot(\"visit\", \"cookie\", index_mots, frequences)"
   ]
  },
  {
   "cell_type": "code",
   "execution_count": 29,
   "metadata": {},
   "outputs": [
    {
     "data": {
      "text/plain": [
       "0.001615218951902369"
      ]
     },
     "execution_count": 29,
     "metadata": {},
     "output_type": "execute_result"
    }
   ],
   "source": [
    "# probabilité d'un mot de l'index pour un label qui existe:\n",
    "proba_mot(\"visit\", \"ham\", index_mots, frequences)"
   ]
  },
  {
   "cell_type": "code",
   "execution_count": 30,
   "metadata": {},
   "outputs": [
    {
     "data": {
      "text/plain": [
       "0.001256281407035176"
      ]
     },
     "execution_count": 30,
     "metadata": {},
     "output_type": "execute_result"
    }
   ],
   "source": [
    "# probabilité d'un mot de l'index pour un label qui existe:\n",
    "proba_mot(\"visit\", \"spam\", index_mots, frequences)"
   ]
  },
  {
   "cell_type": "markdown",
   "metadata": {},
   "source": [
    "<font color=\"RED\" size=\"+1\"><b>[Q]</b></font> Ecrire la fonction `proba_exemple` qui étant donné un exemple représenté sous la forme d'une liste de mots, un label, une liste de mots, et un dictionnaire comme `frequences` (compatible avec la liste de mots) rend $p(exemple|label)$ la probabilité de l'exemple d'appartenir au label.\n"
   ]
  },
  {
   "cell_type": "code",
   "execution_count": 31,
   "metadata": {},
   "outputs": [],
   "source": []
  },
  {
   "cell_type": "code",
   "execution_count": 32,
   "metadata": {},
   "outputs": [
    {
     "data": {
      "text/plain": [
       "2.386526504624419e-43"
      ]
     },
     "execution_count": 32,
     "metadata": {},
     "output_type": "execute_result"
    }
   ],
   "source": [
    "proba_exemple(df_spam['les_mots'][0], 'ham', index_mots,frequences)"
   ]
  },
  {
   "cell_type": "code",
   "execution_count": 33,
   "metadata": {},
   "outputs": [
    {
     "data": {
      "text/plain": [
       "0.0"
      ]
     },
     "execution_count": 33,
     "metadata": {},
     "output_type": "execute_result"
    }
   ],
   "source": [
    "proba_exemple(df_spam['les_mots'][0], 'spam', index_mots,frequences)\n"
   ]
  },
  {
   "cell_type": "markdown",
   "metadata": {},
   "source": [
    "<font color=\"RED\" size=\"+1\"><b>[Q]</b></font> En utilisant toutes les fonctions écrites, le taux de bonne prédiction du classifieur bayésien naïf pour chaque valeur de label pour le dataset spam."
   ]
  },
  {
   "cell_type": "code",
   "execution_count": 35,
   "metadata": {},
   "outputs": [
    {
     "name": "stdout",
     "output_type": "stream",
     "text": [
      "Résultats des 10 premiers classements :  {'ham': {True: 6, False: 0}, 'spam': {True: 0, False: 4}}\n"
     ]
    }
   ],
   "source": [
    "les_labels = df_spam['label'].unique()\n",
    "\n",
    "# La variable suivante permettra de stocker les résultats\n",
    "taux = dict()\n",
    "for l in les_labels:\n",
    "    taux[l] = dict()\n",
    "    taux[l][True] = 0    # nombre de bien classés\n",
    "    taux[l][False] = 0   # nombre de mal classés\n",
    "    \n",
    "# ------------------------ \n",
    "\n",
    "######### A COMPLETER \n",
    "\n",
    "\n",
    "\n",
    "\n",
    "# ----------------------------------------------------\n",
    "print(\"Résultats des 10 premiers classements : \", taux)\n",
    "# le résultat total peut prendre un certain temps...\n",
    "\n",
    "\n",
    "# Il reste à calculer les taux de bonne classification par label"
   ]
  },
  {
   "cell_type": "markdown",
   "metadata": {},
   "source": [
    "## Evaluation du classifieur Naive Bayes\n",
    "\n",
    "Pour tout ce que l'on a fait jusque-là, on a travaillé sur tout le dataset, pour pouvoir l'évaluer il est nécessaire de le séparer en ensemble d'apprentissage et ensemble de test."
   ]
  },
  {
   "cell_type": "markdown",
   "metadata": {},
   "source": [
    "<font color=\"RED\" size=\"+1\"><b>[Q]</b></font> Découper aléatoirement `df_spam` en 2 parties égales, chacune contenant des exemples des 2 labels, avec la même distribution des labels dans chaque partie. \n",
    "Une des parties sert à apprendre l'index des mots et leurs fréquences.\n",
    "L'autre partie n'est utilisée que pour calculer le taux de bonne classification par label.\n",
    "\n",
    "Donner ensuite les taux de bonne classification par label pour l'ensemble de train et pour l'ensemble de test.\n",
    "\n",
    "*Remarque*: certains mots de la partie de test pourront ne pas être présents dans l'index de mots car ils peuvent être absents de la partie d'apprentissage."
   ]
  },
  {
   "cell_type": "markdown",
   "metadata": {},
   "source": [
    "<font color=\"RED\" size=\"+1\"><b>[Q]</b></font> Mettre en place une approche par validation croisée pour évaluer le taux de bonne classification moyen de cette approche. "
   ]
  },
  {
   "cell_type": "markdown",
   "metadata": {},
   "source": [
    "<font color=\"RED\" size=\"+1\"><b>[Q]</b></font> Comparer les résultats obtenus (taux de bonne classification avec la validation croisée, temps de calcul) avec ceux obtenus avec l'application d'un classifieur par $k$ plus proches voisins. Pour cela, la `mat_spam` doit être utilisée comme description des données. "
   ]
  },
  {
   "cell_type": "code",
   "execution_count": null,
   "metadata": {},
   "outputs": [],
   "source": []
  }
 ],
 "metadata": {
  "kernelspec": {
   "display_name": "Python 3",
   "language": "python",
   "name": "python3"
  },
  "language_info": {
   "codemirror_mode": {
    "name": "ipython",
    "version": 3
   },
   "file_extension": ".py",
   "mimetype": "text/x-python",
   "name": "python",
   "nbconvert_exporter": "python",
   "pygments_lexer": "ipython3",
   "version": "3.12.3"
  }
 },
 "nbformat": 4,
 "nbformat_minor": 4
}
