{
 "cells": [
  {
   "cell_type": "markdown",
   "metadata": {},
   "source": [
    "IA & Data science (LU3IN0226) -- 2024-2025\n",
    "--------\n",
    "*&copy; Equipe pédagogique: Christophe Marsala, Olivier Schwander, Jean-Noël Vittaut.*\n"
   ]
  },
  {
   "cell_type": "markdown",
   "metadata": {},
   "source": [
    "# TD-TME 6 : Apprentissage pour le texte"
   ]
  },
  {
   "cell_type": "markdown",
   "metadata": {},
   "source": [
    "<font size=\"+1\" color=\"RED\"><b>[Q]</b></font> **Indiquer dans la boîte ci-dessous vos noms et prénoms :**"
   ]
  },
  {
   "cell_type": "markdown",
   "metadata": {},
   "source": [
    "Thibaut MARCQ"
   ]
  },
  {
   "cell_type": "markdown",
   "metadata": {},
   "source": [
    "<font color=\"RED\" size=\"+1\"><b>[Q]</b></font> **Renommer ce fichier ipython**\n",
    "\n",
    "Tout en haut de cette page, cliquer sur <tt>tme-05</tt> et rajouter à la suite de <tt>tme-05</tt> les noms des membres du binômes séparés par un tiret.\n",
    "\n",
    "<font color=\"RED\" size=\"+1\">IMPORTANT: soumission de votre fichier final</font>\n",
    "\n",
    "**Nom à donner au fichier à poster** : *tme-05-Nom1_Nom2.ipynb* \n",
    "- *Nom1* et *Nom2* : noms des membres du binôme\n",
    "- ne pas compresser ou faire une archive: il faut rendre le fichier ipython tel quel, éventuellement, si vous avez d'autres fichiers vous les rendez séparément.\n",
    "\n",
    "**Echancier pour la soumission de votre compte-rendu:**\n",
    "- le compte-rendu d'une séance doit être remis obligatoirement <font color=\"RED\">avant la séance suivante</font>.\n",
    "\n",
    "**Le compte-rendu est soumis sur la page Moodle.**"
   ]
  },
  {
   "cell_type": "code",
   "execution_count": 133,
   "metadata": {},
   "outputs": [
    {
     "name": "stdout",
     "output_type": "stream",
     "text": [
      "The autoreload extension is already loaded. To reload it, use:\n",
      "  %reload_ext autoreload\n",
      "Version python et des librairies:\n",
      "\tPython  3.12.3 (main, Feb  4 2025, 14:48:35) [GCC 13.3.0]\n",
      "\tpandas:  2.2.3\n",
      "\tnumpy:  2.2.3\n",
      "\tmatplotlib:  3.10.1\n"
     ]
    }
   ],
   "source": [
    "# - - - - - - - - - - - - - - - - - -\n",
    "# imports utiles\n",
    "import numpy as np\n",
    "import pandas as pd\n",
    "import matplotlib.pyplot as plt\n",
    "import matplotlib as mtpl\n",
    "%matplotlib inline  \n",
    "\n",
    "import math\n",
    "import time\n",
    "import sys\n",
    "\n",
    "# Les instructions suivantes sont utiles pour recharger automatiquement \n",
    "# le code modifié dans les librairies externes\n",
    "%load_ext autoreload\n",
    "%autoreload 2\n",
    "\n",
    "# - - - - - - - - - - - - - - - - - -\n",
    "# Information sur l'environnent utilisé ici:\n",
    "print(\"Version python et des librairies:\")\n",
    "print(\"\\tPython \",sys.version)\n",
    "print(\"\\tpandas: \",pd.__version__)\n",
    "print(\"\\tnumpy: \",np.__version__)\n",
    "print(\"\\tmatplotlib: \",mtpl.__version__)"
   ]
  },
  {
   "cell_type": "code",
   "execution_count": 134,
   "metadata": {},
   "outputs": [],
   "source": [
    "# Importation de votre librairie iads:\n",
    "# La ligne suivante permet de préciser le chemin d'accès à la librairie iads\n",
    "import sys\n",
    "sys.path.append('../')   # iads doit être dans le répertoire père du répertoire courant !\n",
    "\n",
    "# Importation de la librairie iads\n",
    "import iads as iads\n",
    "\n",
    "# importation de Classifiers\n",
    "from iads import Classifiers as classif\n",
    "\n",
    "# importation de utils\n",
    "from iads import utils as ut\n",
    "\n",
    "# importation de evaluation\n",
    "from iads import evaluation as ev\n",
    "\n"
   ]
  },
  {
   "cell_type": "markdown",
   "metadata": {},
   "source": [
    "# Objectifs de ce TME\n",
    "\n",
    "<div class=\"alert alert-block alert-warning\">\n",
    "Ce TME a pour but d'implémenter des fonctions pour traiter un corpus textuel et un nouvel algorithme d'apprentissage vu dans le cours 6. \n",
    "\n",
    "Pour expérimenter, on utilise la base `SMS spam Collection` qui contient 5572 messages associés à 2 labels: `spam` et `ham`. \n",
    "</div>"
   ]
  },
  {
   "cell_type": "code",
   "execution_count": 135,
   "metadata": {},
   "outputs": [
    {
     "data": {
      "application/vnd.microsoft.datawrangler.viewer.v0+json": {
       "columns": [
        {
         "name": "index",
         "rawType": "int64",
         "type": "integer"
        },
        {
         "name": "label",
         "rawType": "object",
         "type": "string"
        },
        {
         "name": "message",
         "rawType": "object",
         "type": "string"
        }
       ],
       "conversionMethod": "pd.DataFrame",
       "ref": "3d57a33f-958c-414c-b368-9f2f8699213f",
       "rows": [
        [
         "0",
         "ham",
         "Go until jurong point  crazy.. Available only in bugis n great world la e buffet... Cine there got amore wat..."
        ],
        [
         "1",
         "ham",
         "Ok lar... Joking wif u oni..."
        ],
        [
         "2",
         "spam",
         "Free entry in 2 a wkly comp to win FA Cup final tkts 21st May 2005. Text FA to 87121 to receive entry question(std txt rate)T&C's apply 08452810075over18's"
        ],
        [
         "3",
         "ham",
         "U dun say so early hor... U c already then say..."
        ],
        [
         "4",
         "ham",
         "Nah I don't think he goes to usf  he lives around here though"
        ],
        [
         "5",
         "spam",
         "FreeMsg Hey there darling it's been 3 week's now and no word back! I'd like some fun you up for it still? Tb ok! XxX std chgs to send  å£1.50 to rcv"
        ],
        [
         "6",
         "ham",
         "Even my brother is not like to speak with me. They treat me like aids patent."
        ],
        [
         "7",
         "ham",
         "As per your request 'Melle Melle (Oru Minnaminunginte Nurungu Vettam)' has been set as your callertune for all Callers. Press *9 to copy your friends Callertune"
        ],
        [
         "8",
         "spam",
         "WINNER!! As a valued network customer you have been selected to receivea å£900 prize reward! To claim call 09061701461. Claim code KL341. Valid 12 hours only."
        ],
        [
         "9",
         "spam",
         "Had your mobile 11 months or more? U R entitled to Update to the latest colour mobiles with camera for Free! Call The Mobile Update Co FREE on 08002986030"
        ],
        [
         "10",
         "ham",
         "I'm gonna be home soon and i don't want to talk about this stuff anymore tonight  k? I've cried enough today."
        ],
        [
         "11",
         "spam",
         "SIX chances to win CASH! From 100 to 20 000 pounds txt> CSH11 and send to 87575. Cost 150p/day  6days  16+ TsandCs apply Reply HL 4 info"
        ],
        [
         "12",
         "spam",
         "URGENT! You have won a 1 week FREE membership in our å£100 000 Prize Jackpot! Txt the word: CLAIM to No: 81010 T&C www.dbuk.net LCCLTD POBOX 4403LDNW1A7RW18"
        ],
        [
         "13",
         "ham",
         "I've been searching for the right words to thank you for this breather. I promise i wont take your help for granted and will fulfil my promise. You have been wonderful and a blessing at all times."
        ],
        [
         "14",
         "ham",
         "I HAVE A DATE ON SUNDAY WITH WILL!!"
        ],
        [
         "15",
         "spam",
         "XXXMobileMovieClub: To use your credit  click the WAP link in the next txt message or click here>> http://wap. xxxmobilemovieclub.com?n=QJKGIGHJJGCBL"
        ],
        [
         "16",
         "ham",
         "Oh k...i'm watching here:)"
        ],
        [
         "17",
         "ham",
         "Eh u remember how 2 spell his name... Yes i did. He v naughty make until i v wet."
        ],
        [
         "18",
         "ham",
         "Fine if thatåÕs the way u feel. ThatåÕs the way its gota b"
        ],
        [
         "19",
         "spam",
         "England v Macedonia - dont miss the goals/team news. Txt ur national team to 87077 eg ENGLAND to 87077 Try:WALES  SCOTLAND 4txt/Ì¼1.20 POBOXox36504W45WQ 16+"
        ],
        [
         "20",
         "ham",
         "Is that seriously how you spell his name?"
        ],
        [
         "21",
         "ham",
         "I'm going to try for 2 months ha ha only joking"
        ],
        [
         "22",
         "ham",
         "So Ì_ pay first lar... Then when is da stock comin..."
        ],
        [
         "23",
         "ham",
         "Aft i finish my lunch then i go str down lor. Ard 3 smth lor. U finish ur lunch already?"
        ],
        [
         "24",
         "ham",
         "Ffffffffff. Alright no way I can meet up with you sooner?"
        ],
        [
         "25",
         "ham",
         "Just forced myself to eat a slice. I'm really not hungry tho. This sucks. Mark is getting worried. He knows I'm sick when I turn down pizza. Lol"
        ],
        [
         "26",
         "ham",
         "Lol your always so convincing."
        ],
        [
         "27",
         "ham",
         "Did you catch the bus ? Are you frying an egg ? Did you make a tea? Are you eating your mom's left over dinner ? Do you feel my Love ?"
        ],
        [
         "28",
         "ham",
         "I'm back &amp; we're packing the car now  I'll let you know if there's room"
        ],
        [
         "29",
         "ham",
         "Ahhh. Work. I vaguely remember that! What does it feel like? Lol"
        ],
        [
         "30",
         "ham",
         "Wait that's still not all that clear  were you not sure about me being sarcastic or that that's why x doesn't want to live with us"
        ],
        [
         "31",
         "ham",
         "Yeah he got in at 2 and was v apologetic. n had fallen out and she was actin like spoilt child and he got caught up in that. Till 2! But we won't go there! Not doing too badly cheers. You?"
        ],
        [
         "32",
         "ham",
         "K tell me anything about you."
        ],
        [
         "33",
         "ham",
         "For fear of fainting with the of all that housework you just did? Quick have a cuppa"
        ],
        [
         "34",
         "spam",
         "Thanks for your subscription to Ringtone UK your mobile will be charged å£5/month Please confirm by replying YES or NO. If you reply NO you will not be charged"
        ],
        [
         "35",
         "ham",
         "Yup... Ok i go home look at the timings then i msg Ì_ again... Xuhui going to learn on 2nd may too but her lesson is at 8am"
        ],
        [
         "36",
         "ham",
         "Oops  I'll let you know when my roommate's done"
        ],
        [
         "37",
         "ham",
         "I see the letter B on my car"
        ],
        [
         "38",
         "ham",
         "Anything lor... U decide..."
        ],
        [
         "39",
         "ham",
         "Hello! How's you and how did saturday go? I was just texting to see if you'd decided to do anything tomo. Not that i'm trying to invite myself or anything!"
        ],
        [
         "40",
         "ham",
         "Pls go ahead with watts. I just wanted to be sure. Do have a great weekend. Abiola"
        ],
        [
         "41",
         "ham",
         "Did I forget to tell you ? I want you   I need you  I crave you ... But most of all ... I love you my sweet Arabian steed ... Mmmmmm ... Yummy"
        ],
        [
         "42",
         "spam",
         "07732584351 - Rodger Burns - MSG = We tried to call you re your reply to our sms for a free nokia mobile + free camcorder. Please call now 08000930705 for delivery tomorrow"
        ],
        [
         "43",
         "ham",
         "WHO ARE YOU SEEING?"
        ],
        [
         "44",
         "ham",
         "Great! I hope you like your man well endowed. I am  &lt;#&gt;  inches..."
        ],
        [
         "45",
         "ham",
         "No calls..messages..missed calls"
        ],
        [
         "46",
         "ham",
         "Didn't you get hep b immunisation in nigeria."
        ],
        [
         "47",
         "ham",
         "Fair enough  anything going on?"
        ],
        [
         "48",
         "ham",
         "Yeah hopefully  if tyler can't do it I could maybe ask around a bit"
        ],
        [
         "49",
         "ham",
         "U don't know how stubborn I am. I didn't even want to go to the hospital. I kept telling Mark I'm not a weak sucker. Hospitals are for weak suckers."
        ]
       ],
       "shape": {
        "columns": 2,
        "rows": 5572
       }
      },
      "text/html": [
       "<div>\n",
       "<style scoped>\n",
       "    .dataframe tbody tr th:only-of-type {\n",
       "        vertical-align: middle;\n",
       "    }\n",
       "\n",
       "    .dataframe tbody tr th {\n",
       "        vertical-align: top;\n",
       "    }\n",
       "\n",
       "    .dataframe thead th {\n",
       "        text-align: right;\n",
       "    }\n",
       "</style>\n",
       "<table border=\"1\" class=\"dataframe\">\n",
       "  <thead>\n",
       "    <tr style=\"text-align: right;\">\n",
       "      <th></th>\n",
       "      <th>label</th>\n",
       "      <th>message</th>\n",
       "    </tr>\n",
       "  </thead>\n",
       "  <tbody>\n",
       "    <tr>\n",
       "      <th>0</th>\n",
       "      <td>ham</td>\n",
       "      <td>Go until jurong point  crazy.. Available only ...</td>\n",
       "    </tr>\n",
       "    <tr>\n",
       "      <th>1</th>\n",
       "      <td>ham</td>\n",
       "      <td>Ok lar... Joking wif u oni...</td>\n",
       "    </tr>\n",
       "    <tr>\n",
       "      <th>2</th>\n",
       "      <td>spam</td>\n",
       "      <td>Free entry in 2 a wkly comp to win FA Cup fina...</td>\n",
       "    </tr>\n",
       "    <tr>\n",
       "      <th>3</th>\n",
       "      <td>ham</td>\n",
       "      <td>U dun say so early hor... U c already then say...</td>\n",
       "    </tr>\n",
       "    <tr>\n",
       "      <th>4</th>\n",
       "      <td>ham</td>\n",
       "      <td>Nah I don't think he goes to usf  he lives aro...</td>\n",
       "    </tr>\n",
       "    <tr>\n",
       "      <th>...</th>\n",
       "      <td>...</td>\n",
       "      <td>...</td>\n",
       "    </tr>\n",
       "    <tr>\n",
       "      <th>5567</th>\n",
       "      <td>spam</td>\n",
       "      <td>This is the 2nd time we have tried 2 contact u...</td>\n",
       "    </tr>\n",
       "    <tr>\n",
       "      <th>5568</th>\n",
       "      <td>ham</td>\n",
       "      <td>Will Ì_ b going to esplanade fr home?</td>\n",
       "    </tr>\n",
       "    <tr>\n",
       "      <th>5569</th>\n",
       "      <td>ham</td>\n",
       "      <td>Pity  * was in mood for that. So...any other s...</td>\n",
       "    </tr>\n",
       "    <tr>\n",
       "      <th>5570</th>\n",
       "      <td>ham</td>\n",
       "      <td>The guy did some bitching but I acted like i'd...</td>\n",
       "    </tr>\n",
       "    <tr>\n",
       "      <th>5571</th>\n",
       "      <td>ham</td>\n",
       "      <td>Rofl. Its true to its name</td>\n",
       "    </tr>\n",
       "  </tbody>\n",
       "</table>\n",
       "<p>5572 rows × 2 columns</p>\n",
       "</div>"
      ],
      "text/plain": [
       "     label                                            message\n",
       "0      ham  Go until jurong point  crazy.. Available only ...\n",
       "1      ham                      Ok lar... Joking wif u oni...\n",
       "2     spam  Free entry in 2 a wkly comp to win FA Cup fina...\n",
       "3      ham  U dun say so early hor... U c already then say...\n",
       "4      ham  Nah I don't think he goes to usf  he lives aro...\n",
       "...    ...                                                ...\n",
       "5567  spam  This is the 2nd time we have tried 2 contact u...\n",
       "5568   ham              Will Ì_ b going to esplanade fr home?\n",
       "5569   ham  Pity  * was in mood for that. So...any other s...\n",
       "5570   ham  The guy did some bitching but I acted like i'd...\n",
       "5571   ham                         Rofl. Its true to its name\n",
       "\n",
       "[5572 rows x 2 columns]"
      ]
     },
     "execution_count": 135,
     "metadata": {},
     "output_type": "execute_result"
    }
   ],
   "source": [
    "# Chargement du dataset\n",
    "\n",
    "df_spam = pd.read_csv('data/spam.csv', sep='\\t', encoding = 'latin1')\n",
    "df_spam"
   ]
  },
  {
   "cell_type": "code",
   "execution_count": 136,
   "metadata": {},
   "outputs": [
    {
     "data": {
      "application/vnd.microsoft.datawrangler.viewer.v0+json": {
       "columns": [
        {
         "name": "index",
         "rawType": "int64",
         "type": "integer"
        },
        {
         "name": "label",
         "rawType": "object",
         "type": "string"
        },
        {
         "name": "message",
         "rawType": "object",
         "type": "string"
        }
       ],
       "conversionMethod": "pd.DataFrame",
       "ref": "ba028526-43fb-4c5e-b0fc-a78d7459a68d",
       "rows": [
        [
         "3109",
         "spam",
         "Good Luck! Draw takes place 28th Feb 06. Good Luck! For removal send STOP to 87239 customer services 08708034412"
        ],
        [
         "4084",
         "spam",
         "Orange brings you ringtones from all time Chart Heroes  with a free hit each week! Go to Ringtones & Pics on wap. To stop receiving these tips reply STOP."
        ],
        [
         "1204",
         "spam",
         "WIN a year supply of CDs 4 a store of ur choice worth å£500 & enter our å£100 Weekly draw txt MUSIC to 87066 Ts&Cs www.Ldew.com.subs16+1win150ppmx3"
        ],
        [
         "423",
         "spam",
         "URGENT! Your Mobile number has been awarded with a å£2000 prize GUARANTEED. Call 09058094455 from land line. Claim 3030. Valid 12hrs only"
        ],
        [
         "1072",
         "spam",
         "Dear U've been invited to XCHAT. This is our final attempt to contact u! Txt CHAT to 86688"
        ],
        [
         "3153",
         "spam",
         "Not heard from U4 a while. Call 4 rude chat private line 01223585334 to cum. Wan 2C pics of me gettin shagged then text PIX to 8552. 2End send STOP 8552 SAM xxx"
        ],
        [
         "2698",
         "spam",
         "FROM 88066 LOST å£12 HELP"
        ],
        [
         "4106",
         "spam",
         "HOT LIVE FANTASIES call now 08707500020 Just 20p per min NTT Ltd  PO Box 1327 Croydon CR9 5WB 0870 is a national rate call"
        ],
        [
         "709",
         "spam",
         "4mths half price Orange line rental & latest camera phones 4 FREE. Had your phone 11mths+? Call MobilesDirect free on 08000938767 to update now! or2stoptxt T&Cs"
        ],
        [
         "1733",
         "spam",
         "Hi  this is Mandy Sullivan calling from HOTMIX FM...you are chosen to receive å£5000.00 in our Easter Prize draw.....Please telephone 09041940223 to claim before 29/03/05 or your prize will be transferred to someone else...."
        ],
        [
         "3431",
         "spam",
         "Camera - You are awarded a SiPix Digital Camera! call 09061221066 fromm landline. Delivery within 28 days."
        ],
        [
         "95",
         "spam",
         "Your free ringtone is waiting to be collected. Simply text the password \\MIX\\\" to 85069 to verify. Get Usher and Britney. FML  PO Box 5249 \" MK17 92H. 450Ppw 16\"\"\""
        ],
        [
         "1374",
         "spam",
         "500 New Mobiles from 2004  MUST GO! Txt: NOKIA to No: 89545 & collect yours today!From ONLY å£1 www.4-tc.biz 2optout 087187262701.50gbp/mtmsg18 TXTAUCTION"
        ],
        [
         "5178",
         "spam",
         "SMS AUCTION - A BRAND NEW Nokia 7250 is up 4 auction today! Auction is FREE 2 join & take part! Txt NOKIA to 86021 now!"
        ],
        [
         "5566",
         "spam",
         "REMINDER FROM O2: To get 2.50 pounds free call credit and details of great offers pls reply 2 this text with your valid name  house no and postcode"
        ],
        [
         "5098",
         "spam",
         "TheMob>Hit the link to get a premium Pink Panther game  the new no. 1 from Sugababes  a crazy Zebra animation or a badass Hoody wallpaper-all 4 FREE!"
        ],
        [
         "2132",
         "spam",
         "Your B4U voucher w/c 27/03 is MARSMS. Log onto www.B4Utele.com for discount credit. To opt out reply stop. Customer care call 08717168528"
        ],
        [
         "1690",
         "spam",
         "Sunshine Quiz Wkly Q! Win a top Sony DVD player if u know which country the Algarve is in? Txt ansr to 82277. å£1.50 SP:Tyrone"
        ],
        [
         "4585",
         "spam",
         "Mila  age23  blonde  new in UK. I look sex with UK guys. if u like fun with me. Text MTALK to 69866.18 . 30pp/txt 1st 5free. å£1.50 increments. Help08718728876"
        ],
        [
         "647",
         "spam",
         "PRIVATE! Your 2003 Account Statement for shows 800 un-redeemed S. I. M. points. Call 08715203694 Identifier Code: 40533 Expires 31/10/04"
        ],
        [
         "1634",
         "spam",
         "Eerie Nokia tones 4u  rply TONE TITLE to 8007 eg TONE DRACULA to 8007 Titles: GHOST  ADDAMSFA  MUNSTERS  EXORCIST  TWILIGHT www.getzed.co.uk POBox36504W45WQ 150p"
        ],
        [
         "3227",
         "spam",
         "SIX chances to win CASH! From 100 to 20 000 pounds txt> CSH11 and send to 87575. Cost 150p/day  6days  16+ TsandCs apply Reply HL 4 info"
        ],
        [
         "138",
         "spam",
         "You'll not rcv any more msgs from the chat svc. For FREE Hardcore services text GO to: 69988 If u get nothing u must Age Verify with yr network & try again"
        ],
        [
         "134",
         "spam",
         "Want 2 get laid tonight? Want real Dogging locations sent direct 2 ur mob? Join the UK's largest Dogging Network bt Txting GRAVEL to 69888! Nt. ec2a. 31p.msg@150p"
        ],
        [
         "2641",
         "spam",
         "You are guaranteed the latest Nokia Phone  a 40GB iPod MP3 player or a å£500 prize! Txt word: COLLECT to No: 83355! IBHltd LdnW15H 150p/Mtmsgrcvd18"
        ],
        [
         "5342",
         "spam",
         "u r subscribed 2 TEXTCOMP 250 wkly comp. 1st wk?s free question follows  subsequent wks charged@150p/msg.2 unsubscribe txt STOP 2 84128 custcare 08712405020"
        ],
        [
         "2952",
         "spam",
         "URGENT! Your mobile was awarded a å£1 500 Bonus Caller Prize on 27/6/03. Our final attempt 2 contact U! Call 08714714011"
        ],
        [
         "4164",
         "spam",
         "Dear Voucher Holder  To claim this weeks offer  at your PC please go to http://www.wtlp.co.uk/text. Ts&Cs apply."
        ],
        [
         "1119",
         "spam",
         "Bored of speed dating? Try SPEEDCHAT  txt SPEEDCHAT to 80155  if you don't like em txt SWAP and get a new chatter! Chat80155 POBox36504W45WQ 150p/msg rcd 16"
        ],
        [
         "4861",
         "spam",
         "**FREE MESSAGE**Thanks for using the Auction Subscription Service. 18 . 150p/MSGRCVD 2 Skip an Auction txt OUT. 2 Unsubscribe txt STOP CustomerCare 08718726270"
        ],
        [
         "2260",
         "spam",
         "SplashMobile: Choose from 1000s of gr8 tones each wk! This is a subscrition service with weekly tones costing 300p. U have one credit - kick back and ENJOY"
        ],
        [
         "765",
         "spam",
         "UR awarded a City Break and could WIN a å£200 Summer Shopping spree every WK. Txt STORE to 88039 . SkilGme. TsCs087147403231Winawk!Age16 å£1.50perWKsub"
        ],
        [
         "5147",
         "spam",
         "Get your garden ready for summer with a FREE selection of summer bulbs and seeds worth å£33:50 only with The Scotsman this Saturday. To stop go2 notxt.co.uk"
        ],
        [
         "1306",
         "spam",
         "Enjoy the jamster videosound gold club with your credits for 2 new videosounds+2 logos+musicnews! get more fun from jamster.co.uk! 16+only Help? call: 09701213186"
        ],
        [
         "1717",
         "spam",
         "WOW! The Boys R Back. TAKE THAT 2007 UK Tour. Win VIP Tickets & pre-book with VIP Club. Txt CLUB to 81303. Trackmarque Ltd info@vipclub4u."
        ],
        [
         "224",
         "spam",
         "500 New Mobiles from 2004  MUST GO! Txt: NOKIA to No: 89545 & collect yours today!From ONLY å£1 www.4-tc.biz 2optout 087187262701.50gbp/mtmsg18"
        ],
        [
         "2299",
         "spam",
         "Congrats! 1 year special cinema pass for 2 is yours. call 09061209465 now! C Suprman V  Matrix3  StarWars3  etc all 4 FREE! bx420-ip4-5we. 150pm. Dont miss out!"
        ],
        [
         "1071",
         "spam",
         "URGENT! We are trying to contact U. Todays draw shows that you have won a å£800 prize GUARANTEED. Call 09050003091 from land line. Claim C52. Valid12hrs only"
        ],
        [
         "1145",
         "spam",
         "Thank you  winner notified by sms. Good Luck! No future marketing reply STOP to 84122 customer services 08450542832"
        ],
        [
         "1216",
         "spam",
         "You have 1 new voicemail. Please call 08719181513."
        ],
        [
         "5285",
         "spam",
         "URGENT! You have won a 1 week FREE membership in our å£100 000 Prize Jackpot! Txt the word: CLAIM to No: 81010 T&C www.dbuk.net LCCLTD POBOX 4403LDNW1A7RW18"
        ],
        [
         "2327",
         "spam",
         "URGENT! Your mobile number *************** WON a å£2000 Bonus Caller prize on 10/06/03! This is the 2nd attempt to reach you! Call 09066368753 ASAP! Box 97N7QP  150ppm"
        ],
        [
         "2188",
         "spam",
         "FREE camera phones with linerental from 4.49/month with 750 cross ntwk mins. 1/2 price txt bundle deals also avble. Call 08001950382 or call2optout/J MF"
        ],
        [
         "1273",
         "spam",
         "network operator. The service is free. For T & C's visit 80488.biz"
        ],
        [
         "1624",
         "spam",
         "500 free text msgs. Just text ok to 80488 and we'll credit your account"
        ],
        [
         "2063",
         "spam",
         "URGENT! Your mobile No *********** WON a å£2 000 Bonus Caller Prize on 02/06/03! This is the 2nd attempt to reach YOU! Call 09066362220 ASAP! BOX97N7QP  150ppm"
        ],
        [
         "4843",
         "spam",
         "YOU HAVE WON! As a valued Vodafone customer our computer has picked YOU to win a å£150 prize. To collect is easy. Just call 09061743386"
        ],
        [
         "2294",
         "spam",
         "You have 1 new message. Please call 08718738034."
        ],
        [
         "4089",
         "spam",
         "We tried to call you re your reply to our sms for a video mobile 750 mins UNLIMITED TEXT + free camcorder Reply of call 08000930705 Now"
        ],
        [
         "2957",
         "spam",
         "U have a secret admirer. REVEAL who thinks U R So special. Call 09065174042. To opt out Reply REVEAL STOP. 1.50 per msg recd. Cust care 07821230901"
        ]
       ],
       "shape": {
        "columns": 2,
        "rows": 556
       }
      },
      "text/html": [
       "<div>\n",
       "<style scoped>\n",
       "    .dataframe tbody tr th:only-of-type {\n",
       "        vertical-align: middle;\n",
       "    }\n",
       "\n",
       "    .dataframe tbody tr th {\n",
       "        vertical-align: top;\n",
       "    }\n",
       "\n",
       "    .dataframe thead th {\n",
       "        text-align: right;\n",
       "    }\n",
       "</style>\n",
       "<table border=\"1\" class=\"dataframe\">\n",
       "  <thead>\n",
       "    <tr style=\"text-align: right;\">\n",
       "      <th></th>\n",
       "      <th>label</th>\n",
       "      <th>message</th>\n",
       "    </tr>\n",
       "  </thead>\n",
       "  <tbody>\n",
       "    <tr>\n",
       "      <th>3109</th>\n",
       "      <td>spam</td>\n",
       "      <td>Good Luck! Draw takes place 28th Feb 06. Good ...</td>\n",
       "    </tr>\n",
       "    <tr>\n",
       "      <th>4084</th>\n",
       "      <td>spam</td>\n",
       "      <td>Orange brings you ringtones from all time Char...</td>\n",
       "    </tr>\n",
       "    <tr>\n",
       "      <th>1204</th>\n",
       "      <td>spam</td>\n",
       "      <td>WIN a year supply of CDs 4 a store of ur choic...</td>\n",
       "    </tr>\n",
       "    <tr>\n",
       "      <th>423</th>\n",
       "      <td>spam</td>\n",
       "      <td>URGENT! Your Mobile number has been awarded wi...</td>\n",
       "    </tr>\n",
       "    <tr>\n",
       "      <th>1072</th>\n",
       "      <td>spam</td>\n",
       "      <td>Dear U've been invited to XCHAT. This is our f...</td>\n",
       "    </tr>\n",
       "    <tr>\n",
       "      <th>...</th>\n",
       "      <td>...</td>\n",
       "      <td>...</td>\n",
       "    </tr>\n",
       "    <tr>\n",
       "      <th>4817</th>\n",
       "      <td>ham</td>\n",
       "      <td>How's ur paper?</td>\n",
       "    </tr>\n",
       "    <tr>\n",
       "      <th>1859</th>\n",
       "      <td>ham</td>\n",
       "      <td>What's up. Do you want me to come online?</td>\n",
       "    </tr>\n",
       "    <tr>\n",
       "      <th>3269</th>\n",
       "      <td>ham</td>\n",
       "      <td>K actually can you guys meet me at the sunoco ...</td>\n",
       "    </tr>\n",
       "    <tr>\n",
       "      <th>1980</th>\n",
       "      <td>ham</td>\n",
       "      <td>Sorry  I'll call later</td>\n",
       "    </tr>\n",
       "    <tr>\n",
       "      <th>811</th>\n",
       "      <td>ham</td>\n",
       "      <td>So there's a ring that comes with the guys cos...</td>\n",
       "    </tr>\n",
       "  </tbody>\n",
       "</table>\n",
       "<p>556 rows × 2 columns</p>\n",
       "</div>"
      ],
      "text/plain": [
       "     label                                            message\n",
       "3109  spam  Good Luck! Draw takes place 28th Feb 06. Good ...\n",
       "4084  spam  Orange brings you ringtones from all time Char...\n",
       "1204  spam  WIN a year supply of CDs 4 a store of ur choic...\n",
       "423   spam  URGENT! Your Mobile number has been awarded wi...\n",
       "1072  spam  Dear U've been invited to XCHAT. This is our f...\n",
       "...    ...                                                ...\n",
       "4817   ham                                    How's ur paper?\n",
       "1859   ham          What's up. Do you want me to come online?\n",
       "3269   ham  K actually can you guys meet me at the sunoco ...\n",
       "1980   ham                             Sorry  I'll call later\n",
       "811    ham  So there's a ring that comes with the guys cos...\n",
       "\n",
       "[556 rows x 2 columns]"
      ]
     },
     "execution_count": 136,
     "metadata": {},
     "output_type": "execute_result"
    }
   ],
   "source": [
    "# Plus petit échantillon de données (10% spam/ham)\n",
    "\n",
    "spam = df_spam[df_spam['label']== 'spam']\n",
    "ham = df_spam[df_spam['label']== 'ham']\n",
    "idx_spam = int(0.1*len(spam))\n",
    "idx_ham = int(0.1*len(ham))\n",
    "\n",
    "sample_spam = spam.sample(n=idx_spam)\n",
    "sample_ham = ham.sample(n=idx_ham)\n",
    "\n",
    "df_sample = pd.concat([sample_spam, sample_ham])\n",
    "\n",
    "df_sample"
   ]
  },
  {
   "cell_type": "code",
   "execution_count": 137,
   "metadata": {},
   "outputs": [
    {
     "data": {
      "text/plain": [
       "array(['ham', 'spam'], dtype=object)"
      ]
     },
     "execution_count": 137,
     "metadata": {},
     "output_type": "execute_result"
    }
   ],
   "source": [
    "# Valeurs du label:\n",
    "df_spam['label'].unique()"
   ]
  },
  {
   "cell_type": "markdown",
   "metadata": {},
   "source": [
    "<font color=\"RED\" size=\"+1\"><b>[Q]</b></font> En utilisant `value_counts` (voir la doc de la librairie pandas), afficher le nombre d'exemples de chaque classe dans la base."
   ]
  },
  {
   "cell_type": "code",
   "execution_count": 138,
   "metadata": {},
   "outputs": [
    {
     "name": "stderr",
     "output_type": "stream",
     "text": [
      "/tmp/ipykernel_6009/3845764354.py:1: FutureWarning: pandas.value_counts is deprecated and will be removed in a future version. Use pd.Series(obj).value_counts() instead.\n",
      "  pd.value_counts(df_spam['label'])\n"
     ]
    },
    {
     "data": {
      "text/plain": [
       "label\n",
       "ham     4825\n",
       "spam     747\n",
       "Name: count, dtype: int64"
      ]
     },
     "execution_count": 138,
     "metadata": {},
     "output_type": "execute_result"
    }
   ],
   "source": [
    "pd.value_counts(df_spam['label'])"
   ]
  },
  {
   "cell_type": "markdown",
   "metadata": {},
   "source": [
    "## Prétraitements"
   ]
  },
  {
   "cell_type": "markdown",
   "metadata": {},
   "source": [
    "Pour traiter les données textuelles (colonne `message` du dataset), on utilise les fonctions de la librairie `string`."
   ]
  },
  {
   "cell_type": "code",
   "execution_count": 139,
   "metadata": {},
   "outputs": [
    {
     "name": "stdout",
     "output_type": "stream",
     "text": [
      "Caractères de ponctuations :  !\"#$%&'()*+,-./:;<=>?@[\\]^_`{|}~\n",
      "Mise en minuscules (pour homogénéiser l'écriture :  may the force be with you!\n",
      "Découper une phrase avec espace (retourne une liste): ['LU3IN026', 'est', \"l'UE\", \"d'IA\", 'et', 'Sciences', 'des', 'données.']\n",
      "Découper une phrase avec apostrophe (retourne une liste): ['LU3IN026 est l', 'UE d', 'IA et Sciences des données.']\n"
     ]
    }
   ],
   "source": [
    "import string\n",
    "\n",
    "print(\"Caractères de ponctuations : \", string.punctuation)\n",
    "\n",
    "print(\"Mise en minuscules (pour homogénéiser l'écriture : \", \"May the Force be with you!\".lower())\n",
    "\n",
    "print(\"Découper une phrase avec espace (retourne une liste):\", \"LU3IN026 est l'UE d'IA et Sciences des données.\".split())\n",
    "\n",
    "print(\"Découper une phrase avec apostrophe (retourne une liste):\", \"LU3IN026 est l'UE d'IA et Sciences des données.\".split(\"'\"))\n",
    "\n"
   ]
  },
  {
   "cell_type": "code",
   "execution_count": 140,
   "metadata": {},
   "outputs": [
    {
     "data": {
      "text/plain": [
       "['Ok', 'lar...', 'Joking', 'wif', 'u', 'oni...']"
      ]
     },
     "execution_count": 140,
     "metadata": {},
     "output_type": "execute_result"
    }
   ],
   "source": [
    "# Avec le dataframe du dataset:\n",
    "df_spam['message'][1].split()"
   ]
  },
  {
   "cell_type": "code",
   "execution_count": 141,
   "metadata": {},
   "outputs": [],
   "source": [
    "# Certains éléments d'une phrase ne sont pas utiles pour le traitement, par exemple en anglais:\n",
    "mots_inutiles = ['i', 'me', 'my', 'myself', 'we', 'our', 'ours', 'ourselves', 'you', \"you're\", \"you've\", \"you'll\", \"you'd\", 'your', 'yours', 'yourself', 'yourselves', 'he', 'him', 'his', 'himself', 'she', \"she's\", 'her', 'hers', 'herself', 'it', \"it's\", 'its', 'itself', 'they', 'them', 'their', 'theirs', 'themselves', 'what', 'which', 'who', 'whom', 'this', 'that', \"that'll\", 'these', 'those', 'am', 'is', 'are', 'was', 'were', 'be', 'been', 'being', 'have', 'has', 'had', 'having', 'do', 'does', 'did', 'doing', 'a', 'an', 'the', 'and', 'but', 'if', 'or', 'because', 'as', 'until', 'while', 'of', 'at', 'by', 'for', 'with', 'about', 'against', 'between', 'into', 'through', 'during', 'before', 'after', 'above', 'below', 'to', 'from', 'up', 'down', 'in', 'out', 'on', 'off', 'over', 'under', 'again', 'further', 'then', 'once', 'here', 'there', 'when', 'where', 'why', 'how', 'all', 'any', 'both', 'each', 'few', 'more', 'most', 'other', 'some', 'such', 'no', 'nor', 'not', 'only', 'own', 'same', 'so', 'than', 'too', 'very', 's', 't', 'can', 'will', 'just', 'don', \"don't\", 'should', \"should've\", 'now', 'd', 'll', 'm', 'o', 're', 've', 'y', 'ain', 'aren', \"aren't\", 'couldn', \"couldn't\", 'didn', \"didn't\", 'doesn', \"doesn't\", 'hadn', \"hadn't\", 'hasn', \"hasn't\", 'haven', \"haven't\", 'isn', \"isn't\", 'ma', 'mightn', \"mightn't\", 'mustn', \"mustn't\", 'needn', \"needn't\", 'shan', \"shan't\", 'shouldn', \"shouldn't\", 'wasn', \"wasn't\", 'weren', \"weren't\", 'won', \"won't\", 'wouldn', \"wouldn't\"]"
   ]
  },
  {
   "cell_type": "markdown",
   "metadata": {},
   "source": [
    "<font color=\"RED\" size=\"+1\"><b>[Q]</b></font> Ecrire la fonction `nettoyage` qui prend une chaîne de caractères et rend la chaîne après nettoyage: 1) mise en minuscules 2) remplacement des caractères de ponctuation par un espace (SAUF l'apostrophe qui doit rester car elle va être utilisée pour les mots inutiles).\n"
   ]
  },
  {
   "cell_type": "code",
   "execution_count": 142,
   "metadata": {},
   "outputs": [],
   "source": [
    "def nettoyage(message : str):\n",
    "    \"\"\"\n",
    "    input : \n",
    "        -chaine de caractères\n",
    "    returns : \n",
    "        - chaine mise en minuscule, ponctuation mise en espaces (sauf apostrophe)\n",
    "    \"\"\"\n",
    "\n",
    "    res = message.lower()\n",
    "    for lettre in res :\n",
    "        if lettre in string.punctuation:\n",
    "            if lettre!=\"'\":\n",
    "                res = res.replace(lettre, ' ')\n",
    "    return res\n",
    "    "
   ]
  },
  {
   "cell_type": "code",
   "execution_count": 143,
   "metadata": {},
   "outputs": [
    {
     "data": {
      "text/plain": [
       "\"lu3in026 est l'ue d'ia et sciences des données \""
      ]
     },
     "execution_count": 143,
     "metadata": {},
     "output_type": "execute_result"
    }
   ],
   "source": [
    "nettoyage(\"LU3IN026 est l'UE d'IA et Sciences des données.\")"
   ]
  },
  {
   "cell_type": "code",
   "execution_count": 145,
   "metadata": {},
   "outputs": [
    {
     "data": {
      "text/plain": [
       "'ok lar    joking wif u oni   '"
      ]
     },
     "execution_count": 145,
     "metadata": {},
     "output_type": "execute_result"
    }
   ],
   "source": [
    "nettoyage(df_spam['message'][1])"
   ]
  },
  {
   "cell_type": "code",
   "execution_count": 13,
   "metadata": {},
   "outputs": [
    {
     "data": {
      "text/plain": [
       "['ok', 'lar', 'joking', 'wif', 'u', 'oni']"
      ]
     },
     "execution_count": 13,
     "metadata": {},
     "output_type": "execute_result"
    }
   ],
   "source": [
    "nettoyage(df_spam['message'][1]).split()"
   ]
  },
  {
   "cell_type": "markdown",
   "metadata": {},
   "source": [
    "<font color=\"RED\" size=\"+1\"><b>[Q]</b></font> Ecrire la fonction `text2vect` qui prend une chaîne de caractères ainsi qu'une liste de mots inutiles et rend la liste composée par les mots de cette chaîne obtenus, après son nettoyage et après avoir enlevé les mots inutiles.\n",
    "\n"
   ]
  },
  {
   "cell_type": "code",
   "execution_count": 14,
   "metadata": {},
   "outputs": [],
   "source": [
    "def text2vect(message:str, inutiles:str):\n",
    "    \"\"\"\n",
    "    input: chaine de caractères\n",
    "    output: chaine sans les mots de inutiles\n",
    "    \"\"\"\n",
    "    res = []\n",
    "    cleaned = nettoyage(message)\n",
    "    for mot in cleaned.split() : \n",
    "        if mot not in inutiles :\n",
    "            res.append(mot)\n",
    "    return res"
   ]
  },
  {
   "cell_type": "code",
   "execution_count": 15,
   "metadata": {},
   "outputs": [
    {
     "data": {
      "text/plain": [
       "['may', 'force']"
      ]
     },
     "execution_count": 15,
     "metadata": {},
     "output_type": "execute_result"
    }
   ],
   "source": [
    "text2vect(\"May the Force be with you!\",mots_inutiles)"
   ]
  },
  {
   "cell_type": "code",
   "execution_count": 16,
   "metadata": {},
   "outputs": [
    {
     "data": {
      "text/plain": [
       "['ok', 'lar', 'joking', 'wif', 'u', 'oni']"
      ]
     },
     "execution_count": 16,
     "metadata": {},
     "output_type": "execute_result"
    }
   ],
   "source": [
    "text2vect(df_spam['message'][1],mots_inutiles)"
   ]
  },
  {
   "cell_type": "code",
   "execution_count": 17,
   "metadata": {},
   "outputs": [
    {
     "data": {
      "text/plain": [
       "['pass']"
      ]
     },
     "execution_count": 17,
     "metadata": {},
     "output_type": "execute_result"
    }
   ],
   "source": [
    "text2vect(\"You shan't not pass!\",mots_inutiles)"
   ]
  },
  {
   "cell_type": "markdown",
   "metadata": {},
   "source": [
    "<font color=\"RED\" size=\"+1\"><b>[Q]</b></font> Ajouter une nouvelle colonne de nom `les_mots` au dataframe `df_spam` pour laquelle chaque ligne contient le résultat de l'application de `text2vect` sur le message de l'exemple correspondant.\n"
   ]
  },
  {
   "cell_type": "code",
   "execution_count": 18,
   "metadata": {},
   "outputs": [
    {
     "data": {
      "text/html": [
       "<div>\n",
       "<style scoped>\n",
       "    .dataframe tbody tr th:only-of-type {\n",
       "        vertical-align: middle;\n",
       "    }\n",
       "\n",
       "    .dataframe tbody tr th {\n",
       "        vertical-align: top;\n",
       "    }\n",
       "\n",
       "    .dataframe thead th {\n",
       "        text-align: right;\n",
       "    }\n",
       "</style>\n",
       "<table border=\"1\" class=\"dataframe\">\n",
       "  <thead>\n",
       "    <tr style=\"text-align: right;\">\n",
       "      <th></th>\n",
       "      <th>label</th>\n",
       "      <th>message</th>\n",
       "      <th>les_mots</th>\n",
       "    </tr>\n",
       "  </thead>\n",
       "  <tbody>\n",
       "    <tr>\n",
       "      <th>0</th>\n",
       "      <td>ham</td>\n",
       "      <td>Go until jurong point  crazy.. Available only ...</td>\n",
       "      <td>[go, jurong, point, crazy, available, bugis, n...</td>\n",
       "    </tr>\n",
       "    <tr>\n",
       "      <th>1</th>\n",
       "      <td>ham</td>\n",
       "      <td>Ok lar... Joking wif u oni...</td>\n",
       "      <td>[ok, lar, joking, wif, u, oni]</td>\n",
       "    </tr>\n",
       "    <tr>\n",
       "      <th>2</th>\n",
       "      <td>spam</td>\n",
       "      <td>Free entry in 2 a wkly comp to win FA Cup fina...</td>\n",
       "      <td>[free, entry, 2, wkly, comp, win, fa, cup, fin...</td>\n",
       "    </tr>\n",
       "    <tr>\n",
       "      <th>3</th>\n",
       "      <td>ham</td>\n",
       "      <td>U dun say so early hor... U c already then say...</td>\n",
       "      <td>[u, dun, say, early, hor, u, c, already, say]</td>\n",
       "    </tr>\n",
       "    <tr>\n",
       "      <th>4</th>\n",
       "      <td>ham</td>\n",
       "      <td>Nah I don't think he goes to usf  he lives aro...</td>\n",
       "      <td>[nah, think, goes, usf, lives, around, though]</td>\n",
       "    </tr>\n",
       "    <tr>\n",
       "      <th>...</th>\n",
       "      <td>...</td>\n",
       "      <td>...</td>\n",
       "      <td>...</td>\n",
       "    </tr>\n",
       "    <tr>\n",
       "      <th>5567</th>\n",
       "      <td>spam</td>\n",
       "      <td>This is the 2nd time we have tried 2 contact u...</td>\n",
       "      <td>[2nd, time, tried, 2, contact, u, u, å£750, po...</td>\n",
       "    </tr>\n",
       "    <tr>\n",
       "      <th>5568</th>\n",
       "      <td>ham</td>\n",
       "      <td>Will Ì_ b going to esplanade fr home?</td>\n",
       "      <td>[ì, b, going, esplanade, fr, home]</td>\n",
       "    </tr>\n",
       "    <tr>\n",
       "      <th>5569</th>\n",
       "      <td>ham</td>\n",
       "      <td>Pity  * was in mood for that. So...any other s...</td>\n",
       "      <td>[pity, mood, suggestions]</td>\n",
       "    </tr>\n",
       "    <tr>\n",
       "      <th>5570</th>\n",
       "      <td>ham</td>\n",
       "      <td>The guy did some bitching but I acted like i'd...</td>\n",
       "      <td>[guy, bitching, acted, like, i'd, interested, ...</td>\n",
       "    </tr>\n",
       "    <tr>\n",
       "      <th>5571</th>\n",
       "      <td>ham</td>\n",
       "      <td>Rofl. Its true to its name</td>\n",
       "      <td>[rofl, true, name]</td>\n",
       "    </tr>\n",
       "  </tbody>\n",
       "</table>\n",
       "<p>5572 rows × 3 columns</p>\n",
       "</div>"
      ],
      "text/plain": [
       "     label                                            message  \\\n",
       "0      ham  Go until jurong point  crazy.. Available only ...   \n",
       "1      ham                      Ok lar... Joking wif u oni...   \n",
       "2     spam  Free entry in 2 a wkly comp to win FA Cup fina...   \n",
       "3      ham  U dun say so early hor... U c already then say...   \n",
       "4      ham  Nah I don't think he goes to usf  he lives aro...   \n",
       "...    ...                                                ...   \n",
       "5567  spam  This is the 2nd time we have tried 2 contact u...   \n",
       "5568   ham              Will Ì_ b going to esplanade fr home?   \n",
       "5569   ham  Pity  * was in mood for that. So...any other s...   \n",
       "5570   ham  The guy did some bitching but I acted like i'd...   \n",
       "5571   ham                         Rofl. Its true to its name   \n",
       "\n",
       "                                               les_mots  \n",
       "0     [go, jurong, point, crazy, available, bugis, n...  \n",
       "1                        [ok, lar, joking, wif, u, oni]  \n",
       "2     [free, entry, 2, wkly, comp, win, fa, cup, fin...  \n",
       "3         [u, dun, say, early, hor, u, c, already, say]  \n",
       "4        [nah, think, goes, usf, lives, around, though]  \n",
       "...                                                 ...  \n",
       "5567  [2nd, time, tried, 2, contact, u, u, å£750, po...  \n",
       "5568                 [ì, b, going, esplanade, fr, home]  \n",
       "5569                          [pity, mood, suggestions]  \n",
       "5570  [guy, bitching, acted, like, i'd, interested, ...  \n",
       "5571                                 [rofl, true, name]  \n",
       "\n",
       "[5572 rows x 3 columns]"
      ]
     },
     "execution_count": 18,
     "metadata": {},
     "output_type": "execute_result"
    }
   ],
   "source": [
    "# A COMPLETER\n",
    "les_mots = []\n",
    "for message in df_spam['message']:\n",
    "    les_mots.append(text2vect(message, mots_inutiles))\n",
    "\n",
    "df_spam['les_mots'] = les_mots\n",
    "# --------------------- Affichage du résultat:\n",
    "df_spam"
   ]
  },
  {
   "cell_type": "markdown",
   "metadata": {},
   "source": [
    "<font color=\"RED\" size=\"+1\"><b>[Q]</b></font> Construire la liste de tous les mots présents dans tous les vecteurs du dataframe, chaque mot doit n'apparaître qu'une seule fois dans la liste résultat. Cette liste sera stockée dans la variable `index_mots` (et on l'appelle par la suite \"index de mots\").\n"
   ]
  },
  {
   "cell_type": "code",
   "execution_count": 49,
   "metadata": {},
   "outputs": [],
   "source": [
    "index_mots = []\n",
    "for line in list(df_spam['les_mots']):\n",
    "    for word in line:\n",
    "        if word not in index_mots:\n",
    "            index_mots.append(word)\n",
    "# df_spam['les_mots'].unique()\n",
    "\n",
    "index_mots = np.array(index_mots)"
   ]
  },
  {
   "cell_type": "code",
   "execution_count": 52,
   "metadata": {},
   "outputs": [],
   "source": [
    "index_mots = set()\n",
    "for line in list(df_spam['les_mots']):\n",
    "    for word in line:\n",
    "        index_mots.add(word)\n",
    "# df_spam['les_mots'].unique()\n",
    "\n",
    "index_mots = list(index_mots)"
   ]
  },
  {
   "cell_type": "code",
   "execution_count": 53,
   "metadata": {},
   "outputs": [
    {
     "name": "stdout",
     "output_type": "stream",
     "text": [
      "Nombre de mots trouvés:  8840\n",
      "Les 10 premiers : ['minmoremobsemspobox45po139wa', 'prin', 'miserable', 'wall', 'others', 'mee', '09050000301', 'ears', 'photoshop', 'practicing']\n"
     ]
    }
   ],
   "source": [
    "print(\"Nombre de mots trouvés: \", len(index_mots))\n",
    "print(\"Les 10 premiers :\", index_mots[0:10])\n"
   ]
  },
  {
   "cell_type": "markdown",
   "metadata": {},
   "source": [
    "Chaque message va maintenant être représenté comme un vecteur de valeurs 0 ou 1: ce vecteur a autant de colonne qu'il y a de mots dans `index_mots`. Ce vecteur est construit ainsi: pour un exemple $i$, la valeur de la colonne $j$ du vecteur vaudra 1 si la liste de mots de l'exemple $i$ contient le mot en position $j$ dans `index_mots`, ou 0 dans le cas contraire.\n",
    "\n",
    "<font color=\"RED\" size=\"+1\"><b>[Q]</b></font> Ecrire la fonction `df2array` qui prend un dataframe `df` contenant la colonne `les_mots` ainsi qu'un index de mots et rend le `np.array` correspondant aux vecteurs de valeurs représentant les exemples de `df`.\n"
   ]
  },
  {
   "cell_type": "code",
   "execution_count": 22,
   "metadata": {},
   "outputs": [],
   "source": [
    "def df2array(df, index_mots):\n",
    "    \"\"\"\n",
    "    input: \n",
    "        -df: dataframe contenant la colonne 'les_mots' (liste de mots nettoyés et filtrés)\n",
    "        -index: index de tous les mots de la bdd\n",
    "    returns: \n",
    "        -nparray correspondant aux vecteurs des mots présents dans la bdd (1 si le mot est présent, 0 sinon\n",
    "    \"\"\"\n",
    "    \n",
    "    res = np.zeros((df.shape[0], len(index_mots)))\n",
    "   \n",
    "    for id_line in range(df['les_mots'].shape[0]):\n",
    "        for word in df['les_mots'][id_line]:\n",
    "            id_word = index_mots.index(word) #on cherche l'indice du mot dans l'index\n",
    "            res[id_line, id_word] = 1\n",
    "            \n",
    "    return res"
   ]
  },
  {
   "cell_type": "code",
   "execution_count": 23,
   "metadata": {},
   "outputs": [],
   "source": [
    "# Attention: le calcul peut prendre un certain temps\n",
    "mat_spam = df2array(df_spam,index_mots)"
   ]
  },
  {
   "cell_type": "code",
   "execution_count": 24,
   "metadata": {},
   "outputs": [
    {
     "data": {
      "text/plain": [
       "(5572, 8840)"
      ]
     },
     "execution_count": 24,
     "metadata": {},
     "output_type": "execute_result"
    }
   ],
   "source": [
    "mat_spam.shape"
   ]
  },
  {
   "cell_type": "code",
   "execution_count": 25,
   "metadata": {},
   "outputs": [
    {
     "name": "stdout",
     "output_type": "stream",
     "text": [
      "Message 0: ['go', 'jurong', 'point', 'crazy', 'available', 'bugis', 'n', 'great', 'world', 'la', 'e', 'buffet', 'cine', 'got', 'amore', 'wat']\n",
      "positions non nulles dans le vecteur d'index:\n",
      "colonne  222  :  wat\n",
      "colonne  366  :  e\n",
      "colonne  631  :  got\n",
      "colonne  1234  :  n\n",
      "colonne  1238  :  crazy\n",
      "colonne  1942  :  point\n",
      "colonne  1951  :  buffet\n",
      "colonne  3404  :  la\n",
      "colonne  4809  :  amore\n",
      "colonne  5092  :  cine\n",
      "colonne  5178  :  bugis\n",
      "colonne  6693  :  great\n",
      "colonne  7174  :  world\n",
      "colonne  8148  :  jurong\n",
      "colonne  8229  :  go\n",
      "colonne  8230  :  available\n"
     ]
    }
   ],
   "source": [
    "print(\"Message 0:\", df_spam['les_mots'][0])\n",
    "\n",
    "print(\"positions non nulles dans le vecteur d'index:\")\n",
    "\n",
    "for i in range(0, len(mat_spam[0])):\n",
    "    if mat_spam[0][i] == 1:\n",
    "        print(\"colonne \",i,\" : \", index_mots[i])\n",
    "    "
   ]
  },
  {
   "cell_type": "code",
   "execution_count": 26,
   "metadata": {},
   "outputs": [
    {
     "data": {
      "text/plain": [
       "747"
      ]
     },
     "execution_count": 26,
     "metadata": {},
     "output_type": "execute_result"
    }
   ],
   "source": [
    "# maintenant, il est possible d'extraire les vecteurs correspondant à un label donné, par exemple:\n",
    "len(mat_spam[df_spam['label']=='spam'])"
   ]
  },
  {
   "cell_type": "markdown",
   "metadata": {},
   "source": [
    "<font color=\"RED\" size=\"+1\"><b>[Q]</b></font> Construire un dictionnaire qui donne, pour chaque label, la fréquence, colonne par colonne, des exemples qui possèdent le label.\n"
   ]
  },
  {
   "cell_type": "code",
   "execution_count": 80,
   "metadata": {},
   "outputs": [
    {
     "name": "stdout",
     "output_type": "stream",
     "text": [
      "ham\n",
      "\t prin:\t 0.000207\n",
      "\t miserable:\t 0.000415\n",
      "\t wall:\t 0.000207\n",
      "\t others:\t 0.001865\n",
      "\t mee:\t 0.000207\n",
      "\t ears:\t 0.000207\n",
      "\t photoshop:\t 0.000207\n",
      "\t practicing:\t 0.000415\n",
      "\t abj:\t 0.000415\n",
      "\t awake:\t 0.001451\n",
      "Seuls les 10 premiers non nuls sont affichés.\n",
      "spam\n",
      "\t minmoremobsemspobox45po139wa:\t 0.002677\n",
      "\t 09050000301:\t 0.001339\n",
      "\t helen:\t 0.001339\n",
      "\t 50gbp:\t 0.004016\n",
      "\t 87066:\t 0.017403\n",
      "\t cheaper:\t 0.002677\n",
      "\t award:\t 0.025435\n",
      "\t 09066364349:\t 0.001339\n",
      "\t tonexs:\t 0.001339\n",
      "\t news:\t 0.013387\n",
      "Seuls les 10 premiers non nuls sont affichés.\n"
     ]
    }
   ],
   "source": [
    "les_labels = df_spam['label'].unique()\n",
    "\n",
    "frequences = dict()\n",
    "for l in les_labels:\n",
    "    count = mat_spam[df_spam['label'] == l].sum(axis=0)  # somme de toutes les colonnes = count des mots\n",
    "    size_count = len(mat_spam[df_spam['label'] == l])\n",
    "    frequences[l] = np.array([0.0] * len(index_mots))\n",
    "    for id_element in range(len(count)):\n",
    "        frequences[l][id_element] = count[id_element] / size_count\n",
    "\n",
    "    \n",
    "# ########################################\n",
    "# Affichage des valeurs non nulles:\n",
    "for l in frequences:\n",
    "    print(l)\n",
    "    nb = 0\n",
    "    for j in range(0, len(frequences[l])):\n",
    "        if frequences[l][j] != 0:\n",
    "            if nb < 10:\n",
    "                print(f'\\t {index_mots[j]}:\\t {frequences[l][j]:0.6f}')\n",
    "            nb += 1\n",
    "    print(\"Seuls les 10 premiers non nuls sont affichés.\")"
   ]
  },
  {
   "cell_type": "code",
   "execution_count": 81,
   "metadata": {},
   "outputs": [
    {
     "name": "stdout",
     "output_type": "stream",
     "text": [
      "[0.         0.00020725 0.00041451 ... 0.         0.         0.00020725]\n"
     ]
    }
   ],
   "source": [
    "print(frequences['ham'])"
   ]
  },
  {
   "cell_type": "code",
   "execution_count": 82,
   "metadata": {},
   "outputs": [
    {
     "name": "stdout",
     "output_type": "stream",
     "text": [
      " 0.000000\n"
     ]
    }
   ],
   "source": [
    "#index_mots.index('tried')\n",
    "\n",
    "print(f\" {frequences['spam'][index_mots.index('jurong')]:0.6f}\")"
   ]
  },
  {
   "cell_type": "markdown",
   "metadata": {},
   "source": [
    "## Classification de textes\n",
    "\n",
    "<div class=\"alert alert-block alert-warning\">\n",
    "On considère deux variables $X$ et $Y$ :\n",
    "    <ul>\n",
    "        <li>$X$ est un message</li>\n",
    "        <li>$Y$ est le label d'un message et peut prendre 2 valeurs : <code>'ham'</code> et <code>'spam'</code></li>\n",
    "    </ul>\n",
    "\n",
    "Avec les fonctions précédentes on peut représenter les messages d'un corpus de documents sous la forme d'un vecteur $X \\in \\{0, 1\\}^p$ où $p$ est le nombre total de mots de l'index. Le $i$ème message est représenté par le vecteur ${\\bf x}_i = [x_{i1} \\dots x_{ip}]$, où $x_{ij}$ vaut 1 si le $j$ème mot de l'index est présent dans le message $i$, et 0 sinon.\n",
    "    \n",
    "Comme vu en cours, pour un classifieur bayésien, nous devons estimer, à partir de la base <code>df_spam</code>, les probabilités $p(ham)$, $p(spam)$, $p(X |ham)$ et $p(X | spam)$.\n",
    "\n",
    "Les 2 premières sont simples à calculer : on compte le nombre de fois où le label apparaît parmi les exemples.\n",
    "\n",
    "Pour un label $Y$ et un exemple ${\\bf x}$, le calcul de $p({\\bf x} | Y)$ se fait en utilisant les probabilités $p(mot | Y)$ de tous les mots qui composent ${\\bf x}$ (et qui sont des mots de l'index des mots). $p(mot | Y)$ est la probabilité que le mot <code>mot</code> apparaisse dans un message sachant que ce message appartient à la classe $Y$.\n",
    "    \n",
    "On pose ainsi\n",
    "\n",
    "$$ p({\\bf x} | Y) = \\prod_{mot \\in index\\_mots} p(mot | Y)^{x_{mot}} \\left(1 - p(mot | Y)\\right)^{1 - x_{mot}} $$\n",
    "\n",
    "où $x_{mot}$ correspond à $1$ ou $0$ selon que le `mot` apparaît dans ${\\bf x}$ ou pas. Ce terme permet de retenir soit la probabilité $p(mot | Y)$ si le mot est dans ${\\bf x}$, soit la probabilité qu'il n'y soit pas ($1-p(mot |Y)$).\n",
    "    \n",
    "Une fois que $p({\\bf x} | Y)$ est calculée, on peut estimer $p(Y|X)$ grâce au théorème de Bayes (cf. cours 6):\n",
    "\n",
    "$$p(Y|{\\bf x}) = p(Y) p({\\bf x} | Y)$$\n",
    "\n",
    "avec $Y$ qui vaut soit 'ham', soit 'spam'.    \n",
    "\n",
    "    \n",
    "Une fois $p(Y|{{\\bf x}})$ calculée pour chaque valeur de label, pour prédire le label de ${\\bf x}$ on choisit le label qui possède la plus forte probabilité.\n",
    "</div>"
   ]
  },
  {
   "cell_type": "code",
   "execution_count": 83,
   "metadata": {},
   "outputs": [
    {
     "name": "stdout",
     "output_type": "stream",
     "text": [
      "p(ham ) = 0.8659\n",
      "p(spam) = 0.1341\n"
     ]
    }
   ],
   "source": [
    "# calculer p(ham) et p(spam) dans df_spam:\n",
    "\n",
    "for l in ['ham', 'spam']:\n",
    "    proba = len(df_spam[df_spam['label']==l]) / len(df_spam)\n",
    "\n",
    "    print(f'p({l:4}) = {proba:0.4f}')\n"
   ]
  },
  {
   "cell_type": "markdown",
   "metadata": {},
   "source": [
    "<font color=\"RED\" size=\"+1\"><b>[Q]</b></font> Ecrire la fonction `proba_mot` qui étant donné un mot, un label, une liste de mots, et un dictionnaire comme `frequences` (compatible avec la liste de mots) rend $p(mot| label)$ la probabilité du mot d'appartenir au label donné.\n"
   ]
  },
  {
   "cell_type": "code",
   "execution_count": 84,
   "metadata": {},
   "outputs": [],
   "source": [
    "def proba_mot(mot:str, label:str, index_mots:list, frequences:dict):\n",
    "    \"\"\"\n",
    "    input: \n",
    "        -label: 'ham' ou 'spam'\n",
    "        -mot: mot dont on veut la probabilité\n",
    "        -frequences: dictionnaire des fréquences des mots\n",
    "        -index_mots: liste des mots de la bdd\n",
    "    returns: \n",
    "        -probabilité que mot appartienne à label\n",
    "    \"\"\"\n",
    "    if mot in index_mots and label in frequences:\n",
    "        return frequences[label][index_mots.index(mot)]\n",
    "    else:\n",
    "        return 0"
   ]
  },
  {
   "cell_type": "code",
   "execution_count": 85,
   "metadata": {},
   "outputs": [
    {
     "data": {
      "text/plain": [
       "0"
      ]
     },
     "execution_count": 85,
     "metadata": {},
     "output_type": "execute_result"
    }
   ],
   "source": [
    "# probabilité d'un mot qui n'est pas dans l'index:\n",
    "proba_mot(\"toto\", \"ham\", index_mots, frequences)"
   ]
  },
  {
   "cell_type": "code",
   "execution_count": 67,
   "metadata": {},
   "outputs": [
    {
     "data": {
      "text/plain": [
       "0"
      ]
     },
     "execution_count": 67,
     "metadata": {},
     "output_type": "execute_result"
    }
   ],
   "source": [
    "# probabilité d'un mot de l'index pour un label qui n'existe pas:\n",
    "proba_mot(\"visit\", \"cookie\", index_mots, frequences)"
   ]
  },
  {
   "cell_type": "code",
   "execution_count": 86,
   "metadata": {},
   "outputs": [
    {
     "data": {
      "text/plain": [
       "0.0018652849740932642"
      ]
     },
     "execution_count": 86,
     "metadata": {},
     "output_type": "execute_result"
    }
   ],
   "source": [
    "# probabilité d'un mot de l'index pour un label qui existe:\n",
    "proba_mot(\"visit\", \"ham\", index_mots, frequences)"
   ]
  },
  {
   "cell_type": "code",
   "execution_count": 87,
   "metadata": {},
   "outputs": [
    {
     "data": {
      "text/plain": [
       "0.009370816599732263"
      ]
     },
     "execution_count": 87,
     "metadata": {},
     "output_type": "execute_result"
    }
   ],
   "source": [
    "# probabilité d'un mot de l'index pour un label qui existe:\n",
    "proba_mot(\"visit\", \"spam\", index_mots, frequences)"
   ]
  },
  {
   "cell_type": "markdown",
   "metadata": {},
   "source": [
    "<font color=\"RED\" size=\"+1\"><b>[Q]</b></font> Ecrire la fonction `proba_exemple` qui étant donné un exemple représenté sous la forme d'une liste de mots, un label, une liste de mots, et un dictionnaire comme `frequences` (compatible avec la liste de mots) rend $p(exemple|label)$ la probabilité de l'exemple d'appartenir au label.\n"
   ]
  },
  {
   "cell_type": "code",
   "execution_count": 91,
   "metadata": {},
   "outputs": [],
   "source": [
    "def proba_exemple(exemple:list, label:str, index_mots:list, frequences:dict):\n",
    "    \"\"\"\n",
    "    input: \n",
    "        -exemple: liste de mots\n",
    "        -label: 'ham' ou 'spam'\n",
    "        -frequences: dictionnaire des fréquences des mots\n",
    "        -index_mots: liste des mots de la bdd\n",
    "    returns: \n",
    "        -probabilité que exemple appartienne à label\n",
    "    \"\"\"\n",
    "    res = 1\n",
    "    for mot in index_mots:\n",
    "        if mot in exemple:\n",
    "            res *= proba_mot(mot, label, index_mots, frequences)\n",
    "        else:\n",
    "            res *= (1- proba_mot(mot, label, index_mots, frequences))\n",
    "    return res"
   ]
  },
  {
   "cell_type": "code",
   "execution_count": 92,
   "metadata": {},
   "outputs": [
    {
     "data": {
      "text/plain": [
       "8.276300074060088e-43"
      ]
     },
     "execution_count": 92,
     "metadata": {},
     "output_type": "execute_result"
    }
   ],
   "source": [
    "proba_exemple(df_spam['les_mots'][0], 'ham', index_mots,frequences)"
   ]
  },
  {
   "cell_type": "code",
   "execution_count": 93,
   "metadata": {},
   "outputs": [
    {
     "data": {
      "text/plain": [
       "0.0"
      ]
     },
     "execution_count": 93,
     "metadata": {},
     "output_type": "execute_result"
    }
   ],
   "source": [
    "proba_exemple(df_spam['les_mots'][0], 'spam', index_mots,frequences)\n"
   ]
  },
  {
   "cell_type": "code",
   "execution_count": 95,
   "metadata": {},
   "outputs": [
    {
     "data": {
      "text/plain": [
       "1.0889167353895188e-20"
      ]
     },
     "execution_count": 95,
     "metadata": {},
     "output_type": "execute_result"
    }
   ],
   "source": [
    "proba_exemple(df_spam['les_mots'][4], 'ham', index_mots,frequences)"
   ]
  },
  {
   "cell_type": "markdown",
   "metadata": {},
   "source": [
    "<font color=\"RED\" size=\"+1\"><b>[Q]</b></font> En utilisant toutes les fonctions écrites, le taux de bonne prédiction du classifieur bayésien naïf pour chaque valeur de label pour le dataset spam."
   ]
  },
  {
   "cell_type": "code",
   "execution_count": 105,
   "metadata": {},
   "outputs": [
    {
     "name": "stdout",
     "output_type": "stream",
     "text": [
      "Message 0 : (8.276300074060088e-43, 0.0)\n",
      "Message 1 : (1.395051352449745e-16, 0.0)\n",
      "Message 2 : (0.0, 3.02224083189476e-47)\n",
      "Message 3 : (7.117071679822502e-18, 0.0)\n",
      "Message 4 : (1.0889167353895188e-20, 0.0)\n",
      "Message 5 : (0.0, 1.9575583785492967e-47)\n",
      "Message 6 : (4.428429080981951e-22, 0.0)\n",
      "Message 7 : (2.5403995004170723e-49, 0.0)\n",
      "Message 8 : (0.0, 1.1824247324388976e-36)\n",
      "Message 9 : (0.0, 1.5255714095456845e-29)\n",
      "Résultats des 10 premiers classements :  {'ham': {True: 6, False: 0}, 'spam': {True: 4, False: 0}}\n"
     ]
    }
   ],
   "source": [
    "les_labels = df_spam['label'].unique()\n",
    "\n",
    "# La variable suivante permettra de stocker les résultats\n",
    "taux = dict()\n",
    "for l in les_labels:\n",
    "    taux[l] = dict()\n",
    "    taux[l][True] = 0    # nombre de bien classés\n",
    "    taux[l][False] = 0   # nombre de mal classés\n",
    "    \n",
    "# ------------------------ \n",
    "for id_line in range(0, 10):\n",
    "    val_ham = proba_exemple(df_spam['les_mots'][id_line], 'ham', index_mots,frequences)\n",
    "    val_spam = proba_exemple(df_spam['les_mots'][id_line], 'spam', index_mots,frequences)\n",
    "    print(f\"Message {id_line} : {val_ham, val_spam}\")\n",
    "    if val_ham > val_spam:\n",
    "        if (df_spam['label'][id_line] == 'ham'):\n",
    "            taux['ham'][True] += 1\n",
    "        else :\n",
    "            taux['ham'][False] += 1\n",
    "    else:\n",
    "        if (df_spam['label'][id_line] == 'spam'):\n",
    "            taux['spam'][True] += 1\n",
    "        else :\n",
    "            taux['spam'][False] += 1\n",
    "\n",
    "\n",
    "# ----------------------------------------------------\n",
    "print(\"Résultats des 10 premiers classements : \", taux)\n",
    "# le résultat total peut prendre un certain temps...\n",
    "\n",
    "# Il reste à calculer les taux de bonne classification par label"
   ]
  },
  {
   "cell_type": "markdown",
   "metadata": {},
   "source": [
    "## Evaluation du classifieur Naive Bayes\n",
    "\n",
    "Pour tout ce que l'on a fait jusque-là, on a travaillé sur tout le dataset, pour pouvoir l'évaluer il est nécessaire de le séparer en ensemble d'apprentissage et ensemble de test."
   ]
  },
  {
   "cell_type": "markdown",
   "metadata": {},
   "source": [
    "<font color=\"RED\" size=\"+1\"><b>[Q]</b></font> Découper aléatoirement `df_spam` en 2 parties égales, chacune contenant des exemples des 2 labels, avec la même distribution des labels dans chaque partie. \n",
    "Une des parties sert à apprendre l'index des mots et leurs fréquences.\n",
    "L'autre partie n'est utilisée que pour calculer le taux de bonne classification par label.\n",
    "\n",
    "Donner ensuite les taux de bonne classification par label pour l'ensemble de train et pour l'ensemble de test.\n",
    "\n",
    "*Remarque*: certains mots de la partie de test pourront ne pas être présents dans l'index de mots car ils peuvent être absents de la partie d'apprentissage."
   ]
  },
  {
   "cell_type": "markdown",
   "metadata": {},
   "source": [
    "<font color=\"RED\" size=\"+1\"><b>[Q]</b></font> Mettre en place une approche par validation croisée pour évaluer le taux de bonne classification moyen de cette approche. "
   ]
  },
  {
   "cell_type": "markdown",
   "metadata": {},
   "source": [
    "<font color=\"RED\" size=\"+1\"><b>[Q]</b></font> Comparer les résultats obtenus (taux de bonne classification avec la validation croisée, temps de calcul) avec ceux obtenus avec l'application d'un classifieur par $k$ plus proches voisins. Pour cela, la `mat_spam` doit être utilisée comme description des données. "
   ]
  },
  {
   "cell_type": "code",
   "execution_count": null,
   "metadata": {},
   "outputs": [],
   "source": []
  }
 ],
 "metadata": {
  "kernelspec": {
   "display_name": "Python 3",
   "language": "python",
   "name": "python3"
  },
  "language_info": {
   "codemirror_mode": {
    "name": "ipython",
    "version": 3
   },
   "file_extension": ".py",
   "mimetype": "text/x-python",
   "name": "python",
   "nbconvert_exporter": "python",
   "pygments_lexer": "ipython3",
   "version": "3.12.3"
  }
 },
 "nbformat": 4,
 "nbformat_minor": 4
}
