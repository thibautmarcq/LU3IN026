{
 "cells": [
  {
   "cell_type": "markdown",
   "metadata": {},
   "source": [
    "IA & Data science (LU3IN0226) -- 2024-2025\n",
    "--------\n",
    "*&copy; Equipe pédagogique: Christophe Marsala, Olivier Schwander, Jean-Noël Vittaut.*\n"
   ]
  },
  {
   "cell_type": "markdown",
   "metadata": {},
   "source": [
    "<font size=\"+1\" color=\"RED\">**[Q]**</font> **Indiquer dans la boîte ci-dessous vos noms et prénoms :**"
   ]
  },
  {
   "cell_type": "markdown",
   "metadata": {},
   "source": [
    "MARCQ Thibaut"
   ]
  },
  {
   "cell_type": "markdown",
   "metadata": {},
   "source": [
    "<font color=\"RED\" size=\"+1\">**[Q]**</font> **Renommer ce fichier ipython**\n",
    "\n",
    "Tout en haut de cette page, cliquer sur <tt>tme-01</tt> et rajouter à la suite de <tt>tme-01</tt> les noms des membres du binômes séparés par un tiret.\n",
    "\n",
    "Par exemple, pour le binôme Luke Skywalker et Han Solo, le nom de fichier devient : <pre>tme-01-Skywalker-Solo</pre>\n",
    "\n",
    "Penser à sauvegarder fréquemment le fichier en cours de travail :\n",
    "- soit en cliquant sur l'icône \"disquette\"\n",
    "- soit par la combinaison de touches [Ctrl]-S"
   ]
  },
  {
   "cell_type": "markdown",
   "metadata": {},
   "source": [
    "<font color=\"RED\" size=\"+1\">IMPORTANT: soumission de votre fichier final</font>\n",
    "\n",
    "**Nom à donner au fichier à poster** : *Nom1_Nom2.ipynb* \n",
    "- *Nom1* et *Nom2* : noms des membres du binôme\n",
    "- ne pas compresser ou faire une archive: il faut rendre le fichier ipython tel quel, éventuellement, si vous avez d'autres fichiers vous les rendez séparément.\n",
    "\n",
    "**Echancier pour la soumission de votre compte-rendu:**\n",
    "- le compte-rendu d'une séance doit être remis obligatoirement <font color=\"RED\">avant le début de la séance suivante</font>.\n",
    "\n",
    "**Le compte-rendu est soumis sur la page Moodle.**"
   ]
  },
  {
   "cell_type": "markdown",
   "metadata": {},
   "source": [
    "## Semaine 1: structures de données\n"
   ]
  },
  {
   "cell_type": "markdown",
   "metadata": {},
   "source": [
    "## Présentation ##\n",
    "\n",
    "### Objectifs de ce TME 1\n",
    "\n",
    "Le travail à réaliser est le suivant :\n",
    "- apprendre à utiliser jupyter notebook (cf doc: <https://docs.jupyter.org/en/latest/>).\n",
    "- se documenter sur les structures de données qui seront utilisées pour programmer tout au long du semestre: numpy et pandas.\n",
    "- implémenter des premières fonctions qui seront utiles ce semestre."
   ]
  },
  {
   "cell_type": "markdown",
   "metadata": {},
   "source": [
    "## Apprendre à utiliser jupyter notebook\n",
    "\n",
    "Ce document est dynamique: il est composé de \"boîtes\" qui peuvent être \"compilées\" par la commande \"Run Cells\" du menu \"Cell\" (ou bien en cliquant sur l'icône >| ou par la combinaison des touches [SHIFT][ENTREE]).\n",
    "\n",
    "Il y a **2 types principaux** de boîtes :\n",
    "- les boîtes \"Markdown\": tout ce qui est tapé dans ces boîtes est du texte qui sera rendu \"joliment\" après avoir été compilé. On peut y écrire des commandes en Latex pour définir des équations, et il reconnaît certaines balises HTML. En cliquant 2 fois dans une boîte Markdown compilée, on a accès à son contenu et on peut alors le modifier.\n",
    "- les boîtes \"Code\": dans ces boîtes, on écrit du code Python. La compilation de la boîte produit l'exécution de ce code Python et produit une boîte \"Out\" dans laquelle le résultat de la dernière commande est affiché. On peut y écrire tout code Python valide. Ce type de boîtes se reconnaît par \"In [n]\" inscrit à côté de leur coin haut gauche (\"n\" est un entier).\n",
    "\n",
    "Le type d'une boîte peut être modifié à l'aide du menu en haut de la page (juste au dessus du texte).\n",
    "\n",
    "L'icône \"+\" permet de créer une nouvelle boîte juste en dessous de la boîte active.\n",
    "\n",
    "L'icône avec les ciseaux permet d'effacer la boîte active (attention ! c'est **irréversible !**).\n",
    "\n",
    "Pour en savoir plus :\n",
    "- http://ipython.org/\n",
    "\n",
    "Vous pouvez aussi vous référer à la documentation Python:\n",
    "- https://www.python.org/\n",
    "\n",
    "\n",
    "Dans ce qui suit, les boîtes Markdown commençant par <font color=\"RED\" size=\"+1\">**[Q]**</font> posent des questions auxquelles il faut répondre dans la boîte qui suit directement (éventuellement, en créant des nouvelles boîtes de type \"Code\" ou \"Markdown\", à votre convenance).\n",
    "Certaines des boîtes \"Code\" à remplir sont suivies d'une sortie \"Out[.]:\" qui montre un exemple de résultat attendu. \n",
    "\n",
    "N'hésitez pas à créer de nouvelles boîtes \"Code\" ou \"Markdown\" dans ce document si vous en avez besoin (cela est même conseillé !).\n"
   ]
  },
  {
   "cell_type": "code",
   "execution_count": 1,
   "metadata": {},
   "outputs": [
    {
     "name": "stdout",
     "output_type": "stream",
     "text": [
      "Un essai quelconque :\n"
     ]
    },
    {
     "data": {
      "text/plain": [
       "5"
      ]
     },
     "execution_count": 1,
     "metadata": {},
     "output_type": "execute_result"
    }
   ],
   "source": [
    "# exemple de boîte de code :\n",
    "#    --> sélectionner cette boîte (en cliquant à l'intérieur)\n",
    "#    --> effectuer \"Run Cells\" du Menu \"Cell\" (ou bien cliquer sur l'icône >|)\n",
    "# \n",
    "\n",
    "print(\"Un essai quelconque :\")\n",
    "2+3\n"
   ]
  },
  {
   "cell_type": "markdown",
   "metadata": {},
   "source": [
    "<font color=\"RED\" size=\"+1\">**[Q]**</font> Dans la boîte \"Code\" suivante, donner les instructions Python pour effectuer le calcul : \n",
    "$$-\\frac{1}{3}\\log_2(\\frac{1}{3})-\\frac{2}{3}\\log_2(\\frac{2}{3})$$\n",
    "\n",
    "Dont la valeur à trouver est :\n",
    "    0.9182958340544896"
   ]
  },
  {
   "cell_type": "code",
   "execution_count": 2,
   "metadata": {},
   "outputs": [
    {
     "name": "stdout",
     "output_type": "stream",
     "text": [
      "0.9182958340544896\n"
     ]
    }
   ],
   "source": [
    "import numpy as np\n",
    "\n",
    "print(-(1/3)*np.log2(1/3)-(2/3)*np.log2(2/3))"
   ]
  },
  {
   "cell_type": "markdown",
   "metadata": {},
   "source": [
    "<div class=\"alert alert-block alert-danger\">\n",
    "<font style=\"BACKGROUND-COLOR: lightgray\" color='red'> Important</font> :\n",
    "en lisant le texte d'un fichier jupyter sur votre ordinateur, pensez bien à exécuter les boîtes \"Code\" dans l'ordre de leur apparition. Toute la page se comporte comme une session Python unique et il pour exécuter certaines boîtes il est nécessaire que les précédentes aient été exécutées au préalable.\n",
    "    \n",
    "De même, vous pouvez réinitialiser complètement la session en cliquant sur Noyau et redémarrer.\n",
    "</div>"
   ]
  },
  {
   "cell_type": "markdown",
   "metadata": {},
   "source": [
    "<font color=\"RED\" size=\"+1\">**[Q]**</font> Dans la boîte \"Code\" suivante, écrire la fonction `calcul` qui, étant donné un réel $x$ de [0,1] rend la valeur du calcul $$-x\\log_2(x)-(1-x)\\log_2(1-x)$$ si $x\\not= 0$ et $x \\not= 1$ ou la valeur $0.0$ sinon."
   ]
  },
  {
   "cell_type": "code",
   "execution_count": 3,
   "metadata": {},
   "outputs": [],
   "source": [
    "def calcul(x):\n",
    "    if x==1 or x==0:\n",
    "        return 0.0\n",
    "    else:\n",
    "        return (float)(-x*np.log2(x)-(1-x)*np.log2(1-x))"
   ]
  },
  {
   "cell_type": "code",
   "execution_count": 4,
   "metadata": {},
   "outputs": [
    {
     "data": {
      "text/plain": [
       "0.0"
      ]
     },
     "execution_count": 4,
     "metadata": {},
     "output_type": "execute_result"
    }
   ],
   "source": [
    "calcul(0)"
   ]
  },
  {
   "cell_type": "code",
   "execution_count": 5,
   "metadata": {},
   "outputs": [
    {
     "data": {
      "text/plain": [
       "0.9182958340544896"
      ]
     },
     "execution_count": 5,
     "metadata": {},
     "output_type": "execute_result"
    }
   ],
   "source": [
    "calcul(1/3)"
   ]
  },
  {
   "cell_type": "code",
   "execution_count": 6,
   "metadata": {},
   "outputs": [
    {
     "data": {
      "text/plain": [
       "1.0"
      ]
     },
     "execution_count": 6,
     "metadata": {},
     "output_type": "execute_result"
    }
   ],
   "source": [
    "calcul(0.5)"
   ]
  },
  {
   "cell_type": "markdown",
   "metadata": {},
   "source": [
    "## Documentation\n",
    "\n",
    "\n",
    "Dans un premier temps, et c'est un des objectifs de cette séance, vous devez prendre en main les libraries **numpy**, **pandas** et **matplotlib**:\n",
    "\n",
    "- Numpy = <http://scipy.github.io/old-wiki/pages/Tentative_NumPy_Tutorial>\n",
    "  ou bien <https://realpython.com/numpy-tutorial/>\n",
    "- Pandas = http://pandas.pydata.org/pandas-docs/stable/10min.html\n",
    "- Matplotlib = https://matplotlib.org/stable/index.html\n",
    "\n",
    "Lisez ces pages et pratiquez ces tutoriaux afin de bien vous familiariser avec ces outils."
   ]
  },
  {
   "cell_type": "markdown",
   "metadata": {},
   "source": [
    "<font color=\"RED\" size=\"+1\">**[Q]**</font> Donner dans la boîte suivante les grandes caractéristiques de chacunes de ces 3 librairies: A quoi servent-elles ? Que permettent-elles de représenter ? Quelle est leur utilité et leurs spécificités ? etc. etc.\n",
    "\n",
    "Donner des exemples de leurs utilisations spécifiques."
   ]
  },
  {
   "cell_type": "markdown",
   "metadata": {},
   "source": [
    "<div class=\"alert alert-block alert-info\">\n",
    "    Pour utiliser les 3 librairies précédentes, vous devrez d'abord les importer dans Jupyter par les commandes données dans la boite suivante.\n",
    "\n",
    "Si une librairie n'est pas installée, une erreur peut se produire lors de son import. Il est alors nécessaire de l'installer. Par exemple, pour la librairie pandas sur les machines de la PPTI:\n",
    "- dans un terminal, exécuter la commande:\n",
    "    \n",
    "        pip install --user -U --proxy http://proxy:3128 pandas\n",
    "\n",
    "(le proxy n'est nécessaire que pour les salles machines, vous n'avez pas à l'utiliser sur vos machines personnelles).\n",
    "- une fois la librairie installée, il est nécessaire de relancer le noyau Python de Jupyter:\n",
    "    dans le menu de Jupyter tout en haut de la page, choisir \"<tt>Kernel -> restart</tt>\"\n",
    "</div>\n"
   ]
  },
  {
   "cell_type": "code",
   "execution_count": 7,
   "metadata": {},
   "outputs": [
    {
     "name": "stderr",
     "output_type": "stream",
     "text": [
      "/home/thibaut/.local/lib/python3.12/site-packages/matplotlib/projections/__init__.py:63: UserWarning: Unable to import Axes3D. This may be due to multiple versions of Matplotlib being installed (e.g. as a system package and as a pip package). As a result, the 3D projection is not available.\n",
      "  warnings.warn(\"Unable to import Axes3D. This may be due to multiple versions of \"\n"
     ]
    }
   ],
   "source": [
    "import numpy as np\n",
    "import pandas as pd\n",
    "import matplotlib.pyplot as plt\n",
    "%matplotlib inline  "
   ]
  },
  {
   "cell_type": "markdown",
   "metadata": {},
   "source": [
    "<font color=\"RED\" size=\"+1\">**[Q]**</font> On souhaite tracer la courbe associée à la fonction `calcul` précédente pour $x\\in[0,1]$. On commence d'abord par calculer des valeurs de la fonction pour plusieurs $x$ puis on trace la courbe avec la fonction `plot` de la librairie matplotlib (cf. la doc)."
   ]
  },
  {
   "cell_type": "code",
   "execution_count": 8,
   "metadata": {},
   "outputs": [
    {
     "ename": "NameError",
     "evalue": "name 'valeurs_x' is not defined",
     "output_type": "error",
     "traceback": [
      "\u001b[0;31m---------------------------------------------------------------------------\u001b[0m",
      "\u001b[0;31mNameError\u001b[0m                                 Traceback (most recent call last)",
      "Cell \u001b[0;32mIn[8], line 1\u001b[0m\n\u001b[0;32m----> 1\u001b[0m res_calcul \u001b[38;5;241m=\u001b[39m [calcul(x) \u001b[38;5;28;01mfor\u001b[39;00m x \u001b[38;5;129;01min\u001b[39;00m \u001b[43mvaleurs_x\u001b[49m]  \u001b[38;5;66;03m# liste qui contient la valeur de la fonction calcul pour chaque x contenu dans la valeur\u001b[39;00m\n\u001b[1;32m      3\u001b[0m \u001b[38;5;28mprint\u001b[39m(res_calcul)\n",
      "\u001b[0;31mNameError\u001b[0m: name 'valeurs_x' is not defined"
     ]
    }
   ],
   "source": [
    "res_calcul = [calcul(x) for x in valeurs_x]  # liste qui contient la valeur de la fonction calcul pour chaque x contenu dans la valeur\n",
    "\n",
    "print(res_calcul)"
   ]
  },
  {
   "cell_type": "code",
   "execution_count": 15,
   "metadata": {},
   "outputs": [
    {
     "name": "stdout",
     "output_type": "stream",
     "text": [
      "[0.0, 0.05, 0.1, 0.15000000000000002, 0.2, 0.25, 0.30000000000000004, 0.35000000000000003, 0.4, 0.45, 0.5, 0.55, 0.6000000000000001, 0.65, 0.7000000000000001, 0.75, 0.8, 0.8500000000000001, 0.9, 0.9500000000000001, 1.0]\n",
      "[0.0, 0.28639695711595625, 0.4689955935892812, 0.6098403047164005, 0.7219280948873623, 0.8112781244591328, 0.8812908992306927, 0.934068055375491, 0.9709505944546686, 0.9927744539878083, 1.0, 0.9927744539878083, 0.9709505944546686, 0.934068055375491, 0.8812908992306926, 0.8112781244591328, 0.7219280948873623, 0.6098403047164002, 0.4689955935892811, 0.2863969571159558, 0.0]\n"
     ]
    },
    {
     "data": {
      "image/png": "[encoded data removed]",
      "text/plain": [
       "<Figure size 640x480 with 1 Axes>"
      ]
     },
     "metadata": {},
     "output_type": "display_data"
    }
   ],
   "source": [
    "# Compléter les instructions suivantes:\n",
    "\n",
    "valeurs_x = [(float)(x) for x in np.arange(0.0, 1.0+1/20, 1/20)] # liste qui contient 21 valeurs de 0.0 à 1.0 espacées de 1/20. (ie. 0.0, 0.0+1/20, etc.)\n",
    "print(valeurs_x)\n",
    "res_calcul = [calcul(x) for x in valeurs_x]  # liste qui contient la valeur de la fonction calcul pour chaque x contenu dans la valeur\n",
    "print(res_calcul)\n",
    "\n",
    "\n",
    "# Tracé de la variation de l'accuracy en fonction de la valeur de k:\n",
    "plt.plot(valeurs_x, res_calcul)\n",
    "# Tracer de la courbe des variations\n",
    "\n",
    "plt.ylabel('calcul(x)')\n",
    "plt.xlabel(\"x\")\n",
    "plt.show()\n"
   ]
  },
  {
   "cell_type": "markdown",
   "metadata": {},
   "source": [
    "## Programmation et expérimentation ##\n",
    "\n",
    "Le jeu de données (ou *dataset*) qui sera utilisé dans cette séance pour valider vos fonctions correspond à des données concernant des prix dans différents états d'Amérique du Nord. \n",
    "\n",
    "\n",
    "La référence de ce dataset est disponible ici : <https://github.com/amitkaps/weed/blob/master/1-Acquire.ipynb>\n",
    "\n",
    "Ces données sont aussi fournies dans le fichier <tt>data-01.zip</tt> à télécharger sur le site Moodle.\n",
    "\n",
    "Elles se composent de trois fichiers:\n",
    "* <tt>\"data-01/Weed_Price.csv\"</tt>: prix par date et par état (pour trois qualités différentes)\n",
    "* <tt>\"data-01/Demographics_State.csv\"</tt>: informations démographiques sur chaque état\n",
    "* <tt>\"data-01/Population_State.csv\"</tt>: population de chaque état\n",
    "\n",
    "La première étape est de télécharger ces fichiers dans des dataframes pandas.\n",
    "\n",
    "Comme ce sont des fichiers <a href=\"https://fr.wikipedia.org/wiki/Comma-separated_values\"><tt>CSV</tt></a>, on utilise la librairie Pandas qui contient une fonction de lecture de ce type de fichiers."
   ]
  },
  {
   "cell_type": "code",
   "execution_count": 9,
   "metadata": {},
   "outputs": [],
   "source": [
    "# Chargement des fichiers de données :\n",
    "\n",
    "prices_pd = pd.read_csv(\"data-01/Weed_Price.csv\", parse_dates=[-1])\n",
    "demography_pd = pd.read_csv(\"data-01/Demographics_State.csv\")\n",
    "population_pd = pd.read_csv(\"data-01/Population_State.csv\")\n",
    "\n",
    "# ATTENTION : le répertoire data-01 doit se trouver dans le même répertoire que ce notebook (dans tme-01 donc)."
   ]
  },
  {
   "cell_type": "markdown",
   "metadata": {},
   "source": [
    "<font color=\"RED\" size=\"+1\">**[Q]**</font> **Des dataframes**\n",
    "Commencer par regarder la documentation de la fonction <tt>read_csv</tt> de la librairie Pandas. Que rend cette fonction (quel est le type de ce qui est rendu) ?"
   ]
  },
  {
   "cell_type": "markdown",
   "metadata": {},
   "source": [
    "La fonction rend un DataFrame (structure de données 2D avec axes nommés)."
   ]
  },
  {
   "cell_type": "markdown",
   "metadata": {},
   "source": [
    "<font color=\"RED\" size=\"+1\">**[Q]**</font> **Des dataframes**\n",
    "\n",
    "Les dataframes Pandas permettent de stocker ensemble des données dont les valeurs peuvent être différentes. Cela peut s'apparenter à une feuille Excel (ou Libreoffice) : chaque ligne correspond à une même donnée (un \"exemple\") et contient dans chaque colonne des valeurs qui peuvent être de différents types.\n",
    "\n",
    "Examiner le type des trois variables qui viennent d'être définies. Pour cela, utiliser la fonction <tt>type</tt> de Python: par exemple <tt>type(prices_pd)</tt>."
   ]
  },
  {
   "cell_type": "code",
   "execution_count": 10,
   "metadata": {},
   "outputs": [
    {
     "data": {
      "text/plain": [
       "pandas.core.frame.DataFrame"
      ]
     },
     "execution_count": 10,
     "metadata": {},
     "output_type": "execute_result"
    }
   ],
   "source": [
    "# type de prices_pd:\n",
    "type(prices_pd)\n"
   ]
  },
  {
   "cell_type": "code",
   "execution_count": 11,
   "metadata": {},
   "outputs": [
    {
     "data": {
      "text/plain": [
       "pandas.core.frame.DataFrame"
      ]
     },
     "execution_count": 11,
     "metadata": {},
     "output_type": "execute_result"
    }
   ],
   "source": [
    "# type de demography_pd\n",
    "type(demography_pd)\n"
   ]
  },
  {
   "cell_type": "code",
   "execution_count": 12,
   "metadata": {},
   "outputs": [
    {
     "data": {
      "text/plain": [
       "pandas.core.frame.DataFrame"
      ]
     },
     "execution_count": 12,
     "metadata": {},
     "output_type": "execute_result"
    }
   ],
   "source": [
    "# type de population_pd\n",
    "type(population_pd)\n"
   ]
  },
  {
   "cell_type": "markdown",
   "metadata": {},
   "source": [
    "**Important**: chaque fois que vous utilisez une commande, regardez le type du résultat obtenu (liste, DataFrame, Series, array,...) cela vous permettra de savoir ce que vous pouvez appliquer sur ce résultat."
   ]
  },
  {
   "cell_type": "markdown",
   "metadata": {},
   "source": [
    "<font color=\"RED\" size=\"+1\">**[Q]**</font> **En savoir plus sur les données...**\n",
    "\n",
    "* Commencer par se familiariser avec les données en les visualisant et en affichant des exemples de lignes ou de colonnes que ces DataFrames contiennent. Pour cela, manipuler les fonctions des librairies que vous venez de découvrir (par exemple, <tt>head()</tt>, <tt>tail()</tt>, ...)."
   ]
  },
  {
   "cell_type": "code",
   "execution_count": 13,
   "metadata": {},
   "outputs": [
    {
     "data": {
      "text/html": [
       "<div>\n",
       "<style scoped>\n",
       "    .dataframe tbody tr th:only-of-type {\n",
       "        vertical-align: middle;\n",
       "    }\n",
       "\n",
       "    .dataframe tbody tr th {\n",
       "        vertical-align: top;\n",
       "    }\n",
       "\n",
       "    .dataframe thead th {\n",
       "        text-align: right;\n",
       "    }\n",
       "</style>\n",
       "<table border=\"1\" class=\"dataframe\">\n",
       "  <thead>\n",
       "    <tr style=\"text-align: right;\">\n",
       "      <th></th>\n",
       "      <th>State</th>\n",
       "      <th>HighQ</th>\n",
       "      <th>HighQN</th>\n",
       "      <th>MedQ</th>\n",
       "      <th>MedQN</th>\n",
       "      <th>LowQ</th>\n",
       "      <th>LowQN</th>\n",
       "      <th>date</th>\n",
       "    </tr>\n",
       "  </thead>\n",
       "  <tbody>\n",
       "    <tr>\n",
       "      <th>0</th>\n",
       "      <td>Alabama</td>\n",
       "      <td>339.06</td>\n",
       "      <td>1042</td>\n",
       "      <td>198.64</td>\n",
       "      <td>933</td>\n",
       "      <td>149.49</td>\n",
       "      <td>123</td>\n",
       "      <td>2014-01-01</td>\n",
       "    </tr>\n",
       "    <tr>\n",
       "      <th>1</th>\n",
       "      <td>Alaska</td>\n",
       "      <td>288.75</td>\n",
       "      <td>252</td>\n",
       "      <td>260.60</td>\n",
       "      <td>297</td>\n",
       "      <td>388.58</td>\n",
       "      <td>26</td>\n",
       "      <td>2014-01-01</td>\n",
       "    </tr>\n",
       "    <tr>\n",
       "      <th>2</th>\n",
       "      <td>Arizona</td>\n",
       "      <td>303.31</td>\n",
       "      <td>1941</td>\n",
       "      <td>209.35</td>\n",
       "      <td>1625</td>\n",
       "      <td>189.45</td>\n",
       "      <td>222</td>\n",
       "      <td>2014-01-01</td>\n",
       "    </tr>\n",
       "    <tr>\n",
       "      <th>3</th>\n",
       "      <td>Arkansas</td>\n",
       "      <td>361.85</td>\n",
       "      <td>576</td>\n",
       "      <td>185.62</td>\n",
       "      <td>544</td>\n",
       "      <td>125.87</td>\n",
       "      <td>112</td>\n",
       "      <td>2014-01-01</td>\n",
       "    </tr>\n",
       "    <tr>\n",
       "      <th>4</th>\n",
       "      <td>California</td>\n",
       "      <td>248.78</td>\n",
       "      <td>12096</td>\n",
       "      <td>193.56</td>\n",
       "      <td>12812</td>\n",
       "      <td>192.92</td>\n",
       "      <td>778</td>\n",
       "      <td>2014-01-01</td>\n",
       "    </tr>\n",
       "    <tr>\n",
       "      <th>5</th>\n",
       "      <td>Colorado</td>\n",
       "      <td>236.31</td>\n",
       "      <td>2161</td>\n",
       "      <td>195.29</td>\n",
       "      <td>1728</td>\n",
       "      <td>213.50</td>\n",
       "      <td>128</td>\n",
       "      <td>2014-01-01</td>\n",
       "    </tr>\n",
       "    <tr>\n",
       "      <th>6</th>\n",
       "      <td>Connecticut</td>\n",
       "      <td>347.90</td>\n",
       "      <td>1294</td>\n",
       "      <td>273.97</td>\n",
       "      <td>1316</td>\n",
       "      <td>257.36</td>\n",
       "      <td>91</td>\n",
       "      <td>2014-01-01</td>\n",
       "    </tr>\n",
       "    <tr>\n",
       "      <th>7</th>\n",
       "      <td>Delaware</td>\n",
       "      <td>373.18</td>\n",
       "      <td>347</td>\n",
       "      <td>226.25</td>\n",
       "      <td>273</td>\n",
       "      <td>199.88</td>\n",
       "      <td>34</td>\n",
       "      <td>2014-01-01</td>\n",
       "    </tr>\n",
       "    <tr>\n",
       "      <th>8</th>\n",
       "      <td>District of Columbia</td>\n",
       "      <td>352.26</td>\n",
       "      <td>433</td>\n",
       "      <td>295.67</td>\n",
       "      <td>349</td>\n",
       "      <td>213.72</td>\n",
       "      <td>39</td>\n",
       "      <td>2014-01-01</td>\n",
       "    </tr>\n",
       "    <tr>\n",
       "      <th>9</th>\n",
       "      <td>Florida</td>\n",
       "      <td>306.43</td>\n",
       "      <td>6506</td>\n",
       "      <td>220.03</td>\n",
       "      <td>5237</td>\n",
       "      <td>158.26</td>\n",
       "      <td>514</td>\n",
       "      <td>2014-01-01</td>\n",
       "    </tr>\n",
       "    <tr>\n",
       "      <th>10</th>\n",
       "      <td>Georgia</td>\n",
       "      <td>332.21</td>\n",
       "      <td>3099</td>\n",
       "      <td>213.52</td>\n",
       "      <td>2269</td>\n",
       "      <td>153.45</td>\n",
       "      <td>229</td>\n",
       "      <td>2014-01-01</td>\n",
       "    </tr>\n",
       "    <tr>\n",
       "      <th>11</th>\n",
       "      <td>Hawaii</td>\n",
       "      <td>310.96</td>\n",
       "      <td>328</td>\n",
       "      <td>270.38</td>\n",
       "      <td>350</td>\n",
       "      <td>160.46</td>\n",
       "      <td>25</td>\n",
       "      <td>2014-01-01</td>\n",
       "    </tr>\n",
       "    <tr>\n",
       "      <th>12</th>\n",
       "      <td>Idaho</td>\n",
       "      <td>276.05</td>\n",
       "      <td>315</td>\n",
       "      <td>254.96</td>\n",
       "      <td>445</td>\n",
       "      <td>132.61</td>\n",
       "      <td>20</td>\n",
       "      <td>2014-01-01</td>\n",
       "    </tr>\n",
       "    <tr>\n",
       "      <th>13</th>\n",
       "      <td>Illinois</td>\n",
       "      <td>359.74</td>\n",
       "      <td>4008</td>\n",
       "      <td>287.23</td>\n",
       "      <td>3644</td>\n",
       "      <td>181.25</td>\n",
       "      <td>329</td>\n",
       "      <td>2014-01-01</td>\n",
       "    </tr>\n",
       "    <tr>\n",
       "      <th>14</th>\n",
       "      <td>Indiana</td>\n",
       "      <td>336.80</td>\n",
       "      <td>1665</td>\n",
       "      <td>206.24</td>\n",
       "      <td>1446</td>\n",
       "      <td>154.05</td>\n",
       "      <td>248</td>\n",
       "      <td>2014-01-01</td>\n",
       "    </tr>\n",
       "  </tbody>\n",
       "</table>\n",
       "</div>"
      ],
      "text/plain": [
       "                   State   HighQ  HighQN    MedQ  MedQN    LowQ  LowQN  \\\n",
       "0                Alabama  339.06    1042  198.64    933  149.49    123   \n",
       "1                 Alaska  288.75     252  260.60    297  388.58     26   \n",
       "2                Arizona  303.31    1941  209.35   1625  189.45    222   \n",
       "3               Arkansas  361.85     576  185.62    544  125.87    112   \n",
       "4             California  248.78   12096  193.56  12812  192.92    778   \n",
       "5               Colorado  236.31    2161  195.29   1728  213.50    128   \n",
       "6            Connecticut  347.90    1294  273.97   1316  257.36     91   \n",
       "7               Delaware  373.18     347  226.25    273  199.88     34   \n",
       "8   District of Columbia  352.26     433  295.67    349  213.72     39   \n",
       "9                Florida  306.43    6506  220.03   5237  158.26    514   \n",
       "10               Georgia  332.21    3099  213.52   2269  153.45    229   \n",
       "11                Hawaii  310.96     328  270.38    350  160.46     25   \n",
       "12                 Idaho  276.05     315  254.96    445  132.61     20   \n",
       "13              Illinois  359.74    4008  287.23   3644  181.25    329   \n",
       "14               Indiana  336.80    1665  206.24   1446  154.05    248   \n",
       "\n",
       "         date  \n",
       "0  2014-01-01  \n",
       "1  2014-01-01  \n",
       "2  2014-01-01  \n",
       "3  2014-01-01  \n",
       "4  2014-01-01  \n",
       "5  2014-01-01  \n",
       "6  2014-01-01  \n",
       "7  2014-01-01  \n",
       "8  2014-01-01  \n",
       "9  2014-01-01  \n",
       "10 2014-01-01  \n",
       "11 2014-01-01  \n",
       "12 2014-01-01  \n",
       "13 2014-01-01  \n",
       "14 2014-01-01  "
      ]
     },
     "execution_count": 13,
     "metadata": {},
     "output_type": "execute_result"
    }
   ],
   "source": [
    "# 15 premières lignes de prices_pd\n",
    "\n",
    "prices_pd.head(15)"
   ]
  },
  {
   "cell_type": "code",
   "execution_count": 14,
   "metadata": {},
   "outputs": [
    {
     "data": {
      "text/html": [
       "<div>\n",
       "<style scoped>\n",
       "    .dataframe tbody tr th:only-of-type {\n",
       "        vertical-align: middle;\n",
       "    }\n",
       "\n",
       "    .dataframe tbody tr th {\n",
       "        vertical-align: top;\n",
       "    }\n",
       "\n",
       "    .dataframe thead th {\n",
       "        text-align: right;\n",
       "    }\n",
       "</style>\n",
       "<table border=\"1\" class=\"dataframe\">\n",
       "  <thead>\n",
       "    <tr style=\"text-align: right;\">\n",
       "      <th></th>\n",
       "      <th>State</th>\n",
       "      <th>HighQ</th>\n",
       "      <th>HighQN</th>\n",
       "      <th>MedQ</th>\n",
       "      <th>MedQN</th>\n",
       "      <th>LowQ</th>\n",
       "      <th>LowQN</th>\n",
       "      <th>date</th>\n",
       "    </tr>\n",
       "  </thead>\n",
       "  <tbody>\n",
       "    <tr>\n",
       "      <th>22892</th>\n",
       "      <td>Utah</td>\n",
       "      <td>290.42</td>\n",
       "      <td>959</td>\n",
       "      <td>238.08</td>\n",
       "      <td>1055</td>\n",
       "      <td>NaN</td>\n",
       "      <td>62</td>\n",
       "      <td>2014-12-31</td>\n",
       "    </tr>\n",
       "    <tr>\n",
       "      <th>22893</th>\n",
       "      <td>Vermont</td>\n",
       "      <td>371.23</td>\n",
       "      <td>357</td>\n",
       "      <td>308.86</td>\n",
       "      <td>367</td>\n",
       "      <td>NaN</td>\n",
       "      <td>32</td>\n",
       "      <td>2014-12-31</td>\n",
       "    </tr>\n",
       "    <tr>\n",
       "      <th>22894</th>\n",
       "      <td>Virginia</td>\n",
       "      <td>364.98</td>\n",
       "      <td>3513</td>\n",
       "      <td>293.12</td>\n",
       "      <td>3079</td>\n",
       "      <td>NaN</td>\n",
       "      <td>284</td>\n",
       "      <td>2014-12-31</td>\n",
       "    </tr>\n",
       "    <tr>\n",
       "      <th>22895</th>\n",
       "      <td>Washington</td>\n",
       "      <td>233.05</td>\n",
       "      <td>3337</td>\n",
       "      <td>189.92</td>\n",
       "      <td>3562</td>\n",
       "      <td>NaN</td>\n",
       "      <td>160</td>\n",
       "      <td>2014-12-31</td>\n",
       "    </tr>\n",
       "    <tr>\n",
       "      <th>22896</th>\n",
       "      <td>West Virginia</td>\n",
       "      <td>359.35</td>\n",
       "      <td>551</td>\n",
       "      <td>224.03</td>\n",
       "      <td>545</td>\n",
       "      <td>NaN</td>\n",
       "      <td>60</td>\n",
       "      <td>2014-12-31</td>\n",
       "    </tr>\n",
       "    <tr>\n",
       "      <th>22897</th>\n",
       "      <td>Wisconsin</td>\n",
       "      <td>350.52</td>\n",
       "      <td>2244</td>\n",
       "      <td>272.71</td>\n",
       "      <td>2221</td>\n",
       "      <td>NaN</td>\n",
       "      <td>167</td>\n",
       "      <td>2014-12-31</td>\n",
       "    </tr>\n",
       "    <tr>\n",
       "      <th>22898</th>\n",
       "      <td>Wyoming</td>\n",
       "      <td>322.27</td>\n",
       "      <td>131</td>\n",
       "      <td>351.86</td>\n",
       "      <td>197</td>\n",
       "      <td>NaN</td>\n",
       "      <td>12</td>\n",
       "      <td>2014-12-31</td>\n",
       "    </tr>\n",
       "  </tbody>\n",
       "</table>\n",
       "</div>"
      ],
      "text/plain": [
       "               State   HighQ  HighQN    MedQ  MedQN  LowQ  LowQN       date\n",
       "22892           Utah  290.42     959  238.08   1055   NaN     62 2014-12-31\n",
       "22893        Vermont  371.23     357  308.86    367   NaN     32 2014-12-31\n",
       "22894       Virginia  364.98    3513  293.12   3079   NaN    284 2014-12-31\n",
       "22895     Washington  233.05    3337  189.92   3562   NaN    160 2014-12-31\n",
       "22896  West Virginia  359.35     551  224.03    545   NaN     60 2014-12-31\n",
       "22897      Wisconsin  350.52    2244  272.71   2221   NaN    167 2014-12-31\n",
       "22898        Wyoming  322.27     131  351.86    197   NaN     12 2014-12-31"
      ]
     },
     "execution_count": 14,
     "metadata": {},
     "output_type": "execute_result"
    }
   ],
   "source": [
    "# 7 dernières lignes de prices_pd\n",
    "\n",
    "prices_pd.tail(7)"
   ]
  },
  {
   "cell_type": "markdown",
   "metadata": {},
   "source": [
    "<font color=\"RED\" size=\"+1\">**[Q]**</font> **Sélection de lignes et colonnes..**\n",
    "\n",
    "En utilisant les mécanismes de sélection qu'offrent les dataframes (slicing,...), donner les commandes permettant d'obtenir:\n",
    "1) seulement les lignes qui concernent l'état \"Hawaii\".\n",
    "\n",
    "2) seulement les valeurs des colonnes \"date\", \"HighQ\", et \"MedQ\", dans cet ordre, qui concernent les lignes de l'état \"Hawaii\".\n"
   ]
  },
  {
   "cell_type": "code",
   "execution_count": 15,
   "metadata": {},
   "outputs": [
    {
     "data": {
      "text/html": [
       "<div>\n",
       "<style scoped>\n",
       "    .dataframe tbody tr th:only-of-type {\n",
       "        vertical-align: middle;\n",
       "    }\n",
       "\n",
       "    .dataframe tbody tr th {\n",
       "        vertical-align: top;\n",
       "    }\n",
       "\n",
       "    .dataframe thead th {\n",
       "        text-align: right;\n",
       "    }\n",
       "</style>\n",
       "<table border=\"1\" class=\"dataframe\">\n",
       "  <thead>\n",
       "    <tr style=\"text-align: right;\">\n",
       "      <th></th>\n",
       "      <th>State</th>\n",
       "      <th>HighQ</th>\n",
       "      <th>HighQN</th>\n",
       "      <th>MedQ</th>\n",
       "      <th>MedQN</th>\n",
       "      <th>LowQ</th>\n",
       "      <th>LowQN</th>\n",
       "      <th>date</th>\n",
       "    </tr>\n",
       "  </thead>\n",
       "  <tbody>\n",
       "    <tr>\n",
       "      <th>11</th>\n",
       "      <td>Hawaii</td>\n",
       "      <td>310.96</td>\n",
       "      <td>328</td>\n",
       "      <td>270.38</td>\n",
       "      <td>350</td>\n",
       "      <td>160.46</td>\n",
       "      <td>25</td>\n",
       "      <td>2014-01-01</td>\n",
       "    </tr>\n",
       "    <tr>\n",
       "      <th>62</th>\n",
       "      <td>Hawaii</td>\n",
       "      <td>307.64</td>\n",
       "      <td>452</td>\n",
       "      <td>263.45</td>\n",
       "      <td>522</td>\n",
       "      <td>NaN</td>\n",
       "      <td>30</td>\n",
       "      <td>2015-01-01</td>\n",
       "    </tr>\n",
       "    <tr>\n",
       "      <th>113</th>\n",
       "      <td>Hawaii</td>\n",
       "      <td>307.76</td>\n",
       "      <td>338</td>\n",
       "      <td>272.99</td>\n",
       "      <td>370</td>\n",
       "      <td>162.11</td>\n",
       "      <td>26</td>\n",
       "      <td>2014-02-01</td>\n",
       "    </tr>\n",
       "    <tr>\n",
       "      <th>164</th>\n",
       "      <td>Hawaii</td>\n",
       "      <td>306.34</td>\n",
       "      <td>464</td>\n",
       "      <td>261.94</td>\n",
       "      <td>542</td>\n",
       "      <td>NaN</td>\n",
       "      <td>30</td>\n",
       "      <td>2015-02-01</td>\n",
       "    </tr>\n",
       "    <tr>\n",
       "      <th>215</th>\n",
       "      <td>Hawaii</td>\n",
       "      <td>307.96</td>\n",
       "      <td>353</td>\n",
       "      <td>274.35</td>\n",
       "      <td>382</td>\n",
       "      <td>167.62</td>\n",
       "      <td>27</td>\n",
       "      <td>2014-03-01</td>\n",
       "    </tr>\n",
       "    <tr>\n",
       "      <th>...</th>\n",
       "      <td>...</td>\n",
       "      <td>...</td>\n",
       "      <td>...</td>\n",
       "      <td>...</td>\n",
       "      <td>...</td>\n",
       "      <td>...</td>\n",
       "      <td>...</td>\n",
       "      <td>...</td>\n",
       "    </tr>\n",
       "    <tr>\n",
       "      <th>22655</th>\n",
       "      <td>Hawaii</td>\n",
       "      <td>309.64</td>\n",
       "      <td>408</td>\n",
       "      <td>265.58</td>\n",
       "      <td>455</td>\n",
       "      <td>174.23</td>\n",
       "      <td>29</td>\n",
       "      <td>2014-07-31</td>\n",
       "    </tr>\n",
       "    <tr>\n",
       "      <th>22706</th>\n",
       "      <td>Hawaii</td>\n",
       "      <td>310.00</td>\n",
       "      <td>417</td>\n",
       "      <td>267.17</td>\n",
       "      <td>467</td>\n",
       "      <td>NaN</td>\n",
       "      <td>29</td>\n",
       "      <td>2014-08-31</td>\n",
       "    </tr>\n",
       "    <tr>\n",
       "      <th>22757</th>\n",
       "      <td>Hawaii</td>\n",
       "      <td>310.97</td>\n",
       "      <td>426</td>\n",
       "      <td>267.10</td>\n",
       "      <td>482</td>\n",
       "      <td>NaN</td>\n",
       "      <td>29</td>\n",
       "      <td>2014-10-31</td>\n",
       "    </tr>\n",
       "    <tr>\n",
       "      <th>22808</th>\n",
       "      <td>Hawaii</td>\n",
       "      <td>310.96</td>\n",
       "      <td>328</td>\n",
       "      <td>270.38</td>\n",
       "      <td>350</td>\n",
       "      <td>160.46</td>\n",
       "      <td>25</td>\n",
       "      <td>2013-12-31</td>\n",
       "    </tr>\n",
       "    <tr>\n",
       "      <th>22859</th>\n",
       "      <td>Hawaii</td>\n",
       "      <td>307.64</td>\n",
       "      <td>452</td>\n",
       "      <td>263.45</td>\n",
       "      <td>522</td>\n",
       "      <td>NaN</td>\n",
       "      <td>30</td>\n",
       "      <td>2014-12-31</td>\n",
       "    </tr>\n",
       "  </tbody>\n",
       "</table>\n",
       "<p>449 rows × 8 columns</p>\n",
       "</div>"
      ],
      "text/plain": [
       "        State   HighQ  HighQN    MedQ  MedQN    LowQ  LowQN       date\n",
       "11     Hawaii  310.96     328  270.38    350  160.46     25 2014-01-01\n",
       "62     Hawaii  307.64     452  263.45    522     NaN     30 2015-01-01\n",
       "113    Hawaii  307.76     338  272.99    370  162.11     26 2014-02-01\n",
       "164    Hawaii  306.34     464  261.94    542     NaN     30 2015-02-01\n",
       "215    Hawaii  307.96     353  274.35    382  167.62     27 2014-03-01\n",
       "...       ...     ...     ...     ...    ...     ...    ...        ...\n",
       "22655  Hawaii  309.64     408  265.58    455  174.23     29 2014-07-31\n",
       "22706  Hawaii  310.00     417  267.17    467     NaN     29 2014-08-31\n",
       "22757  Hawaii  310.97     426  267.10    482     NaN     29 2014-10-31\n",
       "22808  Hawaii  310.96     328  270.38    350  160.46     25 2013-12-31\n",
       "22859  Hawaii  307.64     452  263.45    522     NaN     30 2014-12-31\n",
       "\n",
       "[449 rows x 8 columns]"
      ]
     },
     "execution_count": 15,
     "metadata": {},
     "output_type": "execute_result"
    }
   ],
   "source": [
    "# Les lignes concernant l'état \"Hawaii\"\n",
    "\n",
    "prices_pd[prices_pd['State']==\"Hawaii\"]"
   ]
  },
  {
   "cell_type": "code",
   "execution_count": 16,
   "metadata": {},
   "outputs": [
    {
     "data": {
      "text/html": [
       "<div>\n",
       "<style scoped>\n",
       "    .dataframe tbody tr th:only-of-type {\n",
       "        vertical-align: middle;\n",
       "    }\n",
       "\n",
       "    .dataframe tbody tr th {\n",
       "        vertical-align: top;\n",
       "    }\n",
       "\n",
       "    .dataframe thead th {\n",
       "        text-align: right;\n",
       "    }\n",
       "</style>\n",
       "<table border=\"1\" class=\"dataframe\">\n",
       "  <thead>\n",
       "    <tr style=\"text-align: right;\">\n",
       "      <th></th>\n",
       "      <th>date</th>\n",
       "      <th>HighQ</th>\n",
       "      <th>MedQ</th>\n",
       "    </tr>\n",
       "  </thead>\n",
       "  <tbody>\n",
       "    <tr>\n",
       "      <th>11</th>\n",
       "      <td>2014-01-01</td>\n",
       "      <td>310.96</td>\n",
       "      <td>270.38</td>\n",
       "    </tr>\n",
       "    <tr>\n",
       "      <th>62</th>\n",
       "      <td>2015-01-01</td>\n",
       "      <td>307.64</td>\n",
       "      <td>263.45</td>\n",
       "    </tr>\n",
       "    <tr>\n",
       "      <th>113</th>\n",
       "      <td>2014-02-01</td>\n",
       "      <td>307.76</td>\n",
       "      <td>272.99</td>\n",
       "    </tr>\n",
       "    <tr>\n",
       "      <th>164</th>\n",
       "      <td>2015-02-01</td>\n",
       "      <td>306.34</td>\n",
       "      <td>261.94</td>\n",
       "    </tr>\n",
       "    <tr>\n",
       "      <th>215</th>\n",
       "      <td>2014-03-01</td>\n",
       "      <td>307.96</td>\n",
       "      <td>274.35</td>\n",
       "    </tr>\n",
       "    <tr>\n",
       "      <th>...</th>\n",
       "      <td>...</td>\n",
       "      <td>...</td>\n",
       "      <td>...</td>\n",
       "    </tr>\n",
       "    <tr>\n",
       "      <th>22655</th>\n",
       "      <td>2014-07-31</td>\n",
       "      <td>309.64</td>\n",
       "      <td>265.58</td>\n",
       "    </tr>\n",
       "    <tr>\n",
       "      <th>22706</th>\n",
       "      <td>2014-08-31</td>\n",
       "      <td>310.00</td>\n",
       "      <td>267.17</td>\n",
       "    </tr>\n",
       "    <tr>\n",
       "      <th>22757</th>\n",
       "      <td>2014-10-31</td>\n",
       "      <td>310.97</td>\n",
       "      <td>267.10</td>\n",
       "    </tr>\n",
       "    <tr>\n",
       "      <th>22808</th>\n",
       "      <td>2013-12-31</td>\n",
       "      <td>310.96</td>\n",
       "      <td>270.38</td>\n",
       "    </tr>\n",
       "    <tr>\n",
       "      <th>22859</th>\n",
       "      <td>2014-12-31</td>\n",
       "      <td>307.64</td>\n",
       "      <td>263.45</td>\n",
       "    </tr>\n",
       "  </tbody>\n",
       "</table>\n",
       "<p>449 rows × 3 columns</p>\n",
       "</div>"
      ],
      "text/plain": [
       "            date   HighQ    MedQ\n",
       "11    2014-01-01  310.96  270.38\n",
       "62    2015-01-01  307.64  263.45\n",
       "113   2014-02-01  307.76  272.99\n",
       "164   2015-02-01  306.34  261.94\n",
       "215   2014-03-01  307.96  274.35\n",
       "...          ...     ...     ...\n",
       "22655 2014-07-31  309.64  265.58\n",
       "22706 2014-08-31  310.00  267.17\n",
       "22757 2014-10-31  310.97  267.10\n",
       "22808 2013-12-31  310.96  270.38\n",
       "22859 2014-12-31  307.64  263.45\n",
       "\n",
       "[449 rows x 3 columns]"
      ]
     },
     "execution_count": 16,
     "metadata": {},
     "output_type": "execute_result"
    }
   ],
   "source": [
    "# Les valeurs de la colonne \"HighQ\" ne concernant que les lignes de l'état \"Hawaii\" \n",
    " \n",
    "prices_pd[prices_pd['State'] == \"Hawaii\"][['date', 'HighQ', 'MedQ']]"
   ]
  },
  {
   "cell_type": "markdown",
   "metadata": {},
   "source": [
    "Les types des données peuvent être récupérés à travers la méthode <tt>dtypes</tt>:"
   ]
  },
  {
   "cell_type": "code",
   "execution_count": 17,
   "metadata": {},
   "outputs": [
    {
     "data": {
      "text/plain": [
       "State             object\n",
       "HighQ            float64\n",
       "HighQN             int64\n",
       "MedQ             float64\n",
       "MedQN              int64\n",
       "LowQ             float64\n",
       "LowQN              int64\n",
       "date      datetime64[ns]\n",
       "dtype: object"
      ]
     },
     "execution_count": 17,
     "metadata": {},
     "output_type": "execute_result"
    }
   ],
   "source": [
    "prices_pd.dtypes"
   ]
  },
  {
   "cell_type": "markdown",
   "metadata": {},
   "source": [
    "Il y a beaucoup de fonctions à découvrir pour obtenir des informations utiles sur les DataFrames. Par exemple, la liste des états peut être obtenue ainsi:\n"
   ]
  },
  {
   "cell_type": "code",
   "execution_count": 18,
   "metadata": {},
   "outputs": [],
   "source": [
    "les_etats = np.unique(prices_pd[\"State\"].values)"
   ]
  },
  {
   "cell_type": "code",
   "execution_count": 19,
   "metadata": {},
   "outputs": [
    {
     "name": "stdout",
     "output_type": "stream",
     "text": [
      "['Alabama' 'Alaska' 'Arizona' 'Arkansas' 'California' 'Colorado'\n",
      " 'Connecticut' 'Delaware' 'District of Columbia' 'Florida' 'Georgia'\n",
      " 'Hawaii' 'Idaho' 'Illinois' 'Indiana' 'Iowa' 'Kansas' 'Kentucky'\n",
      " 'Louisiana' 'Maine' 'Maryland' 'Massachusetts' 'Michigan' 'Minnesota'\n",
      " 'Mississippi' 'Missouri' 'Montana' 'Nebraska' 'Nevada' 'New Hampshire'\n",
      " 'New Jersey' 'New Mexico' 'New York' 'North Carolina' 'North Dakota'\n",
      " 'Ohio' 'Oklahoma' 'Oregon' 'Pennsylvania' 'Rhode Island' 'South Carolina'\n",
      " 'South Dakota' 'Tennessee' 'Texas' 'Utah' 'Vermont' 'Virginia'\n",
      " 'Washington' 'West Virginia' 'Wisconsin' 'Wyoming']\n"
     ]
    }
   ],
   "source": [
    "# Afficher la liste des états :\n",
    "print(les_etats)\n"
   ]
  },
  {
   "cell_type": "markdown",
   "metadata": {},
   "source": [
    "Comparer le nombre de valeurs de :\n",
    "\n",
    "        prices_pd[\"MedQ\"].values\n",
    "\n",
    "et de \n",
    "\n",
    "        np.unique(prices_pd[\"MedQ\"].values)\n",
    "\n",
    "Expliquer ce qui se passe.        "
   ]
  },
  {
   "cell_type": "markdown",
   "metadata": {},
   "source": [
    "La première rend toutes les valeurs tandis que l'autre ne conserve seulement des lignes distinctes. La taille des deux sets est donc différente."
   ]
  },
  {
   "cell_type": "code",
   "execution_count": 20,
   "metadata": {},
   "outputs": [
    {
     "data": {
      "text/plain": [
       "False"
      ]
     },
     "execution_count": 20,
     "metadata": {},
     "output_type": "execute_result"
    }
   ],
   "source": [
    "# Tester l'égalité :\n",
    "(np.size(prices_pd[\"MedQ\"].values)==np.size(np.unique(prices_pd[\"MedQ\"].values)))"
   ]
  },
  {
   "cell_type": "markdown",
   "metadata": {},
   "source": [
    "## Implémentation de mesures classiques ##\n"
   ]
  },
  {
   "cell_type": "markdown",
   "metadata": {},
   "source": [
    "Nous allons maintenant écrire les fonctions permettant de calculer des mesures ''basiques'' sur des données unidimensionnelles. Pour cela, nous allons travailler avec la structure <tt>array</tt> de numpy. Pour convertir une colonne de DataFrame en '<tt>array</tt>, voici commment faire, par exemple avec la colonne `\"HighQ\"`:"
   ]
  },
  {
   "cell_type": "code",
   "execution_count": 21,
   "metadata": {},
   "outputs": [
    {
     "data": {
      "text/plain": [
       "array([339.06, 288.75, 303.31, ..., 359.35, 350.52, 322.27])"
      ]
     },
     "execution_count": 21,
     "metadata": {},
     "output_type": "execute_result"
    }
   ],
   "source": [
    "np.array(prices_pd[\"HighQ\"])"
   ]
  },
  {
   "cell_type": "markdown",
   "metadata": {},
   "source": [
    "### Moyenne"
   ]
  },
  {
   "cell_type": "markdown",
   "metadata": {},
   "source": [
    "<font color=\"RED\" size=\"+1\">**[Q]**</font> **La moyenne**\n",
    "\n",
    "\n",
    "Ecrire la fonction `moyenne`(valeurs) qui calcule la moyenne des éléments d'un tableau (en utilisant la boucle ''for'', sans utiliser les fonctions déjà implémentées dans numpy).\n",
    "\n",
    "Aide: si possible, éviter les boucles et privilégier les fonctions numpy."
   ]
  },
  {
   "cell_type": "code",
   "execution_count": 22,
   "metadata": {},
   "outputs": [],
   "source": [
    "def moyenne(valeurs):\n",
    "    sum=0.0\n",
    "    for i in np.array(valeurs):\n",
    "        sum+=i\n",
    "    return (float)(sum/(valeurs.size))"
   ]
  },
  {
   "cell_type": "code",
   "execution_count": 23,
   "metadata": {},
   "outputs": [
    {
     "data": {
      "text/plain": [
       "329.75985414210226"
      ]
     },
     "execution_count": 23,
     "metadata": {},
     "output_type": "execute_result"
    }
   ],
   "source": [
    "moyenne(np.array(prices_pd[\"HighQ\"]))"
   ]
  },
  {
   "cell_type": "code",
   "execution_count": 24,
   "metadata": {},
   "outputs": [
    {
     "data": {
      "text/plain": [
       "0        198.64\n",
       "1        260.60\n",
       "2        209.35\n",
       "3        185.62\n",
       "4        193.56\n",
       "          ...  \n",
       "22894    293.12\n",
       "22895    189.92\n",
       "22896    224.03\n",
       "22897    272.71\n",
       "22898    351.86\n",
       "Name: MedQ, Length: 22899, dtype: float64"
      ]
     },
     "execution_count": 24,
     "metadata": {},
     "output_type": "execute_result"
    }
   ],
   "source": [
    "prices_pd[\"MedQ\"]"
   ]
  },
  {
   "cell_type": "markdown",
   "metadata": {},
   "source": [
    "Tester la fonction moyenne et comparer vos résultats avec l'implémentation de base de python donnée ci-dessous:"
   ]
  },
  {
   "cell_type": "code",
   "execution_count": 25,
   "metadata": {},
   "outputs": [
    {
     "name": "stdout",
     "output_type": "stream",
     "text": [
      "La moyenne (MedQ) est avec ma fonction : 247.618306 dollars\n",
      "La moyenne (MedQ) est avec mean        : 247.618306 dollars\n"
     ]
    }
   ],
   "source": [
    "print(\"La moyenne (MedQ) est avec ma fonction : %f dollars\" % moyenne(prices_pd[\"MedQ\"]))\n",
    "print(\"La moyenne (MedQ) est avec mean        : %f dollars\" % prices_pd[\"MedQ\"].mean())"
   ]
  },
  {
   "cell_type": "markdown",
   "metadata": {},
   "source": [
    "<font color=\"RED\" size=\"+1\">**[Q]**</font> **Moyennes sur les qualités**\n",
    "\n",
    "Calculer:\n",
    "* La moyenne des prix pour les qualités medium et high\n",
    "* La moyenne des prix pour les qualités medium et high dans l'état de ''New York''\n",
    "\n",
    "Les calculs seront fait d'une part à l'aide de votre fonction, et d'autre part à l'aide des fonctions de python (pour être sûr d'obtenir la même chose) et vous comparerez les temps d'exécutions."
   ]
  },
  {
   "cell_type": "code",
   "execution_count": 26,
   "metadata": {},
   "outputs": [
    {
     "name": "stdout",
     "output_type": "stream",
     "text": [
      "Affichage de temps d'exécution :\n",
      "--->  0.0009911060333251953 seconds\n"
     ]
    }
   ],
   "source": [
    "# Utile: calculer un temps d'exécution\n",
    "import time\n",
    "\n",
    "print(\"Affichage de temps d'exécution :\")\n",
    "tic = time.time()\n",
    "somme = 0\n",
    "produit = 0\n",
    "for i in range(0,1000):\n",
    "    somme += i\n",
    "    produit *= i\n",
    "toc = time.time()\n",
    "print(\"---> \",toc-tic,\"seconds\")\n"
   ]
  },
  {
   "cell_type": "code",
   "execution_count": 27,
   "metadata": {},
   "outputs": [
    {
     "name": "stdout",
     "output_type": "stream",
     "text": [
      "247.61830603956537\n",
      "329.75985414210226\n",
      "265.37694877505584\n",
      "346.91276169265035\n",
      "--->  0.02559971809387207 seconds\n",
      "\n",
      "\n",
      "247.61830603956503\n",
      "329.7598541421023\n",
      "265.37694877505567\n",
      "346.91276169265035\n",
      "--->  0.013545036315917969 seconds\n"
     ]
    }
   ],
   "source": [
    "tic = time.time()\n",
    "print(moyenne(prices_pd['MedQ']))\n",
    "print(moyenne(prices_pd['HighQ']))\n",
    "print(moyenne(prices_pd[prices_pd['State']=='New York']['MedQ']))\n",
    "print(moyenne(prices_pd[prices_pd['State']=='New York']['HighQ']))\n",
    "somme = 0\n",
    "produit = 0\n",
    "for i in range(0,1000):\n",
    "    somme += i\n",
    "    produit *= i\n",
    "toc = time.time()\n",
    "print(\"---> \",toc-tic,\"seconds\")\n",
    "\n",
    "print(\"\\n\")\n",
    "\n",
    "tic = time.time()\n",
    "print(prices_pd['MedQ'].mean())\n",
    "print(prices_pd['HighQ'].mean())\n",
    "print(prices_pd[prices_pd['State']=='New York']['MedQ'].mean())\n",
    "print(prices_pd[prices_pd['State']=='New York']['HighQ'].mean())\n",
    "somme = 0\n",
    "produit = 0\n",
    "for i in range(0,1000):\n",
    "    somme += i\n",
    "    produit *= i\n",
    "toc = time.time()\n",
    "print(\"---> \",toc-tic,\"seconds\")\n"
   ]
  },
  {
   "cell_type": "code",
   "execution_count": 28,
   "metadata": {},
   "outputs": [
    {
     "name": "stdout",
     "output_type": "stream",
     "text": [
      "Avec la fonction moyenne:\n"
     ]
    }
   ],
   "source": [
    "print(\"Avec la fonction moyenne:\")"
   ]
  },
  {
   "cell_type": "markdown",
   "metadata": {},
   "source": [
    "<font color=\"RED\" size=\"+1\">**[Q]**</font> **Moyenne sur les états**\n",
    "\n",
    "Calculez la moyenne des prix qualités medium et high dans tous les états -- la liste des états est obtenues ainsi `states=np.unique(prices_pd[\"State\"].values)`\n",
    "\n",
    "Pour cela, vous pouvez (devez) le faire de deux manières:\n",
    "* Faire une boucle sur chacun des états\n",
    "* Utiliser la fonction groupby comme expliqué ici : http://pandas.pydata.org/pandas-docs/stable/groupby.html\n",
    " et ici : https://www.kaggle.com/crawford/python-groupby-tutorial\n"
   ]
  },
  {
   "cell_type": "code",
   "execution_count": 29,
   "metadata": {},
   "outputs": [
    {
     "name": "stdout",
     "output_type": "stream",
     "text": [
      "Alabama  :  204.6061692650334\n",
      "Alaska  :  262.0463919821826\n",
      "Arizona  :  209.36534521158129\n",
      "Arkansas  :  190.4146547884187\n",
      "California  :  191.26890868596882\n",
      "Colorado  :  196.5325167037862\n",
      "Connecticut  :  271.3238975501113\n",
      "Delaware  :  231.23031180400892\n",
      "District of Columbia  :  288.2513140311804\n",
      "Florida  :  217.88256124721602\n",
      "Georgia  :  215.9436302895323\n",
      "Hawaii  :  268.73815144766144\n",
      "Idaho  :  249.8224276169265\n",
      "Illinois  :  284.18008908685965\n",
      "Indiana  :  211.98951002227173\n",
      "Iowa  :  289.9455233853007\n",
      "Kansas  :  261.24307349665924\n",
      "Kentucky  :  179.93376391982184\n",
      "Louisiana  :  243.11788418708238\n",
      "Maine  :  248.43817371937638\n",
      "Maryland  :  254.14044543429844\n",
      "Massachusetts  :  290.1978841870824\n",
      "Michigan  :  273.3523385300668\n",
      "Minnesota  :  275.85006681514477\n",
      "Mississippi  :  148.23160356347438\n",
      "Missouri  :  244.81220489977727\n",
      "Montana  :  248.39855233853004\n",
      "Nebraska  :  248.16064587973275\n",
      "Nevada  :  226.21741648106902\n",
      "New Hampshire  :  290.1077505567929\n",
      "New Jersey  :  288.72701559020044\n",
      "New Mexico  :  209.2422494432071\n",
      "New York  :  265.37694877505567\n",
      "North Carolina  :  245.69922048997776\n",
      "North Dakota  :  349.0666815144766\n",
      "Ohio  :  216.95316258351895\n",
      "Oklahoma  :  233.82200445434296\n",
      "Oregon  :  183.88986636971043\n",
      "Pennsylvania  :  267.8913363028953\n",
      "Rhode Island  :  258.172293986637\n",
      "South Carolina  :  203.33977728285078\n",
      "South Dakota  :  351.9448106904231\n",
      "Tennessee  :  225.80886414253897\n",
      "Texas  :  233.5368374164811\n",
      "Utah  :  237.3718930957684\n",
      "Vermont  :  315.5475501113586\n",
      "Virginia  :  290.4080846325167\n",
      "Washington  :  189.92498886414256\n",
      "West Virginia  :  215.88380846325168\n",
      "Wisconsin  :  271.6481737193764\n",
      "Wyoming  :  358.5348329621381\n"
     ]
    }
   ],
   "source": [
    "states = np.unique(prices_pd[\"State\"].values)\n",
    "\n",
    "#Moyenne medq par etat (for)\n",
    "\n",
    "for state in states:\n",
    "    mean = prices_pd[prices_pd[\"State\"] == state][\"MedQ\"].mean()\n",
    "    # print(mean)\n",
    "    print(state, \" : \", mean)"
   ]
  },
  {
   "cell_type": "code",
   "execution_count": 30,
   "metadata": {},
   "outputs": [
    {
     "name": "stdout",
     "output_type": "stream",
     "text": [
      "Alabama  :  339.5618485523386\n",
      "Alaska  :  291.4820044543429\n",
      "Arizona  :  300.66748329621385\n",
      "Arkansas  :  348.0561469933185\n",
      "California  :  245.37612472160356\n",
      "Colorado  :  238.91870824053453\n",
      "Connecticut  :  341.6940757238307\n",
      "Delaware  :  366.7818485523385\n",
      "District of Columbia  :  348.1774164810691\n",
      "Florida  :  302.57031180400895\n",
      "Georgia  :  326.6596436525612\n",
      "Hawaii  :  309.9189309576838\n",
      "Idaho  :  275.6393763919822\n",
      "Illinois  :  355.46334075723826\n",
      "Indiana  :  333.1911135857461\n",
      "Iowa  :  367.09579064587973\n",
      "Kansas  :  350.8191982182628\n",
      "Kentucky  :  338.855167037862\n",
      "Louisiana  :  366.8325389755011\n",
      "Maine  :  315.39008908685975\n",
      "Maryland  :  370.98516703786197\n",
      "Massachusetts  :  349.01164810690426\n",
      "Michigan  :  292.09051224944324\n",
      "Minnesota  :  358.24327394209354\n",
      "Mississippi  :  337.5592873051225\n",
      "Missouri  :  359.27663697104674\n",
      "Montana  :  267.8317371937639\n",
      "Nebraska  :  341.5593541202673\n",
      "Nevada  :  267.8201113585746\n",
      "New Hampshire  :  359.4760356347439\n",
      "New Jersey  :  349.32169265033406\n",
      "New Mexico  :  289.56253897550107\n",
      "New York  :  346.91276169265035\n",
      "North Carolina  :  349.4750334075724\n",
      "North Dakota  :  398.66875278396435\n",
      "Ohio  :  334.55465478841865\n",
      "Oklahoma  :  361.573140311804\n",
      "Oregon  :  208.49623608017816\n",
      "Pennsylvania  :  366.1256792873051\n",
      "Rhode Island  :  323.8383518930958\n",
      "South Carolina  :  341.6929175946548\n",
      "South Dakota  :  375.8184855233853\n",
      "Tennessee  :  352.7530066815144\n",
      "Texas  :  337.1052115812917\n",
      "Utah  :  289.5960579064588\n",
      "Vermont  :  374.25044543429846\n",
      "Virginia  :  368.1469933184855\n",
      "Washington  :  233.38781737193764\n",
      "West Virginia  :  357.394565701559\n",
      "Wisconsin  :  353.05251670378624\n",
      "Wyoming  :  339.0207795100223\n"
     ]
    }
   ],
   "source": [
    "#Moyenne highq par etat (for)\n",
    "\n",
    "for state in states:\n",
    "    mean = prices_pd[prices_pd[\"State\"] == state][\"HighQ\"].mean()\n",
    "    print(state, \" : \", mean)"
   ]
  },
  {
   "cell_type": "code",
   "execution_count": 31,
   "metadata": {},
   "outputs": [
    {
     "data": {
      "text/plain": [
       "State\n",
       "Alabama                 339.561849\n",
       "Alaska                  291.482004\n",
       "Arizona                 300.667483\n",
       "Arkansas                348.056147\n",
       "California              245.376125\n",
       "Colorado                238.918708\n",
       "Connecticut             341.694076\n",
       "Delaware                366.781849\n",
       "District of Columbia    348.177416\n",
       "Florida                 302.570312\n",
       "Georgia                 326.659644\n",
       "Hawaii                  309.918931\n",
       "Idaho                   275.639376\n",
       "Illinois                355.463341\n",
       "Indiana                 333.191114\n",
       "Iowa                    367.095791\n",
       "Kansas                  350.819198\n",
       "Kentucky                338.855167\n",
       "Louisiana               366.832539\n",
       "Maine                   315.390089\n",
       "Maryland                370.985167\n",
       "Massachusetts           349.011648\n",
       "Michigan                292.090512\n",
       "Minnesota               358.243274\n",
       "Mississippi             337.559287\n",
       "Missouri                359.276637\n",
       "Montana                 267.831737\n",
       "Nebraska                341.559354\n",
       "Nevada                  267.820111\n",
       "New Hampshire           359.476036\n",
       "New Jersey              349.321693\n",
       "New Mexico              289.562539\n",
       "New York                346.912762\n",
       "North Carolina          349.475033\n",
       "North Dakota            398.668753\n",
       "Ohio                    334.554655\n",
       "Oklahoma                361.573140\n",
       "Oregon                  208.496236\n",
       "Pennsylvania            366.125679\n",
       "Rhode Island            323.838352\n",
       "South Carolina          341.692918\n",
       "South Dakota            375.818486\n",
       "Tennessee               352.753007\n",
       "Texas                   337.105212\n",
       "Utah                    289.596058\n",
       "Vermont                 374.250445\n",
       "Virginia                368.146993\n",
       "Washington              233.387817\n",
       "West Virginia           357.394566\n",
       "Wisconsin               353.052517\n",
       "Wyoming                 339.020780\n",
       "Name: HighQ, dtype: float64"
      ]
     },
     "execution_count": 31,
     "metadata": {},
     "output_type": "execute_result"
    }
   ],
   "source": [
    "group = prices_pd.groupby(\"State\")\n",
    "group[\"HighQ\"].mean()"
   ]
  },
  {
   "cell_type": "code",
   "execution_count": 32,
   "metadata": {},
   "outputs": [
    {
     "data": {
      "text/plain": [
       "State\n",
       "Alabama                 339.561849\n",
       "Alaska                  291.482004\n",
       "Arizona                 300.667483\n",
       "Arkansas                348.056147\n",
       "California              245.376125\n",
       "Colorado                238.918708\n",
       "Connecticut             341.694076\n",
       "Delaware                366.781849\n",
       "District of Columbia    348.177416\n",
       "Florida                 302.570312\n",
       "Georgia                 326.659644\n",
       "Hawaii                  309.918931\n",
       "Idaho                   275.639376\n",
       "Illinois                355.463341\n",
       "Indiana                 333.191114\n",
       "Iowa                    367.095791\n",
       "Kansas                  350.819198\n",
       "Kentucky                338.855167\n",
       "Louisiana               366.832539\n",
       "Maine                   315.390089\n",
       "Maryland                370.985167\n",
       "Massachusetts           349.011648\n",
       "Michigan                292.090512\n",
       "Minnesota               358.243274\n",
       "Mississippi             337.559287\n",
       "Missouri                359.276637\n",
       "Montana                 267.831737\n",
       "Nebraska                341.559354\n",
       "Nevada                  267.820111\n",
       "New Hampshire           359.476036\n",
       "New Jersey              349.321693\n",
       "New Mexico              289.562539\n",
       "New York                346.912762\n",
       "North Carolina          349.475033\n",
       "North Dakota            398.668753\n",
       "Ohio                    334.554655\n",
       "Oklahoma                361.573140\n",
       "Oregon                  208.496236\n",
       "Pennsylvania            366.125679\n",
       "Rhode Island            323.838352\n",
       "South Carolina          341.692918\n",
       "South Dakota            375.818486\n",
       "Tennessee               352.753007\n",
       "Texas                   337.105212\n",
       "Utah                    289.596058\n",
       "Vermont                 374.250445\n",
       "Virginia                368.146993\n",
       "Washington              233.387817\n",
       "West Virginia           357.394566\n",
       "Wisconsin               353.052517\n",
       "Wyoming                 339.020780\n",
       "Name: HighQ, dtype: float64"
      ]
     },
     "execution_count": 32,
     "metadata": {},
     "output_type": "execute_result"
    }
   ],
   "source": [
    "test = prices_pd.groupby(\"State\")\n",
    "test[\"HighQ\"].mean()"
   ]
  },
  {
   "cell_type": "code",
   "execution_count": 33,
   "metadata": {},
   "outputs": [
    {
     "data": {
      "text/html": [
       "<div>\n",
       "<style scoped>\n",
       "    .dataframe tbody tr th:only-of-type {\n",
       "        vertical-align: middle;\n",
       "    }\n",
       "\n",
       "    .dataframe tbody tr th {\n",
       "        vertical-align: top;\n",
       "    }\n",
       "\n",
       "    .dataframe thead th {\n",
       "        text-align: right;\n",
       "    }\n",
       "</style>\n",
       "<table border=\"1\" class=\"dataframe\">\n",
       "  <thead>\n",
       "    <tr style=\"text-align: right;\">\n",
       "      <th></th>\n",
       "      <th>State</th>\n",
       "      <th>HighQ</th>\n",
       "      <th>HighQN</th>\n",
       "      <th>MedQ</th>\n",
       "      <th>MedQN</th>\n",
       "      <th>LowQ</th>\n",
       "      <th>LowQN</th>\n",
       "      <th>date</th>\n",
       "    </tr>\n",
       "  </thead>\n",
       "  <tbody>\n",
       "    <tr>\n",
       "      <th>0</th>\n",
       "      <td>Alabama</td>\n",
       "      <td>339.06</td>\n",
       "      <td>1042</td>\n",
       "      <td>198.64</td>\n",
       "      <td>933</td>\n",
       "      <td>149.49</td>\n",
       "      <td>123</td>\n",
       "      <td>2014-01-01</td>\n",
       "    </tr>\n",
       "    <tr>\n",
       "      <th>1</th>\n",
       "      <td>Alaska</td>\n",
       "      <td>288.75</td>\n",
       "      <td>252</td>\n",
       "      <td>260.60</td>\n",
       "      <td>297</td>\n",
       "      <td>388.58</td>\n",
       "      <td>26</td>\n",
       "      <td>2014-01-01</td>\n",
       "    </tr>\n",
       "    <tr>\n",
       "      <th>2</th>\n",
       "      <td>Arizona</td>\n",
       "      <td>303.31</td>\n",
       "      <td>1941</td>\n",
       "      <td>209.35</td>\n",
       "      <td>1625</td>\n",
       "      <td>189.45</td>\n",
       "      <td>222</td>\n",
       "      <td>2014-01-01</td>\n",
       "    </tr>\n",
       "    <tr>\n",
       "      <th>3</th>\n",
       "      <td>Arkansas</td>\n",
       "      <td>361.85</td>\n",
       "      <td>576</td>\n",
       "      <td>185.62</td>\n",
       "      <td>544</td>\n",
       "      <td>125.87</td>\n",
       "      <td>112</td>\n",
       "      <td>2014-01-01</td>\n",
       "    </tr>\n",
       "    <tr>\n",
       "      <th>4</th>\n",
       "      <td>California</td>\n",
       "      <td>248.78</td>\n",
       "      <td>12096</td>\n",
       "      <td>193.56</td>\n",
       "      <td>12812</td>\n",
       "      <td>192.92</td>\n",
       "      <td>778</td>\n",
       "      <td>2014-01-01</td>\n",
       "    </tr>\n",
       "    <tr>\n",
       "      <th>...</th>\n",
       "      <td>...</td>\n",
       "      <td>...</td>\n",
       "      <td>...</td>\n",
       "      <td>...</td>\n",
       "      <td>...</td>\n",
       "      <td>...</td>\n",
       "      <td>...</td>\n",
       "      <td>...</td>\n",
       "    </tr>\n",
       "    <tr>\n",
       "      <th>22894</th>\n",
       "      <td>Virginia</td>\n",
       "      <td>364.98</td>\n",
       "      <td>3513</td>\n",
       "      <td>293.12</td>\n",
       "      <td>3079</td>\n",
       "      <td>NaN</td>\n",
       "      <td>284</td>\n",
       "      <td>2014-12-31</td>\n",
       "    </tr>\n",
       "    <tr>\n",
       "      <th>22895</th>\n",
       "      <td>Washington</td>\n",
       "      <td>233.05</td>\n",
       "      <td>3337</td>\n",
       "      <td>189.92</td>\n",
       "      <td>3562</td>\n",
       "      <td>NaN</td>\n",
       "      <td>160</td>\n",
       "      <td>2014-12-31</td>\n",
       "    </tr>\n",
       "    <tr>\n",
       "      <th>22896</th>\n",
       "      <td>West Virginia</td>\n",
       "      <td>359.35</td>\n",
       "      <td>551</td>\n",
       "      <td>224.03</td>\n",
       "      <td>545</td>\n",
       "      <td>NaN</td>\n",
       "      <td>60</td>\n",
       "      <td>2014-12-31</td>\n",
       "    </tr>\n",
       "    <tr>\n",
       "      <th>22897</th>\n",
       "      <td>Wisconsin</td>\n",
       "      <td>350.52</td>\n",
       "      <td>2244</td>\n",
       "      <td>272.71</td>\n",
       "      <td>2221</td>\n",
       "      <td>NaN</td>\n",
       "      <td>167</td>\n",
       "      <td>2014-12-31</td>\n",
       "    </tr>\n",
       "    <tr>\n",
       "      <th>22898</th>\n",
       "      <td>Wyoming</td>\n",
       "      <td>322.27</td>\n",
       "      <td>131</td>\n",
       "      <td>351.86</td>\n",
       "      <td>197</td>\n",
       "      <td>NaN</td>\n",
       "      <td>12</td>\n",
       "      <td>2014-12-31</td>\n",
       "    </tr>\n",
       "  </tbody>\n",
       "</table>\n",
       "<p>22899 rows × 8 columns</p>\n",
       "</div>"
      ],
      "text/plain": [
       "               State   HighQ  HighQN    MedQ  MedQN    LowQ  LowQN       date\n",
       "0            Alabama  339.06    1042  198.64    933  149.49    123 2014-01-01\n",
       "1             Alaska  288.75     252  260.60    297  388.58     26 2014-01-01\n",
       "2            Arizona  303.31    1941  209.35   1625  189.45    222 2014-01-01\n",
       "3           Arkansas  361.85     576  185.62    544  125.87    112 2014-01-01\n",
       "4         California  248.78   12096  193.56  12812  192.92    778 2014-01-01\n",
       "...              ...     ...     ...     ...    ...     ...    ...        ...\n",
       "22894       Virginia  364.98    3513  293.12   3079     NaN    284 2014-12-31\n",
       "22895     Washington  233.05    3337  189.92   3562     NaN    160 2014-12-31\n",
       "22896  West Virginia  359.35     551  224.03    545     NaN     60 2014-12-31\n",
       "22897      Wisconsin  350.52    2244  272.71   2221     NaN    167 2014-12-31\n",
       "22898        Wyoming  322.27     131  351.86    197     NaN     12 2014-12-31\n",
       "\n",
       "[22899 rows x 8 columns]"
      ]
     },
     "execution_count": 33,
     "metadata": {},
     "output_type": "execute_result"
    }
   ],
   "source": [
    "prices_pd"
   ]
  },
  {
   "cell_type": "markdown",
   "metadata": {},
   "source": [
    "<font color=\"RED\" size=\"+1\">**[Q]**</font> **Modification de données**\n",
    "\n",
    "Remplacez le <tt>NAN</tt> de la colonne <tt>LowQ</tt> à l'aide de la fonction décrite ici: http://pandas.pydata.org/pandas-docs/version/0.17.1/generated/pandas.DataFrame.fillna.html avec sa variante pour les versions pandas plus récentes https://pandas.pydata.org/docs/reference/api/pandas.DataFrame.ffill.html.\n",
    "\n",
    "Nous souhaitons plus particulièrement utiliser une méthode de remplissage après avoir trié par état et par date grâce à l'utilisation de la fonction <tt>sort</tt> : \n",
    "\n",
    "            prices_sorted = prices_pd.sort_values(by=['State', 'date'], inplace=False)\n",
    "\n",
    "Expliquer le résultat de cette commande.\n",
    "Que se passerait-il si on utilisait <tt>inplace=True</tt> ?"
   ]
  },
  {
   "cell_type": "code",
   "execution_count": 34,
   "metadata": {},
   "outputs": [
    {
     "data": {
      "text/html": [
       "<div>\n",
       "<style scoped>\n",
       "    .dataframe tbody tr th:only-of-type {\n",
       "        vertical-align: middle;\n",
       "    }\n",
       "\n",
       "    .dataframe tbody tr th {\n",
       "        vertical-align: top;\n",
       "    }\n",
       "\n",
       "    .dataframe thead th {\n",
       "        text-align: right;\n",
       "    }\n",
       "</style>\n",
       "<table border=\"1\" class=\"dataframe\">\n",
       "  <thead>\n",
       "    <tr style=\"text-align: right;\">\n",
       "      <th></th>\n",
       "      <th>State</th>\n",
       "      <th>HighQ</th>\n",
       "      <th>HighQN</th>\n",
       "      <th>MedQ</th>\n",
       "      <th>MedQN</th>\n",
       "      <th>LowQ</th>\n",
       "      <th>LowQN</th>\n",
       "      <th>date</th>\n",
       "    </tr>\n",
       "  </thead>\n",
       "  <tbody>\n",
       "    <tr>\n",
       "      <th>20094</th>\n",
       "      <td>Alabama</td>\n",
       "      <td>339.65</td>\n",
       "      <td>1033</td>\n",
       "      <td>198.04</td>\n",
       "      <td>926</td>\n",
       "      <td>147.15</td>\n",
       "      <td>122</td>\n",
       "      <td>2013-12-27</td>\n",
       "    </tr>\n",
       "    <tr>\n",
       "      <th>20859</th>\n",
       "      <td>Alabama</td>\n",
       "      <td>339.65</td>\n",
       "      <td>1033</td>\n",
       "      <td>198.04</td>\n",
       "      <td>926</td>\n",
       "      <td>147.15</td>\n",
       "      <td>122</td>\n",
       "      <td>2013-12-28</td>\n",
       "    </tr>\n",
       "    <tr>\n",
       "      <th>21573</th>\n",
       "      <td>Alabama</td>\n",
       "      <td>339.75</td>\n",
       "      <td>1036</td>\n",
       "      <td>198.26</td>\n",
       "      <td>929</td>\n",
       "      <td>149.49</td>\n",
       "      <td>123</td>\n",
       "      <td>2013-12-29</td>\n",
       "    </tr>\n",
       "    <tr>\n",
       "      <th>22287</th>\n",
       "      <td>Alabama</td>\n",
       "      <td>339.75</td>\n",
       "      <td>1036</td>\n",
       "      <td>198.81</td>\n",
       "      <td>930</td>\n",
       "      <td>149.49</td>\n",
       "      <td>123</td>\n",
       "      <td>2013-12-30</td>\n",
       "    </tr>\n",
       "    <tr>\n",
       "      <th>22797</th>\n",
       "      <td>Alabama</td>\n",
       "      <td>339.42</td>\n",
       "      <td>1040</td>\n",
       "      <td>198.68</td>\n",
       "      <td>932</td>\n",
       "      <td>149.49</td>\n",
       "      <td>123</td>\n",
       "      <td>2013-12-31</td>\n",
       "    </tr>\n",
       "    <tr>\n",
       "      <th>...</th>\n",
       "      <td>...</td>\n",
       "      <td>...</td>\n",
       "      <td>...</td>\n",
       "      <td>...</td>\n",
       "      <td>...</td>\n",
       "      <td>...</td>\n",
       "      <td>...</td>\n",
       "      <td>...</td>\n",
       "    </tr>\n",
       "    <tr>\n",
       "      <th>4997</th>\n",
       "      <td>Wyoming</td>\n",
       "      <td>313.72</td>\n",
       "      <td>148</td>\n",
       "      <td>317.38</td>\n",
       "      <td>226</td>\n",
       "      <td>161.30</td>\n",
       "      <td>13</td>\n",
       "      <td>2015-06-07</td>\n",
       "    </tr>\n",
       "    <tr>\n",
       "      <th>5762</th>\n",
       "      <td>Wyoming</td>\n",
       "      <td>313.72</td>\n",
       "      <td>148</td>\n",
       "      <td>317.38</td>\n",
       "      <td>226</td>\n",
       "      <td>161.30</td>\n",
       "      <td>13</td>\n",
       "      <td>2015-06-08</td>\n",
       "    </tr>\n",
       "    <tr>\n",
       "      <th>6527</th>\n",
       "      <td>Wyoming</td>\n",
       "      <td>313.72</td>\n",
       "      <td>148</td>\n",
       "      <td>317.38</td>\n",
       "      <td>226</td>\n",
       "      <td>161.30</td>\n",
       "      <td>13</td>\n",
       "      <td>2015-06-09</td>\n",
       "    </tr>\n",
       "    <tr>\n",
       "      <th>7343</th>\n",
       "      <td>Wyoming</td>\n",
       "      <td>313.72</td>\n",
       "      <td>148</td>\n",
       "      <td>317.38</td>\n",
       "      <td>226</td>\n",
       "      <td>161.30</td>\n",
       "      <td>13</td>\n",
       "      <td>2015-06-10</td>\n",
       "    </tr>\n",
       "    <tr>\n",
       "      <th>8159</th>\n",
       "      <td>Wyoming</td>\n",
       "      <td>313.72</td>\n",
       "      <td>148</td>\n",
       "      <td>317.38</td>\n",
       "      <td>226</td>\n",
       "      <td>161.30</td>\n",
       "      <td>13</td>\n",
       "      <td>2015-06-11</td>\n",
       "    </tr>\n",
       "  </tbody>\n",
       "</table>\n",
       "<p>22899 rows × 8 columns</p>\n",
       "</div>"
      ],
      "text/plain": [
       "         State   HighQ  HighQN    MedQ  MedQN    LowQ  LowQN       date\n",
       "20094  Alabama  339.65    1033  198.04    926  147.15    122 2013-12-27\n",
       "20859  Alabama  339.65    1033  198.04    926  147.15    122 2013-12-28\n",
       "21573  Alabama  339.75    1036  198.26    929  149.49    123 2013-12-29\n",
       "22287  Alabama  339.75    1036  198.81    930  149.49    123 2013-12-30\n",
       "22797  Alabama  339.42    1040  198.68    932  149.49    123 2013-12-31\n",
       "...        ...     ...     ...     ...    ...     ...    ...        ...\n",
       "4997   Wyoming  313.72     148  317.38    226  161.30     13 2015-06-07\n",
       "5762   Wyoming  313.72     148  317.38    226  161.30     13 2015-06-08\n",
       "6527   Wyoming  313.72     148  317.38    226  161.30     13 2015-06-09\n",
       "7343   Wyoming  313.72     148  317.38    226  161.30     13 2015-06-10\n",
       "8159   Wyoming  313.72     148  317.38    226  161.30     13 2015-06-11\n",
       "\n",
       "[22899 rows x 8 columns]"
      ]
     },
     "execution_count": 34,
     "metadata": {},
     "output_type": "execute_result"
    }
   ],
   "source": [
    "# Tri avec les Nan\n",
    "prices_sorted = prices_pd.sort_values(by=['State', 'date'], inplace=False)\n",
    "prices_sorted \n",
    "\n",
    "# à compléter...\n",
    "prices_replaced = prices_sorted.ffill()\n",
    "prices_replaced\n",
    "\n",
    "# Résultat : change un NaN en le dernier nombre au dessus de lui dans sa colonne (propage le nbr sur les NaN en dessous de lui)\n",
    "# Sans le inplace = n'affiche pas le dataFrame"
   ]
  },
  {
   "cell_type": "markdown",
   "metadata": {},
   "source": [
    "<font color=\"RED\" size=\"+1\">**[Q]**</font> **Changements des résultats**\n",
    "\n",
    "\n",
    "Recalculer la moyenne des prix pour la qualité <tt>LowQ</tt>. Qu'en est-il maintenant ? "
   ]
  },
  {
   "cell_type": "code",
   "execution_count": 35,
   "metadata": {},
   "outputs": [
    {
     "name": "stdout",
     "output_type": "stream",
     "text": [
      "203.74784718846217\n",
      "203.74784718846215\n",
      "203.62409188174158\n"
     ]
    }
   ],
   "source": [
    "print(prices_pd[\"LowQ\"].mean())\n",
    "print(prices_sorted[\"LowQ\"].mean())\n",
    "print(prices_replaced[\"LowQ\"].mean())"
   ]
  },
  {
   "cell_type": "code",
   "execution_count": null,
   "metadata": {},
   "outputs": [],
   "source": []
  },
  {
   "cell_type": "markdown",
   "metadata": {},
   "source": [
    "<font color=\"RED\" size=\"+1\">**[Q]**</font> **Tracé d'histogrammes**\n",
    "\n",
    "Donner les instructions Python pour tracer l'histogramme des moyennes des prix (<tt>LowQ</tt>) par état pour les données initiales (ie. avec NAN). \n",
    "\n",
    "\n",
    "Pour vous aider à construire un histogramme, vous pouvez étudier la page suivante:\n",
    "https://matplotlib.org/stable/api/_as_gen/matplotlib.pyplot.hist.html"
   ]
  },
  {
   "cell_type": "code",
   "execution_count": 36,
   "metadata": {},
   "outputs": [
    {
     "data": {
      "text/plain": [
       "(array([1483., 6411., 3222.,  296.,  382.,   64.,    0.,   88.,  214.,\n",
       "         182.]),\n",
       " array([ 63.7  , 130.795, 197.89 , 264.985, 332.08 , 399.175, 466.27 ,\n",
       "        533.365, 600.46 , 667.555, 734.65 ]),\n",
       " <BarContainer object of 10 artists>)"
      ]
     },
     "execution_count": 36,
     "metadata": {},
     "output_type": "execute_result"
    },
    {
     "data": {
      "image/png": "[encoded data removed]",
      "text/plain": [
       "<Figure size 640x480 with 1 Axes>"
      ]
     },
     "metadata": {},
     "output_type": "display_data"
    }
   ],
   "source": [
    "# Par exemple, tracé de l'histograme des valeurs \"LowQ\" sur l'ensemble des données:\n",
    "plt.hist(prices_pd[\"LowQ\"])"
   ]
  },
  {
   "cell_type": "markdown",
   "metadata": {},
   "source": [
    "<font color=\"RED\" size=\"+1\">**[Q]**</font> **Estimation de densité**\n",
    "\n",
    "Nous allons maintenant nous intéresser au calcul du nombre d'états concernés par une fourchette de prix. Pour cela:\n",
    "* Calculer le tableau des prix moyens de la facon suivante\n",
    "    \n"
   ]
  },
  {
   "cell_type": "code",
   "execution_count": 37,
   "metadata": {},
   "outputs": [
    {
     "data": {
      "text/plain": [
       "array([146.83260331, 387.23272727, 190.8268595 , 127.34545455,\n",
       "       190.79599174, 226.79061983, 253.02487603, 205.04599174,\n",
       "       210.56355372, 153.2053719 , 150.26409091, 167.09384298,\n",
       "       139.96285124, 186.54516529, 158.93165289, 248.59553719,\n",
       "       120.1992562 , 124.1568595 , 146.77698347, 244.95165289,\n",
       "       190.18508264, 220.07      , 252.64491736, 182.68330579,\n",
       "       142.75194215, 147.50859504, 659.85107438, 137.89590909,\n",
       "       241.79293388, 639.80780992, 228.61177686,  80.89095041,\n",
       "       201.34      , 150.81061983, 333.96822314, 165.1696281 ,\n",
       "       119.89392562, 170.17338843, 193.22975207, 203.00066116,\n",
       "       184.46760331, 124.31801653, 190.12157025, 143.36289256,\n",
       "       193.84429752, 189.6007438 , 224.23900826, 143.18338843,\n",
       "       155.71516529, 239.56508264, 161.3       ])"
      ]
     },
     "execution_count": 37,
     "metadata": {},
     "output_type": "execute_result"
    }
   ],
   "source": [
    "prix_moyens=prices_pd[[\"State\",\"LowQ\"]].groupby([\"State\"]).mean()\n",
    "# print(prix_moyens)\n",
    "#print(\"===========\")\n",
    "prix_moyens=prix_moyens.values.ravel()\n",
    "\n",
    "prix_moyens"
   ]
  },
  {
   "cell_type": "code",
   "execution_count": 38,
   "metadata": {},
   "outputs": [
    {
     "data": {
      "image/png": "[encoded data removed]",
      "text/plain": [
       "<Figure size 640x480 with 1 Axes>"
      ]
     },
     "metadata": {},
     "output_type": "display_data"
    }
   ],
   "source": [
    "# Histogramme:\n",
    "plt.hist(prix_moyens)\n",
    "plt.show()"
   ]
  },
  {
   "cell_type": "markdown",
   "metadata": {},
   "source": [
    "<font color=\"RED\" size=\"+1\">**[Q]**</font> **Bornes de variations**\n",
    "\n",
    "* Calculer les valeurs min et max des prix moyens"
   ]
  },
  {
   "cell_type": "code",
   "execution_count": 39,
   "metadata": {},
   "outputs": [
    {
     "name": "stdout",
     "output_type": "stream",
     "text": [
      "80.89095041322314\n",
      "659.8510743801653\n"
     ]
    }
   ],
   "source": [
    "print(prix_moyens.min())\n",
    "print(prix_moyens.max())"
   ]
  },
  {
   "cell_type": "markdown",
   "metadata": {},
   "source": [
    "<font color=\"RED\" size=\"+1\">**[Q]**</font> **Calcul d'un effectif**\n",
    "\n",
    "Pour mieux contrôler le tracé de l'histogramme, il est préférable de donner la taille de l'intervalle de discrétisation à utiliser pour calculer les effectifs.\n",
    "\n",
    "En utilisant l'option bins de la fonction de matplotlib `hist`, tracer l'histogramme avec un intervalle de discrétisation de taille 20."
   ]
  },
  {
   "cell_type": "code",
   "execution_count": 44,
   "metadata": {},
   "outputs": [
    {
     "data": {
      "text/plain": [
       "(array([ 1.,  6., 15., 11.,  6.,  8.,  0.,  0.,  1.,  0.,  1.,  0.,  0.,\n",
       "         0.,  0.,  0.,  0.,  0.,  0.,  2.]),\n",
       " array([ 80.89095041, 109.83895661, 138.78696281, 167.73496901,\n",
       "        196.68297521, 225.6309814 , 254.5789876 , 283.5269938 ,\n",
       "        312.475     , 341.4230062 , 370.3710124 , 399.3190186 ,\n",
       "        428.26702479, 457.21503099, 486.16303719, 515.11104339,\n",
       "        544.05904959, 573.00705579, 601.95506198, 630.90306818,\n",
       "        659.85107438]),\n",
       " <BarContainer object of 20 artists>)"
      ]
     },
     "execution_count": 44,
     "metadata": {},
     "output_type": "execute_result"
    },
    {
     "data": {
      "image/png": "[encoded data removed]",
      "text/plain": [
       "<Figure size 640x480 with 1 Axes>"
      ]
     },
     "metadata": {},
     "output_type": "display_data"
    }
   ],
   "source": [
    "plt.hist(prix_moyens, 20)"
   ]
  },
  {
   "cell_type": "markdown",
   "metadata": {},
   "source": [
    "<font color=\"RED\" size=\"+1\">**[Q]**</font> **Changement d'échelle**\n",
    "\n",
    "Même chose mais avec maintenant un intervalle de taille 40.\n"
   ]
  },
  {
   "cell_type": "code",
   "execution_count": 45,
   "metadata": {},
   "outputs": [
    {
     "data": {
      "text/plain": [
       "(array([ 1.,  0.,  3.,  3., 10.,  5.,  1., 10.,  4.,  2.,  3.,  5.,  0.,\n",
       "         0.,  0.,  0.,  0.,  1.,  0.,  0.,  0.,  1.,  0.,  0.,  0.,  0.,\n",
       "         0.,  0.,  0.,  0.,  0.,  0.,  0.,  0.,  0.,  0.,  0.,  0.,  1.,\n",
       "         1.]),\n",
       " array([ 80.89095041,  95.36495351, 109.83895661, 124.31295971,\n",
       "        138.78696281, 153.26096591, 167.73496901, 182.20897211,\n",
       "        196.68297521, 211.15697831, 225.6309814 , 240.1049845 ,\n",
       "        254.5789876 , 269.0529907 , 283.5269938 , 298.0009969 ,\n",
       "        312.475     , 326.9490031 , 341.4230062 , 355.8970093 ,\n",
       "        370.3710124 , 384.8450155 , 399.3190186 , 413.79302169,\n",
       "        428.26702479, 442.74102789, 457.21503099, 471.68903409,\n",
       "        486.16303719, 500.63704029, 515.11104339, 529.58504649,\n",
       "        544.05904959, 558.53305269, 573.00705579, 587.48105888,\n",
       "        601.95506198, 616.42906508, 630.90306818, 645.37707128,\n",
       "        659.85107438]),\n",
       " <BarContainer object of 40 artists>)"
      ]
     },
     "execution_count": 45,
     "metadata": {},
     "output_type": "execute_result"
    },
    {
     "data": {
      "image/png": "[encoded data removed]",
      "text/plain": [
       "<Figure size 640x480 with 1 Axes>"
      ]
     },
     "metadata": {},
     "output_type": "display_data"
    }
   ],
   "source": [
    "plt.hist(prix_moyens, 40)"
   ]
  },
  {
   "cell_type": "markdown",
   "metadata": {},
   "source": [
    "### Variance\n",
    "\n",
    "<font color=\"RED\" size=\"+1\">**[Q]**</font> **Calcul de variances**\n",
    "\n",
    "On souhaite maintenant rajouter une colonne <tt>HighQ_var</tt> aux données originales contenant la variance des prix par état. Donner les intructions Python correspondantes.\n",
    "\n",
    "**ATTENTION**, cela suppose de traiter les états (State) les uns après les autres... par exemple, à l'aide d'un <tt>groupby</tt> sur le dataframe...\n",
    "\n",
    "\n",
    "Remarque: pour être efficace, utiliser la fonction variance de pandas pour les dataframes..."
   ]
  },
  {
   "cell_type": "code",
   "execution_count": 65,
   "metadata": {},
   "outputs": [
    {
     "data": {
      "text/html": [
       "<div>\n",
       "<style scoped>\n",
       "    .dataframe tbody tr th:only-of-type {\n",
       "        vertical-align: middle;\n",
       "    }\n",
       "\n",
       "    .dataframe tbody tr th {\n",
       "        vertical-align: top;\n",
       "    }\n",
       "\n",
       "    .dataframe thead th {\n",
       "        text-align: right;\n",
       "    }\n",
       "</style>\n",
       "<table border=\"1\" class=\"dataframe\">\n",
       "  <thead>\n",
       "    <tr style=\"text-align: right;\">\n",
       "      <th></th>\n",
       "      <th>State</th>\n",
       "      <th>HighQ</th>\n",
       "      <th>HighQN</th>\n",
       "      <th>MedQ</th>\n",
       "      <th>MedQN</th>\n",
       "      <th>LowQ</th>\n",
       "      <th>LowQN</th>\n",
       "      <th>date</th>\n",
       "      <th>HighQ_var</th>\n",
       "    </tr>\n",
       "  </thead>\n",
       "  <tbody>\n",
       "    <tr>\n",
       "      <th>0</th>\n",
       "      <td>Alabama</td>\n",
       "      <td>339.06</td>\n",
       "      <td>1042</td>\n",
       "      <td>198.64</td>\n",
       "      <td>933</td>\n",
       "      <td>149.49</td>\n",
       "      <td>123</td>\n",
       "      <td>2014-01-01</td>\n",
       "      <td>2.370749</td>\n",
       "    </tr>\n",
       "    <tr>\n",
       "      <th>9843</th>\n",
       "      <td>Alabama</td>\n",
       "      <td>339.17</td>\n",
       "      <td>1431</td>\n",
       "      <td>204.68</td>\n",
       "      <td>1323</td>\n",
       "      <td>NaN</td>\n",
       "      <td>165</td>\n",
       "      <td>2014-10-13</td>\n",
       "      <td>2.370749</td>\n",
       "    </tr>\n",
       "    <tr>\n",
       "      <th>5457</th>\n",
       "      <td>Alabama</td>\n",
       "      <td>335.45</td>\n",
       "      <td>1592</td>\n",
       "      <td>209.87</td>\n",
       "      <td>1542</td>\n",
       "      <td>NaN</td>\n",
       "      <td>195</td>\n",
       "      <td>2015-02-08</td>\n",
       "      <td>2.370749</td>\n",
       "    </tr>\n",
       "    <tr>\n",
       "      <th>22032</th>\n",
       "      <td>Alabama</td>\n",
       "      <td>340.37</td>\n",
       "      <td>1378</td>\n",
       "      <td>203.51</td>\n",
       "      <td>1236</td>\n",
       "      <td>147.11</td>\n",
       "      <td>158</td>\n",
       "      <td>2014-07-30</td>\n",
       "      <td>2.370749</td>\n",
       "    </tr>\n",
       "    <tr>\n",
       "      <th>9792</th>\n",
       "      <td>Alabama</td>\n",
       "      <td>340.63</td>\n",
       "      <td>1412</td>\n",
       "      <td>203.87</td>\n",
       "      <td>1292</td>\n",
       "      <td>NaN</td>\n",
       "      <td>161</td>\n",
       "      <td>2014-09-13</td>\n",
       "      <td>2.370749</td>\n",
       "    </tr>\n",
       "    <tr>\n",
       "      <th>...</th>\n",
       "      <td>...</td>\n",
       "      <td>...</td>\n",
       "      <td>...</td>\n",
       "      <td>...</td>\n",
       "      <td>...</td>\n",
       "      <td>...</td>\n",
       "      <td>...</td>\n",
       "      <td>...</td>\n",
       "      <td>...</td>\n",
       "    </tr>\n",
       "    <tr>\n",
       "      <th>6986</th>\n",
       "      <td>Wyoming</td>\n",
       "      <td>354.11</td>\n",
       "      <td>95</td>\n",
       "      <td>379.00</td>\n",
       "      <td>139</td>\n",
       "      <td>161.30</td>\n",
       "      <td>11</td>\n",
       "      <td>2014-02-10</td>\n",
       "      <td>219.612495</td>\n",
       "    </tr>\n",
       "    <tr>\n",
       "      <th>18512</th>\n",
       "      <td>Wyoming</td>\n",
       "      <td>330.41</td>\n",
       "      <td>117</td>\n",
       "      <td>356.25</td>\n",
       "      <td>170</td>\n",
       "      <td>161.30</td>\n",
       "      <td>12</td>\n",
       "      <td>2014-08-25</td>\n",
       "      <td>219.612495</td>\n",
       "    </tr>\n",
       "    <tr>\n",
       "      <th>14075</th>\n",
       "      <td>Wyoming</td>\n",
       "      <td>314.89</td>\n",
       "      <td>146</td>\n",
       "      <td>345.46</td>\n",
       "      <td>222</td>\n",
       "      <td>NaN</td>\n",
       "      <td>13</td>\n",
       "      <td>2015-05-19</td>\n",
       "      <td>219.612495</td>\n",
       "    </tr>\n",
       "    <tr>\n",
       "      <th>6578</th>\n",
       "      <td>Wyoming</td>\n",
       "      <td>351.78</td>\n",
       "      <td>110</td>\n",
       "      <td>359.34</td>\n",
       "      <td>162</td>\n",
       "      <td>161.30</td>\n",
       "      <td>12</td>\n",
       "      <td>2014-07-09</td>\n",
       "      <td>219.612495</td>\n",
       "    </tr>\n",
       "    <tr>\n",
       "      <th>22898</th>\n",
       "      <td>Wyoming</td>\n",
       "      <td>322.27</td>\n",
       "      <td>131</td>\n",
       "      <td>351.86</td>\n",
       "      <td>197</td>\n",
       "      <td>NaN</td>\n",
       "      <td>12</td>\n",
       "      <td>2014-12-31</td>\n",
       "      <td>219.612495</td>\n",
       "    </tr>\n",
       "  </tbody>\n",
       "</table>\n",
       "<p>22899 rows × 9 columns</p>\n",
       "</div>"
      ],
      "text/plain": [
       "         State   HighQ  HighQN    MedQ  MedQN    LowQ  LowQN       date  \\\n",
       "0      Alabama  339.06    1042  198.64    933  149.49    123 2014-01-01   \n",
       "9843   Alabama  339.17    1431  204.68   1323     NaN    165 2014-10-13   \n",
       "5457   Alabama  335.45    1592  209.87   1542     NaN    195 2015-02-08   \n",
       "22032  Alabama  340.37    1378  203.51   1236  147.11    158 2014-07-30   \n",
       "9792   Alabama  340.63    1412  203.87   1292     NaN    161 2014-09-13   \n",
       "...        ...     ...     ...     ...    ...     ...    ...        ...   \n",
       "6986   Wyoming  354.11      95  379.00    139  161.30     11 2014-02-10   \n",
       "18512  Wyoming  330.41     117  356.25    170  161.30     12 2014-08-25   \n",
       "14075  Wyoming  314.89     146  345.46    222     NaN     13 2015-05-19   \n",
       "6578   Wyoming  351.78     110  359.34    162  161.30     12 2014-07-09   \n",
       "22898  Wyoming  322.27     131  351.86    197     NaN     12 2014-12-31   \n",
       "\n",
       "        HighQ_var  \n",
       "0        2.370749  \n",
       "9843     2.370749  \n",
       "5457     2.370749  \n",
       "22032    2.370749  \n",
       "9792     2.370749  \n",
       "...           ...  \n",
       "6986   219.612495  \n",
       "18512  219.612495  \n",
       "14075  219.612495  \n",
       "6578   219.612495  \n",
       "22898  219.612495  \n",
       "\n",
       "[22899 rows x 9 columns]"
      ]
     },
     "execution_count": 65,
     "metadata": {},
     "output_type": "execute_result"
    }
   ],
   "source": [
    "prix_var = prices_pd.groupby([\"State\"])[\"HighQ\"].var()\n",
    "# print(prix_var)\n",
    "\n",
    "prices_pd[\"HighQ_var\"] = prices_pd[\"State\"].map(prix_var)\n",
    "prices_pd.sort_values(\"State\")"
   ]
  },
  {
   "cell_type": "code",
   "execution_count": 36,
   "metadata": {},
   "outputs": [
    {
     "data": {
      "text/plain": [
       "State\n",
       "Alabama                   2.370749\n",
       "Alaska                   31.137567\n",
       "Arizona                   4.063247\n",
       "Arkansas                 47.141986\n",
       "California                2.982686\n",
       "Colorado                  6.356718\n",
       "Connecticut              18.372574\n",
       "Delaware                 24.827685\n",
       "District of Columbia      3.976920\n",
       "Florida                   5.258257\n",
       "Georgia                  13.400555\n",
       "Hawaii                    9.469260\n",
       "Idaho                     0.840436\n",
       "Illinois                  5.790658\n",
       "Indiana                   3.453509\n",
       "Iowa                      7.875726\n",
       "Kansas                    3.951313\n",
       "Kentucky                  1.074988\n",
       "Louisiana                23.778186\n",
       "Maine                    22.066151\n",
       "Maryland                 34.891397\n",
       "Massachusetts            12.740908\n",
       "Michigan                 18.449891\n",
       "Minnesota                79.051308\n",
       "Mississippi               7.309370\n",
       "Missouri                 54.772887\n",
       "Montana                  10.967851\n",
       "Nebraska                 30.419953\n",
       "Nevada                    1.848997\n",
       "New Hampshire            51.118775\n",
       "New Jersey               12.833771\n",
       "New Mexico                6.427070\n",
       "New York                 12.245147\n",
       "North Carolina           16.311250\n",
       "North Dakota             55.694703\n",
       "Ohio                      2.698508\n",
       "Oklahoma                 31.829491\n",
       "Oregon                    7.561688\n",
       "Pennsylvania             12.866467\n",
       "Rhode Island             44.814466\n",
       "South Carolina           14.913978\n",
       "South Dakota            138.362692\n",
       "Tennessee                14.840045\n",
       "Texas                    16.169573\n",
       "Utah                      4.275242\n",
       "Vermont                  12.881744\n",
       "Virginia                 11.862465\n",
       "Washington                1.347089\n",
       "West Virginia             8.248240\n",
       "Wisconsin                11.744638\n",
       "Wyoming                 219.612495\n",
       "Name: HighQ, dtype: float64"
      ]
     },
     "execution_count": 36,
     "metadata": {},
     "output_type": "execute_result"
    }
   ],
   "source": []
  },
  {
   "cell_type": "markdown",
   "metadata": {},
   "source": [
    "# Travail de synthèse : La Californie\n",
    "\n",
    "Pandas permet de faire la synthèse de données de la manière suivante (pour le DataFrame de nom <tt>df</tt>): \n",
    "    \n",
    "    df.describe()\n",
    "    \n",
    "\n",
    "<font color=\"RED\" size=\"+1\">**[Q]**</font> Vérifier que les valeurs trouvées sur l'état de la Californie correspondent aux valeurs trouvées grâce à vos différentes fonctions. \n",
    "\n",
    "Pour cela, donner dans ce qui suit le code qui utilise vos fonctions (moyennes, variance, et quartiles) ainsi que le résutlats de la fonction <tt>describe</tt>.\n"
   ]
  },
  {
   "cell_type": "code",
   "execution_count": 81,
   "metadata": {},
   "outputs": [
    {
     "data": {
      "text/html": [
       "<div>\n",
       "<style scoped>\n",
       "    .dataframe tbody tr th:only-of-type {\n",
       "        vertical-align: middle;\n",
       "    }\n",
       "\n",
       "    .dataframe tbody tr th {\n",
       "        vertical-align: top;\n",
       "    }\n",
       "\n",
       "    .dataframe thead th {\n",
       "        text-align: right;\n",
       "    }\n",
       "</style>\n",
       "<table border=\"1\" class=\"dataframe\">\n",
       "  <thead>\n",
       "    <tr style=\"text-align: right;\">\n",
       "      <th></th>\n",
       "      <th>State</th>\n",
       "      <th>HighQ</th>\n",
       "      <th>HighQN</th>\n",
       "      <th>MedQ</th>\n",
       "      <th>MedQN</th>\n",
       "      <th>LowQ</th>\n",
       "      <th>LowQN</th>\n",
       "      <th>date</th>\n",
       "      <th>HighQ_var</th>\n",
       "    </tr>\n",
       "  </thead>\n",
       "  <tbody>\n",
       "    <tr>\n",
       "      <th>count</th>\n",
       "      <td>449</td>\n",
       "      <td>449.000000</td>\n",
       "      <td>449.000000</td>\n",
       "      <td>449.000000</td>\n",
       "      <td>449.000000</td>\n",
       "      <td>242.000000</td>\n",
       "      <td>449.000000</td>\n",
       "      <td>449</td>\n",
       "      <td>4.490000e+02</td>\n",
       "    </tr>\n",
       "    <tr>\n",
       "      <th>unique</th>\n",
       "      <td>1</td>\n",
       "      <td>NaN</td>\n",
       "      <td>NaN</td>\n",
       "      <td>NaN</td>\n",
       "      <td>NaN</td>\n",
       "      <td>NaN</td>\n",
       "      <td>NaN</td>\n",
       "      <td>NaN</td>\n",
       "      <td>NaN</td>\n",
       "    </tr>\n",
       "    <tr>\n",
       "      <th>top</th>\n",
       "      <td>California</td>\n",
       "      <td>NaN</td>\n",
       "      <td>NaN</td>\n",
       "      <td>NaN</td>\n",
       "      <td>NaN</td>\n",
       "      <td>NaN</td>\n",
       "      <td>NaN</td>\n",
       "      <td>NaN</td>\n",
       "      <td>NaN</td>\n",
       "    </tr>\n",
       "    <tr>\n",
       "      <th>freq</th>\n",
       "      <td>449</td>\n",
       "      <td>NaN</td>\n",
       "      <td>NaN</td>\n",
       "      <td>NaN</td>\n",
       "      <td>NaN</td>\n",
       "      <td>NaN</td>\n",
       "      <td>NaN</td>\n",
       "      <td>NaN</td>\n",
       "      <td>NaN</td>\n",
       "    </tr>\n",
       "    <tr>\n",
       "      <th>mean</th>\n",
       "      <td>NaN</td>\n",
       "      <td>245.376125</td>\n",
       "      <td>14947.073497</td>\n",
       "      <td>191.268909</td>\n",
       "      <td>16769.821826</td>\n",
       "      <td>190.795992</td>\n",
       "      <td>976.298441</td>\n",
       "      <td>2014-08-14 12:59:19.910913024</td>\n",
       "      <td>2.982686e+00</td>\n",
       "    </tr>\n",
       "    <tr>\n",
       "      <th>min</th>\n",
       "      <td>NaN</td>\n",
       "      <td>241.840000</td>\n",
       "      <td>12021.000000</td>\n",
       "      <td>187.850000</td>\n",
       "      <td>12724.000000</td>\n",
       "      <td>187.830000</td>\n",
       "      <td>770.000000</td>\n",
       "      <td>2013-12-27 00:00:00</td>\n",
       "      <td>2.982686e+00</td>\n",
       "    </tr>\n",
       "    <tr>\n",
       "      <th>25%</th>\n",
       "      <td>NaN</td>\n",
       "      <td>244.480000</td>\n",
       "      <td>13610.000000</td>\n",
       "      <td>190.260000</td>\n",
       "      <td>14826.000000</td>\n",
       "      <td>189.420000</td>\n",
       "      <td>878.000000</td>\n",
       "      <td>2014-04-18 00:00:00</td>\n",
       "      <td>2.982686e+00</td>\n",
       "    </tr>\n",
       "    <tr>\n",
       "      <th>50%</th>\n",
       "      <td>NaN</td>\n",
       "      <td>245.310000</td>\n",
       "      <td>15037.000000</td>\n",
       "      <td>191.570000</td>\n",
       "      <td>16793.000000</td>\n",
       "      <td>191.075000</td>\n",
       "      <td>982.000000</td>\n",
       "      <td>2014-08-09 00:00:00</td>\n",
       "      <td>2.982686e+00</td>\n",
       "    </tr>\n",
       "    <tr>\n",
       "      <th>75%</th>\n",
       "      <td>NaN</td>\n",
       "      <td>246.220000</td>\n",
       "      <td>16090.000000</td>\n",
       "      <td>192.550000</td>\n",
       "      <td>18435.000000</td>\n",
       "      <td>192.200000</td>\n",
       "      <td>1060.000000</td>\n",
       "      <td>2014-11-29 00:00:00</td>\n",
       "      <td>2.982686e+00</td>\n",
       "    </tr>\n",
       "    <tr>\n",
       "      <th>max</th>\n",
       "      <td>NaN</td>\n",
       "      <td>248.820000</td>\n",
       "      <td>18492.000000</td>\n",
       "      <td>193.630000</td>\n",
       "      <td>22027.000000</td>\n",
       "      <td>193.880000</td>\n",
       "      <td>1232.000000</td>\n",
       "      <td>2015-06-11 00:00:00</td>\n",
       "      <td>2.982686e+00</td>\n",
       "    </tr>\n",
       "    <tr>\n",
       "      <th>std</th>\n",
       "      <td>NaN</td>\n",
       "      <td>1.727046</td>\n",
       "      <td>1656.133565</td>\n",
       "      <td>1.524028</td>\n",
       "      <td>2433.943191</td>\n",
       "      <td>1.586186</td>\n",
       "      <td>120.246714</td>\n",
       "      <td>NaN</td>\n",
       "      <td>4.445846e-16</td>\n",
       "    </tr>\n",
       "  </tbody>\n",
       "</table>\n",
       "</div>"
      ],
      "text/plain": [
       "             State       HighQ        HighQN        MedQ         MedQN  \\\n",
       "count          449  449.000000    449.000000  449.000000    449.000000   \n",
       "unique           1         NaN           NaN         NaN           NaN   \n",
       "top     California         NaN           NaN         NaN           NaN   \n",
       "freq           449         NaN           NaN         NaN           NaN   \n",
       "mean           NaN  245.376125  14947.073497  191.268909  16769.821826   \n",
       "min            NaN  241.840000  12021.000000  187.850000  12724.000000   \n",
       "25%            NaN  244.480000  13610.000000  190.260000  14826.000000   \n",
       "50%            NaN  245.310000  15037.000000  191.570000  16793.000000   \n",
       "75%            NaN  246.220000  16090.000000  192.550000  18435.000000   \n",
       "max            NaN  248.820000  18492.000000  193.630000  22027.000000   \n",
       "std            NaN    1.727046   1656.133565    1.524028   2433.943191   \n",
       "\n",
       "              LowQ        LowQN                           date     HighQ_var  \n",
       "count   242.000000   449.000000                            449  4.490000e+02  \n",
       "unique         NaN          NaN                            NaN           NaN  \n",
       "top            NaN          NaN                            NaN           NaN  \n",
       "freq           NaN          NaN                            NaN           NaN  \n",
       "mean    190.795992   976.298441  2014-08-14 12:59:19.910913024  2.982686e+00  \n",
       "min     187.830000   770.000000            2013-12-27 00:00:00  2.982686e+00  \n",
       "25%     189.420000   878.000000            2014-04-18 00:00:00  2.982686e+00  \n",
       "50%     191.075000   982.000000            2014-08-09 00:00:00  2.982686e+00  \n",
       "75%     192.200000  1060.000000            2014-11-29 00:00:00  2.982686e+00  \n",
       "max     193.880000  1232.000000            2015-06-11 00:00:00  2.982686e+00  \n",
       "std       1.586186   120.246714                            NaN  4.445846e-16  "
      ]
     },
     "execution_count": 81,
     "metadata": {},
     "output_type": "execute_result"
    }
   ],
   "source": [
    "cali = prices_pd[prices_pd[\"State\"]==\"California\"]\n",
    "cali.describe(include='all')"
   ]
  },
  {
   "cell_type": "markdown",
   "metadata": {},
   "source": [
    "<font color=\"RED\" size=\"+1\">**[Q]**</font> **Matrice de corrélation**\n",
    "\n",
    "\n",
    "Nous allons maintenant nous intéresser à calculer la corrélation entre les prix à New York et les prix en Californie.\n",
    "\n",
    "Commencer par représenter le nuage des points des prix (par date) en Californie (axe $X$) et à New York (axe $Y$) pour la bonne qualité.\n",
    "\n",
    "Pour cela,  on commence par créer un DataFrame avec ces informations:"
   ]
  },
  {
   "cell_type": "code",
   "execution_count": null,
   "metadata": {},
   "outputs": [
    {
     "data": {
      "text/html": [
       "<div>\n",
       "<style scoped>\n",
       "    .dataframe tbody tr th:only-of-type {\n",
       "        vertical-align: middle;\n",
       "    }\n",
       "\n",
       "    .dataframe tbody tr th {\n",
       "        vertical-align: top;\n",
       "    }\n",
       "\n",
       "    .dataframe thead th {\n",
       "        text-align: right;\n",
       "    }\n",
       "</style>\n",
       "<table border=\"1\" class=\"dataframe\">\n",
       "  <thead>\n",
       "    <tr style=\"text-align: right;\">\n",
       "      <th></th>\n",
       "      <th>State_x</th>\n",
       "      <th>HighQ_x</th>\n",
       "      <th>HighQN_x</th>\n",
       "      <th>MedQ_x</th>\n",
       "      <th>MedQN_x</th>\n",
       "      <th>LowQ_x</th>\n",
       "      <th>LowQN_x</th>\n",
       "      <th>date</th>\n",
       "      <th>HighQ_var_x</th>\n",
       "      <th>State_y</th>\n",
       "      <th>HighQ_y</th>\n",
       "      <th>HighQN_y</th>\n",
       "      <th>MedQ_y</th>\n",
       "      <th>MedQN_y</th>\n",
       "      <th>LowQ_y</th>\n",
       "      <th>LowQN_y</th>\n",
       "      <th>HighQ_var_y</th>\n",
       "    </tr>\n",
       "  </thead>\n",
       "  <tbody>\n",
       "    <tr>\n",
       "      <th>0</th>\n",
       "      <td>California</td>\n",
       "      <td>248.78</td>\n",
       "      <td>12096</td>\n",
       "      <td>193.56</td>\n",
       "      <td>12812</td>\n",
       "      <td>192.92</td>\n",
       "      <td>778</td>\n",
       "      <td>2014-01-01</td>\n",
       "      <td>2.982686</td>\n",
       "      <td>New York</td>\n",
       "      <td>351.98</td>\n",
       "      <td>5800</td>\n",
       "      <td>268.88</td>\n",
       "      <td>5824</td>\n",
       "      <td>190.38</td>\n",
       "      <td>482</td>\n",
       "      <td>12.245147</td>\n",
       "    </tr>\n",
       "    <tr>\n",
       "      <th>1</th>\n",
       "      <td>California</td>\n",
       "      <td>243.96</td>\n",
       "      <td>16512</td>\n",
       "      <td>189.35</td>\n",
       "      <td>19151</td>\n",
       "      <td>NaN</td>\n",
       "      <td>1096</td>\n",
       "      <td>2015-01-01</td>\n",
       "      <td>2.982686</td>\n",
       "      <td>New York</td>\n",
       "      <td>343.80</td>\n",
       "      <td>7840</td>\n",
       "      <td>263.56</td>\n",
       "      <td>8716</td>\n",
       "      <td>NaN</td>\n",
       "      <td>616</td>\n",
       "      <td>12.245147</td>\n",
       "    </tr>\n",
       "    <tr>\n",
       "      <th>2</th>\n",
       "      <td>California</td>\n",
       "      <td>248.20</td>\n",
       "      <td>12571</td>\n",
       "      <td>192.80</td>\n",
       "      <td>13406</td>\n",
       "      <td>191.94</td>\n",
       "      <td>804</td>\n",
       "      <td>2014-02-01</td>\n",
       "      <td>2.982686</td>\n",
       "      <td>New York</td>\n",
       "      <td>352.35</td>\n",
       "      <td>6051</td>\n",
       "      <td>268.50</td>\n",
       "      <td>6115</td>\n",
       "      <td>190.16</td>\n",
       "      <td>497</td>\n",
       "      <td>12.245147</td>\n",
       "    </tr>\n",
       "    <tr>\n",
       "      <th>3</th>\n",
       "      <td>California</td>\n",
       "      <td>243.30</td>\n",
       "      <td>16904</td>\n",
       "      <td>188.95</td>\n",
       "      <td>19764</td>\n",
       "      <td>NaN</td>\n",
       "      <td>1123</td>\n",
       "      <td>2015-02-01</td>\n",
       "      <td>2.982686</td>\n",
       "      <td>New York</td>\n",
       "      <td>343.09</td>\n",
       "      <td>8058</td>\n",
       "      <td>262.93</td>\n",
       "      <td>9015</td>\n",
       "      <td>NaN</td>\n",
       "      <td>628</td>\n",
       "      <td>12.245147</td>\n",
       "    </tr>\n",
       "    <tr>\n",
       "      <th>4</th>\n",
       "      <td>California</td>\n",
       "      <td>247.60</td>\n",
       "      <td>12988</td>\n",
       "      <td>192.97</td>\n",
       "      <td>13906</td>\n",
       "      <td>191.40</td>\n",
       "      <td>839</td>\n",
       "      <td>2014-03-01</td>\n",
       "      <td>2.982686</td>\n",
       "      <td>New York</td>\n",
       "      <td>351.18</td>\n",
       "      <td>6209</td>\n",
       "      <td>267.69</td>\n",
       "      <td>6356</td>\n",
       "      <td>189.64</td>\n",
       "      <td>507</td>\n",
       "      <td>12.245147</td>\n",
       "    </tr>\n",
       "  </tbody>\n",
       "</table>\n",
       "</div>"
      ],
      "text/plain": [
       "      State_x  HighQ_x  HighQN_x  MedQ_x  MedQN_x  LowQ_x  LowQN_x       date  \\\n",
       "0  California   248.78     12096  193.56    12812  192.92      778 2014-01-01   \n",
       "1  California   243.96     16512  189.35    19151     NaN     1096 2015-01-01   \n",
       "2  California   248.20     12571  192.80    13406  191.94      804 2014-02-01   \n",
       "3  California   243.30     16904  188.95    19764     NaN     1123 2015-02-01   \n",
       "4  California   247.60     12988  192.97    13906  191.40      839 2014-03-01   \n",
       "\n",
       "   HighQ_var_x   State_y  HighQ_y  HighQN_y  MedQ_y  MedQN_y  LowQ_y  LowQN_y  \\\n",
       "0     2.982686  New York   351.98      5800  268.88     5824  190.38      482   \n",
       "1     2.982686  New York   343.80      7840  263.56     8716     NaN      616   \n",
       "2     2.982686  New York   352.35      6051  268.50     6115  190.16      497   \n",
       "3     2.982686  New York   343.09      8058  262.93     9015     NaN      628   \n",
       "4     2.982686  New York   351.18      6209  267.69     6356  189.64      507   \n",
       "\n",
       "   HighQ_var_y  \n",
       "0    12.245147  \n",
       "1    12.245147  \n",
       "2    12.245147  \n",
       "3    12.245147  \n",
       "4    12.245147  "
      ]
     },
     "execution_count": 82,
     "metadata": {},
     "output_type": "execute_result"
    }
   ],
   "source": [
    "prix_ny=prices_pd[prices_pd['State']=='New York']\n",
    "prix_ca=prices_pd[prices_pd['State']=='California']\n",
    "prix_ca_ny=prix_ca.merge(prix_ny,on='date')\n",
    "prix_ca_ny.head()\n",
    "\n",
    "# Exécuter cette boîte et commenter le résultat obtenu\n",
    "#Ce code permet de faire une jointure entre les tables CA et NY au niveau de la date"
   ]
  },
  {
   "cell_type": "markdown",
   "metadata": {},
   "source": [
    "<font color=\"RED\" size=\"+1\">**[Q]**</font> **Nuages de points**\n",
    "\n",
    "\n",
    "Représenter graphiquement le nuage des points : voir <http://matplotlib.org/examples/shapes_and_collections/scatter_demo.html>"
   ]
  },
  {
   "cell_type": "code",
   "execution_count": 100,
   "metadata": {},
   "outputs": [
    {
     "data": {
      "text/plain": [
       "<matplotlib.collections.PathCollection at 0x771dddfd9ca0>"
      ]
     },
     "execution_count": 100,
     "metadata": {},
     "output_type": "execute_result"
    },
    {
     "data": {
      "image/png": "[encoded data removed]",
      "text/plain": [
       "<Figure size 640x480 with 1 Axes>"
      ]
     },
     "metadata": {},
     "output_type": "display_data"
    }
   ],
   "source": [
    "x = prix_ca_ny[\"HighQ_x\"]\n",
    "y = prix_ca_ny[\"HighQ_y\"]\n",
    "plt.scatter(x.values, y.values, s=1)"
   ]
  },
  {
   "cell_type": "code",
   "execution_count": 38,
   "metadata": {},
   "outputs": [
    {
     "data": {
      "image/png": "[encoded data removed]",
      "text/plain": [
       "<Figure size 640x480 with 1 Axes>"
      ]
     },
     "metadata": {},
     "output_type": "display_data"
    }
   ],
   "source": []
  },
  {
   "cell_type": "code",
   "execution_count": 101,
   "metadata": {},
   "outputs": [
    {
     "data": {
      "text/plain": [
       "<matplotlib.collections.PathCollection at 0x771dd6878bc0>"
      ]
     },
     "execution_count": 101,
     "metadata": {},
     "output_type": "execute_result"
    },
    {
     "data": {
      "image/png": "[encoded data removed]",
      "text/plain": [
       "<Figure size 640x480 with 1 Axes>"
      ]
     },
     "metadata": {},
     "output_type": "display_data"
    }
   ],
   "source": [
    "x = prix_ca_ny[\"MedQ_x\"]\n",
    "y = prix_ca_ny[\"MedQ_y\"]\n",
    "plt.scatter(x.values, y.values, s=1)"
   ]
  },
  {
   "cell_type": "code",
   "execution_count": 39,
   "metadata": {},
   "outputs": [
    {
     "data": {
      "image/png": "[encoded data removed]",
      "text/plain": [
       "<Figure size 640x480 with 1 Axes>"
      ]
     },
     "metadata": {},
     "output_type": "display_data"
    }
   ],
   "source": []
  },
  {
   "cell_type": "code",
   "execution_count": 102,
   "metadata": {},
   "outputs": [
    {
     "data": {
      "text/plain": [
       "<matplotlib.collections.PathCollection at 0x771dcf7d1fa0>"
      ]
     },
     "execution_count": 102,
     "metadata": {},
     "output_type": "execute_result"
    },
    {
     "data": {
      "image/png": "[encoded data removed]",
      "text/plain": [
       "<Figure size 640x480 with 1 Axes>"
      ]
     },
     "metadata": {},
     "output_type": "display_data"
    }
   ],
   "source": [
    "x = prix_ca_ny[\"LowQ_x\"]\n",
    "y = prix_ca_ny[\"LowQ_y\"]\n",
    "plt.scatter(x.values, y.values, s=1)"
   ]
  },
  {
   "cell_type": "code",
   "execution_count": 40,
   "metadata": {},
   "outputs": [
    {
     "data": {
      "image/png": "[encoded data removed]",
      "text/plain": [
       "<Figure size 640x480 with 1 Axes>"
      ]
     },
     "metadata": {},
     "output_type": "display_data"
    }
   ],
   "source": []
  },
  {
   "cell_type": "markdown",
   "metadata": {},
   "source": [
    "<font color=\"RED\" size=\"+1\">**[Q]**</font> **Corrélations**\n",
    "\n",
    "A l'aide de la fonction `moyenne` écrite précédemment, écrire une fonction `correlation(X,Y)` qui calcule la corrélation lineaire entre deux variables $X$ et $Y$ fournis sous la forme de deux tableaux Numpy.\n",
    "\n",
    "Remarque: coefficient de corrélation linéaire de deux variables $X$ et $Y$ (on choisit le coefficient de Pearson):\n",
    "$$c = \\frac{cov(X,Y)}{\\sigma_X \\sigma_Y}$$\n",
    "\n",
    "avec les définitions suivantes:\n",
    "- $cov(X,Y)= \\frac{1}{n}\\sum_{i=1}^{n} (x_i-\\bar{X})(y_i-\\bar{Y})$: mesure de covariance entre $X$ et $Y$ qui contiennent chacune $n$ valeurs, et de moyenne $\\bar{X}$ et $\\bar{Y}$ respectivement.\n",
    "- $\\sigma_X = \\sqrt{\\frac{1}{n}\\sum_{i=1}^{n}(x_i - \\bar{X})^2}$: écart-type de la variable $X$ (resp. $\\sigma_Y$ pour la variable $Y$).\n",
    "\n",
    "\n",
    "**Remarque 2: il ne doit pas y avoir de boucle (for, while, compréhension) dans votre fonction...**"
   ]
  },
  {
   "cell_type": "code",
   "execution_count": 126,
   "metadata": {},
   "outputs": [],
   "source": [
    "def correlation(X, Y):\n",
    "    moy_x = moyenne(X)\n",
    "    moy_y = moyenne(Y)\n",
    "    n = X.size\n",
    "    up = np.sum((X-moy_x)*(Y-moy_y))/n\n",
    "    print(\"covariance\",up)\n",
    "    ect_x = np.sqrt((np.sum((X-moy_x)**2))/n)\n",
    "    ect_y = np.sqrt((np.sum((Y-moy_y)**2))/n)\n",
    "    print(ect_x, ect_y)\n",
    "    down  = ect_x * ect_y\n",
    "    return up/down"
   ]
  },
  {
   "cell_type": "code",
   "execution_count": 127,
   "metadata": {},
   "outputs": [
    {
     "name": "stdout",
     "output_type": "stream",
     "text": [
      "covariance 5.903637205668625\n",
      "1.725121252002434 3.4954077335603095\n",
      "Correlation de HighQ_x et HighQ_y : 0.979044\n"
     ]
    }
   ],
   "source": [
    "# Appliquer votre fonction avec l'instruction suivante:\n",
    "\n",
    "print(\"Correlation de HighQ_x et HighQ_y : %f\"%correlation(prix_ca_ny[\"HighQ_x\"].values,prix_ca_ny[\"HighQ_y\"].values))"
   ]
  },
  {
   "cell_type": "code",
   "execution_count": 42,
   "metadata": {},
   "outputs": [
    {
     "name": "stdout",
     "output_type": "stream",
     "text": [
      "Affichage des valeurs intermédiaire pour tester :\n",
      "\tCovariance:  5.903637205668625\n",
      "\tEcart-type pour X:  1.725121252002434\n",
      "\tEcart-type pour Y:  3.4954077335603095\n",
      "Correlation de HighQ_x et HighQ_y : 0.979044\n"
     ]
    }
   ],
   "source": [
    "# Appliquer votre fonction avec l'instruction suivante:\n",
    "\n",
    "print(\"Correlation de HighQ_x et HighQ_y : %f\"%correlation(prix_ca_ny[\"HighQ_x\"].values,prix_ca_ny[\"HighQ_y\"].values))"
   ]
  },
  {
   "cell_type": "markdown",
   "metadata": {},
   "source": [
    "<font color=\"RED\" size=\"+1\">**[Q]**</font> Compléter la ligne suivante pour obtenir le résultat fourni par la fonction pandas `corr`.\n",
    "\n"
   ]
  },
  {
   "cell_type": "code",
   "execution_count": 128,
   "metadata": {},
   "outputs": [
    {
     "data": {
      "text/html": [
       "<div>\n",
       "<style scoped>\n",
       "    .dataframe tbody tr th:only-of-type {\n",
       "        vertical-align: middle;\n",
       "    }\n",
       "\n",
       "    .dataframe tbody tr th {\n",
       "        vertical-align: top;\n",
       "    }\n",
       "\n",
       "    .dataframe thead th {\n",
       "        text-align: right;\n",
       "    }\n",
       "</style>\n",
       "<table border=\"1\" class=\"dataframe\">\n",
       "  <thead>\n",
       "    <tr style=\"text-align: right;\">\n",
       "      <th></th>\n",
       "      <th>HighQ_x</th>\n",
       "      <th>HighQ_y</th>\n",
       "    </tr>\n",
       "  </thead>\n",
       "  <tbody>\n",
       "    <tr>\n",
       "      <th>HighQ_x</th>\n",
       "      <td>1.000000</td>\n",
       "      <td>0.979044</td>\n",
       "    </tr>\n",
       "    <tr>\n",
       "      <th>HighQ_y</th>\n",
       "      <td>0.979044</td>\n",
       "      <td>1.000000</td>\n",
       "    </tr>\n",
       "  </tbody>\n",
       "</table>\n",
       "</div>"
      ],
      "text/plain": [
       "          HighQ_x   HighQ_y\n",
       "HighQ_x  1.000000  0.979044\n",
       "HighQ_y  0.979044  1.000000"
      ]
     },
     "execution_count": 128,
     "metadata": {},
     "output_type": "execute_result"
    }
   ],
   "source": [
    "# A COMPLETER :\n",
    "prix_ca_ny[[\"HighQ_x\",\"HighQ_y\"]].corr()\n",
    "\n"
   ]
  },
  {
   "cell_type": "markdown",
   "metadata": {},
   "source": [
    "<font color=\"RED\" size=\"+1\">**[Q]**</font> **Matrice de corrélations**\n",
    "\n",
    "Calculer la matrice des corrélations pour toutes les combinaisons d'états."
   ]
  },
  {
   "cell_type": "code",
   "execution_count": 44,
   "metadata": {},
   "outputs": [
    {
     "data": {
      "text/html": [
       "<div>\n",
       "<style scoped>\n",
       "    .dataframe tbody tr th:only-of-type {\n",
       "        vertical-align: middle;\n",
       "    }\n",
       "\n",
       "    .dataframe tbody tr th {\n",
       "        vertical-align: top;\n",
       "    }\n",
       "\n",
       "    .dataframe thead th {\n",
       "        text-align: right;\n",
       "    }\n",
       "</style>\n",
       "<table border=\"1\" class=\"dataframe\">\n",
       "  <thead>\n",
       "    <tr style=\"text-align: right;\">\n",
       "      <th></th>\n",
       "      <th>HighQ_x</th>\n",
       "      <th>HighQN_x</th>\n",
       "      <th>MedQ_x</th>\n",
       "      <th>MedQN_x</th>\n",
       "      <th>LowQ_x</th>\n",
       "      <th>LowQN_x</th>\n",
       "      <th>HighQ_y</th>\n",
       "      <th>HighQN_y</th>\n",
       "      <th>MedQ_y</th>\n",
       "      <th>MedQN_y</th>\n",
       "      <th>LowQ_y</th>\n",
       "      <th>LowQN_y</th>\n",
       "    </tr>\n",
       "  </thead>\n",
       "  <tbody>\n",
       "    <tr>\n",
       "      <th>HighQ_x</th>\n",
       "      <td>1.000000</td>\n",
       "      <td>-0.982854</td>\n",
       "      <td>0.946719</td>\n",
       "      <td>-0.980028</td>\n",
       "      <td>0.782783</td>\n",
       "      <td>-0.984319</td>\n",
       "      <td>0.979044</td>\n",
       "      <td>-0.976668</td>\n",
       "      <td>0.989382</td>\n",
       "      <td>-0.977453</td>\n",
       "      <td>-0.932566</td>\n",
       "      <td>-0.974094</td>\n",
       "    </tr>\n",
       "    <tr>\n",
       "      <th>HighQN_x</th>\n",
       "      <td>-0.982854</td>\n",
       "      <td>1.000000</td>\n",
       "      <td>-0.973784</td>\n",
       "      <td>0.999186</td>\n",
       "      <td>-0.895365</td>\n",
       "      <td>0.999122</td>\n",
       "      <td>-0.987104</td>\n",
       "      <td>0.998151</td>\n",
       "      <td>-0.993179</td>\n",
       "      <td>0.998514</td>\n",
       "      <td>0.873900</td>\n",
       "      <td>0.997927</td>\n",
       "    </tr>\n",
       "    <tr>\n",
       "      <th>MedQ_x</th>\n",
       "      <td>0.946719</td>\n",
       "      <td>-0.973784</td>\n",
       "      <td>1.000000</td>\n",
       "      <td>-0.979122</td>\n",
       "      <td>0.820507</td>\n",
       "      <td>-0.975646</td>\n",
       "      <td>0.957568</td>\n",
       "      <td>-0.978808</td>\n",
       "      <td>0.963848</td>\n",
       "      <td>-0.979311</td>\n",
       "      <td>-0.797989</td>\n",
       "      <td>-0.976565</td>\n",
       "    </tr>\n",
       "    <tr>\n",
       "      <th>MedQN_x</th>\n",
       "      <td>-0.980028</td>\n",
       "      <td>0.999186</td>\n",
       "      <td>-0.979122</td>\n",
       "      <td>1.000000</td>\n",
       "      <td>-0.895556</td>\n",
       "      <td>0.999201</td>\n",
       "      <td>-0.987791</td>\n",
       "      <td>0.999322</td>\n",
       "      <td>-0.992846</td>\n",
       "      <td>0.999693</td>\n",
       "      <td>0.875562</td>\n",
       "      <td>0.998666</td>\n",
       "    </tr>\n",
       "    <tr>\n",
       "      <th>LowQ_x</th>\n",
       "      <td>0.782783</td>\n",
       "      <td>-0.895365</td>\n",
       "      <td>0.820507</td>\n",
       "      <td>-0.895556</td>\n",
       "      <td>1.000000</td>\n",
       "      <td>-0.897104</td>\n",
       "      <td>0.882252</td>\n",
       "      <td>-0.894950</td>\n",
       "      <td>0.803564</td>\n",
       "      <td>-0.897553</td>\n",
       "      <td>-0.640802</td>\n",
       "      <td>-0.894443</td>\n",
       "    </tr>\n",
       "    <tr>\n",
       "      <th>LowQN_x</th>\n",
       "      <td>-0.984319</td>\n",
       "      <td>0.999122</td>\n",
       "      <td>-0.975646</td>\n",
       "      <td>0.999201</td>\n",
       "      <td>-0.897104</td>\n",
       "      <td>1.000000</td>\n",
       "      <td>-0.989216</td>\n",
       "      <td>0.997727</td>\n",
       "      <td>-0.992864</td>\n",
       "      <td>0.998349</td>\n",
       "      <td>0.871484</td>\n",
       "      <td>0.996971</td>\n",
       "    </tr>\n",
       "    <tr>\n",
       "      <th>HighQ_y</th>\n",
       "      <td>0.979044</td>\n",
       "      <td>-0.987104</td>\n",
       "      <td>0.957568</td>\n",
       "      <td>-0.987791</td>\n",
       "      <td>0.882252</td>\n",
       "      <td>-0.989216</td>\n",
       "      <td>1.000000</td>\n",
       "      <td>-0.988137</td>\n",
       "      <td>0.984437</td>\n",
       "      <td>-0.988077</td>\n",
       "      <td>-0.869366</td>\n",
       "      <td>-0.984466</td>\n",
       "    </tr>\n",
       "    <tr>\n",
       "      <th>HighQN_y</th>\n",
       "      <td>-0.976668</td>\n",
       "      <td>0.998151</td>\n",
       "      <td>-0.978808</td>\n",
       "      <td>0.999322</td>\n",
       "      <td>-0.894950</td>\n",
       "      <td>0.997727</td>\n",
       "      <td>-0.988137</td>\n",
       "      <td>1.000000</td>\n",
       "      <td>-0.992520</td>\n",
       "      <td>0.999836</td>\n",
       "      <td>0.869745</td>\n",
       "      <td>0.999008</td>\n",
       "    </tr>\n",
       "    <tr>\n",
       "      <th>MedQ_y</th>\n",
       "      <td>0.989382</td>\n",
       "      <td>-0.993179</td>\n",
       "      <td>0.963848</td>\n",
       "      <td>-0.992846</td>\n",
       "      <td>0.803564</td>\n",
       "      <td>-0.992864</td>\n",
       "      <td>0.984437</td>\n",
       "      <td>-0.992520</td>\n",
       "      <td>1.000000</td>\n",
       "      <td>-0.992488</td>\n",
       "      <td>-0.925460</td>\n",
       "      <td>-0.990890</td>\n",
       "    </tr>\n",
       "    <tr>\n",
       "      <th>MedQN_y</th>\n",
       "      <td>-0.977453</td>\n",
       "      <td>0.998514</td>\n",
       "      <td>-0.979311</td>\n",
       "      <td>0.999693</td>\n",
       "      <td>-0.897553</td>\n",
       "      <td>0.998349</td>\n",
       "      <td>-0.988077</td>\n",
       "      <td>0.999836</td>\n",
       "      <td>-0.992488</td>\n",
       "      <td>1.000000</td>\n",
       "      <td>0.869437</td>\n",
       "      <td>0.998971</td>\n",
       "    </tr>\n",
       "    <tr>\n",
       "      <th>LowQ_y</th>\n",
       "      <td>-0.932566</td>\n",
       "      <td>0.873900</td>\n",
       "      <td>-0.797989</td>\n",
       "      <td>0.875562</td>\n",
       "      <td>-0.640802</td>\n",
       "      <td>0.871484</td>\n",
       "      <td>-0.869366</td>\n",
       "      <td>0.869745</td>\n",
       "      <td>-0.925460</td>\n",
       "      <td>0.869437</td>\n",
       "      <td>1.000000</td>\n",
       "      <td>0.868748</td>\n",
       "    </tr>\n",
       "    <tr>\n",
       "      <th>LowQN_y</th>\n",
       "      <td>-0.974094</td>\n",
       "      <td>0.997927</td>\n",
       "      <td>-0.976565</td>\n",
       "      <td>0.998666</td>\n",
       "      <td>-0.894443</td>\n",
       "      <td>0.996971</td>\n",
       "      <td>-0.984466</td>\n",
       "      <td>0.999008</td>\n",
       "      <td>-0.990890</td>\n",
       "      <td>0.998971</td>\n",
       "      <td>0.868748</td>\n",
       "      <td>1.000000</td>\n",
       "    </tr>\n",
       "  </tbody>\n",
       "</table>\n",
       "</div>"
      ],
      "text/plain": [
       "           HighQ_x  HighQN_x    MedQ_x   MedQN_x    LowQ_x   LowQN_x  \\\n",
       "HighQ_x   1.000000 -0.982854  0.946719 -0.980028  0.782783 -0.984319   \n",
       "HighQN_x -0.982854  1.000000 -0.973784  0.999186 -0.895365  0.999122   \n",
       "MedQ_x    0.946719 -0.973784  1.000000 -0.979122  0.820507 -0.975646   \n",
       "MedQN_x  -0.980028  0.999186 -0.979122  1.000000 -0.895556  0.999201   \n",
       "LowQ_x    0.782783 -0.895365  0.820507 -0.895556  1.000000 -0.897104   \n",
       "LowQN_x  -0.984319  0.999122 -0.975646  0.999201 -0.897104  1.000000   \n",
       "HighQ_y   0.979044 -0.987104  0.957568 -0.987791  0.882252 -0.989216   \n",
       "HighQN_y -0.976668  0.998151 -0.978808  0.999322 -0.894950  0.997727   \n",
       "MedQ_y    0.989382 -0.993179  0.963848 -0.992846  0.803564 -0.992864   \n",
       "MedQN_y  -0.977453  0.998514 -0.979311  0.999693 -0.897553  0.998349   \n",
       "LowQ_y   -0.932566  0.873900 -0.797989  0.875562 -0.640802  0.871484   \n",
       "LowQN_y  -0.974094  0.997927 -0.976565  0.998666 -0.894443  0.996971   \n",
       "\n",
       "           HighQ_y  HighQN_y    MedQ_y   MedQN_y    LowQ_y   LowQN_y  \n",
       "HighQ_x   0.979044 -0.976668  0.989382 -0.977453 -0.932566 -0.974094  \n",
       "HighQN_x -0.987104  0.998151 -0.993179  0.998514  0.873900  0.997927  \n",
       "MedQ_x    0.957568 -0.978808  0.963848 -0.979311 -0.797989 -0.976565  \n",
       "MedQN_x  -0.987791  0.999322 -0.992846  0.999693  0.875562  0.998666  \n",
       "LowQ_x    0.882252 -0.894950  0.803564 -0.897553 -0.640802 -0.894443  \n",
       "LowQN_x  -0.989216  0.997727 -0.992864  0.998349  0.871484  0.996971  \n",
       "HighQ_y   1.000000 -0.988137  0.984437 -0.988077 -0.869366 -0.984466  \n",
       "HighQN_y -0.988137  1.000000 -0.992520  0.999836  0.869745  0.999008  \n",
       "MedQ_y    0.984437 -0.992520  1.000000 -0.992488 -0.925460 -0.990890  \n",
       "MedQN_y  -0.988077  0.999836 -0.992488  1.000000  0.869437  0.998971  \n",
       "LowQ_y   -0.869366  0.869745 -0.925460  0.869437  1.000000  0.868748  \n",
       "LowQN_y  -0.984466  0.999008 -0.990890  0.998971  0.868748  1.000000  "
      ]
     },
     "execution_count": 44,
     "metadata": {},
     "output_type": "execute_result"
    }
   ],
   "source": []
  },
  {
   "cell_type": "markdown",
   "metadata": {},
   "source": [
    "<font color=\"RED\" size=\"+1\">**[Q]**</font> **D'autres corrélations...**\n",
    "\n",
    "\n",
    "Calculer les correlations entre le prix (<tt>low</tt> et <tt>high</tt>) en fonction du revenu moyen par état disponible dans le tableau <tt>demography_pd</tt> chargé au début de cette feuille Jupyter. \n",
    "\n",
    "Que peut-on en conclure ?"
   ]
  },
  {
   "cell_type": "code",
   "execution_count": null,
   "metadata": {},
   "outputs": [],
   "source": []
  }
 ],
 "metadata": {
  "kernelspec": {
   "display_name": "Python 3",
   "language": "python",
   "name": "python3"
  },
  "language_info": {
   "codemirror_mode": {
    "name": "ipython",
    "version": 3
   },
   "file_extension": ".py",
   "mimetype": "text/x-python",
   "name": "python",
   "nbconvert_exporter": "python",
   "pygments_lexer": "ipython3",
   "version": "3.12.3"
  }
 },
 "nbformat": 4,
 "nbformat_minor": 4
}
